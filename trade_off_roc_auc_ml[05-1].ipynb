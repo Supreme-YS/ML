{
 "cells": [
  {
   "cell_type": "code",
   "execution_count": 2,
   "metadata": {},
   "outputs": [],
   "source": [
    "from sklearn.tree         import DecisionTreeClassifier\n",
    "from sklearn.linear_model import LogisticRegression\n",
    "from sklearn.ensemble     import RandomForestClassifier\n",
    "\n",
    "from sklearn.preprocessing   import LabelEncoder , OneHotEncoder , StandardScaler , MinMaxScaler , Binarizer \n",
    "from sklearn.model_selection import train_test_split , GridSearchCV\n",
    "\n",
    "from sklearn.metrics import accuracy_score, precision_score, recall_score, f1_score , roc_auc_score\n",
    "from sklearn.metrics import confusion_matrix, precision_recall_curve , roc_curve\n",
    "\n",
    "import pandas as pd\n",
    "import numpy  as np\n",
    "import matplotlib.pyplot as plt\n",
    "import seaborn as sns\n",
    "\n",
    "import warnings\n",
    "warnings.filterwarnings('ignore')"
   ]
  },
  {
   "cell_type": "code",
   "execution_count": 3,
   "metadata": {},
   "outputs": [],
   "source": [
    "titanic = pd.read_csv('./data/titanic_train.csv')"
   ]
  },
  {
   "cell_type": "code",
   "execution_count": 4,
   "metadata": {},
   "outputs": [],
   "source": [
    "titanic_label = titanic['Survived']\n",
    "titanic_data  = titanic.drop(['Survived'], axis = 1)"
   ]
  },
  {
   "cell_type": "code",
   "execution_count": 5,
   "metadata": {},
   "outputs": [],
   "source": [
    "from sklearn.preprocessing import LabelEncoder\n",
    "\n",
    "# 레이블 인코딩 Cabin , Sex , Embarked\n",
    "def drop_features(frm):\n",
    "    frm.drop(['PassengerId', 'Name', 'Ticket'], axis=1, inplace=True)\n",
    "    return frm\n",
    "\n",
    "\n",
    "def pre_processing(frm):\n",
    "    frm['Age'].fillna(frm['Age'].mean(), inplace=True)\n",
    "    frm['Cabin'].fillna('N', inplace=True)\n",
    "    frm['Embarked'].fillna('N', inplace=True)\n",
    "    return frm\n",
    "\n",
    "\n",
    "def label_encoder(frm):\n",
    "    frm['Cabin'] = frm['Cabin'].str[:1]\n",
    "    features = ['Cabin', 'Sex', 'Embarked']\n",
    "    for feature in features:\n",
    "        encoder = LabelEncoder()\n",
    "        encoder.fit(frm[feature])\n",
    "        frm[feature] = encoder.transform(frm[feature])\n",
    "    return frm\n",
    "\n",
    "def transform_features(frm):\n",
    "    frm = drop_features(frm)\n",
    "    frm = pre_processing(frm)\n",
    "    frm = label_encoder(frm)\n",
    "    return frm"
   ]
  },
  {
   "cell_type": "code",
   "execution_count": 6,
   "metadata": {},
   "outputs": [],
   "source": [
    "titanic_data_feature = transform_features(titanic_data)"
   ]
  },
  {
   "cell_type": "code",
   "execution_count": 7,
   "metadata": {},
   "outputs": [],
   "source": [
    "def metrics_evaluation(y_test, y_pred):\n",
    "    print(\"정확도(Accuracy) : {}\\n정밀도(Precision) : {}\\n재현율(Recall) : {}\\n조화평균(F1) : {}\"\n",
    "         .format(accuracy_score(y_test, y_pred),\n",
    "                 precision_score(y_test, y_pred),\n",
    "                 recall_score(y_test, y_pred),\n",
    "                 f1_score(y_test, y_pred)))"
   ]
  },
  {
   "cell_type": "code",
   "execution_count": 8,
   "metadata": {},
   "outputs": [],
   "source": [
    "X_train, X_test, y_train, y_test = train_test_split(titanic_data_feature,\n",
    "                                                    titanic_label,\n",
    "                                                   test_size = 0.2,\n",
    "                                                   random_state = 10)"
   ]
  },
  {
   "cell_type": "code",
   "execution_count": 9,
   "metadata": {},
   "outputs": [
    {
     "data": {
      "text/plain": [
       "LogisticRegression()"
      ]
     },
     "execution_count": 9,
     "metadata": {},
     "output_type": "execute_result"
    }
   ],
   "source": [
    "logistic_model = LogisticRegression()\n",
    "# 학습\n",
    "logistic_model.fit(X_train, y_train)"
   ]
  },
  {
   "cell_type": "code",
   "execution_count": 11,
   "metadata": {},
   "outputs": [],
   "source": [
    "# 예측\n",
    "y_pred = logistic_model.predict(X_test)"
   ]
  },
  {
   "cell_type": "code",
   "execution_count": 12,
   "metadata": {},
   "outputs": [],
   "source": [
    "# 확률예측 값\n",
    "y_pred_proba = logistic_model.predict_proba(X_test)"
   ]
  },
  {
   "cell_type": "code",
   "execution_count": 13,
   "metadata": {},
   "outputs": [
    {
     "name": "stdout",
     "output_type": "stream",
     "text": [
      "(179,)\n",
      "(179, 2)\n"
     ]
    }
   ],
   "source": [
    "# 예측값과 예측확률 결과를 병합\n",
    "print(y_pred.shape)\n",
    "print(y_pred_proba.shape)"
   ]
  },
  {
   "cell_type": "code",
   "execution_count": 14,
   "metadata": {},
   "outputs": [],
   "source": [
    "y_pred = y_pred.reshape(-1,1)"
   ]
  },
  {
   "cell_type": "code",
   "execution_count": 15,
   "metadata": {},
   "outputs": [],
   "source": [
    "pred_proba_result = np.concatenate([y_pred_proba, y_pred.reshape(-1,1)], axis=1)"
   ]
  },
  {
   "cell_type": "code",
   "execution_count": 17,
   "metadata": {},
   "outputs": [
    {
     "name": "stdout",
     "output_type": "stream",
     "text": [
      "정확도(Accuracy) : 0.8268156424581006\n",
      "정밀도(Precision) : 0.746031746031746\n",
      "재현율(Recall) : 0.7580645161290323\n",
      "조화평균(F1) : 0.752\n"
     ]
    }
   ],
   "source": [
    "metrics_evaluation(y_test, y_pred)"
   ]
  },
  {
   "cell_type": "code",
   "execution_count": 18,
   "metadata": {},
   "outputs": [],
   "source": [
    "user_th = 0.3\n",
    "y_pred_proba_01 = y_pred_proba[: , 1].reshape(-1,1)\n",
    "user_pred = Binarizer(threshold = user_th).fit_transform(y_pred_proba_01)"
   ]
  },
  {
   "cell_type": "code",
   "execution_count": 19,
   "metadata": {},
   "outputs": [
    {
     "name": "stdout",
     "output_type": "stream",
     "text": [
      "정확도(Accuracy) : 0.7932960893854749\n",
      "정밀도(Precision) : 0.6582278481012658\n",
      "재현율(Recall) : 0.8387096774193549\n",
      "조화평균(F1) : 0.7375886524822695\n"
     ]
    }
   ],
   "source": [
    "metrics_evaluation(y_test, user_pred)"
   ]
  },
  {
   "cell_type": "code",
   "execution_count": 20,
   "metadata": {},
   "outputs": [
    {
     "data": {
      "text/plain": [
       "((163,), (163,), (162,))"
      ]
     },
     "execution_count": 20,
     "metadata": {},
     "output_type": "execute_result"
    }
   ],
   "source": [
    "pred_positive_label = logistic_model.predict_proba(X_test)[: , 1]\n",
    "pred_positive_label\n",
    "\n",
    "precision, recall, threshold = precision_recall_curve(y_test, pred_positive_label)\n",
    "precision.shape, recall.shape, threshold.shape"
   ]
  },
  {
   "cell_type": "code",
   "execution_count": 21,
   "metadata": {},
   "outputs": [
    {
     "data": {
      "image/png": "[encoded data removed]",
      "text/plain": [
       "<Figure size 1080x360 with 1 Axes>"
      ]
     },
     "metadata": {
      "needs_background": "light"
     },
     "output_type": "display_data"
    }
   ],
   "source": [
    "# 임계값이 1에 가까우면 TNR 커지고, FPR 작아진다. \n",
    "plt.figure(figsize=(15, 5))\n",
    "\n",
    "plt.plot(threshold, precision[ 0:threshold.shape[0]], linestyle='--', label='precision')\n",
    "plt.plot(threshold, recall[ 0:threshold.shape[0]], linestyle='--', label='recall')\n",
    "\n",
    "plt.xlabel('threshold ratio')\n",
    "plt.ylabel('precision and recall value')\n",
    "\n",
    "plt.legend()\n",
    "plt.grid()\n",
    "\n",
    "plt.show()\n",
    "plt.close()"
   ]
  },
  {
   "cell_type": "markdown",
   "metadata": {},
   "source": [
    "#### 타이타닉 예제"
   ]
  },
  {
   "cell_type": "code",
   "execution_count": 22,
   "metadata": {},
   "outputs": [
    {
     "data": {
      "text/plain": [
       "(179,)"
      ]
     },
     "execution_count": 22,
     "metadata": {},
     "output_type": "execute_result"
    }
   ],
   "source": [
    "pred_positive_label = logistic_model.predict_proba(X_test)[:, 1]\n",
    "pred_positive_label.shape"
   ]
  },
  {
   "cell_type": "code",
   "execution_count": 23,
   "metadata": {},
   "outputs": [],
   "source": [
    "fprs, tprs, thresholds = roc_curve(y_test, pred_positive_label)"
   ]
  },
  {
   "cell_type": "code",
   "execution_count": 24,
   "metadata": {},
   "outputs": [
    {
     "data": {
      "text/plain": [
       "array([ 1,  7, 13, 19, 25, 31, 37, 43, 49, 55])"
      ]
     },
     "execution_count": 24,
     "metadata": {},
     "output_type": "execute_result"
    }
   ],
   "source": [
    "# 샘플 추출\n",
    "thr_idx = np.arange(1, thresholds.shape[0], 6)\n",
    "thr_idx"
   ]
  },
  {
   "cell_type": "code",
   "execution_count": 26,
   "metadata": {},
   "outputs": [
    {
     "data": {
      "text/plain": [
       "array([0.97697207, 0.72682315, 0.65648777, 0.51172271, 0.33020264,\n",
       "       0.2969601 , 0.18767226, 0.12509561, 0.11010609, 0.02698788])"
      ]
     },
     "execution_count": 26,
     "metadata": {},
     "output_type": "execute_result"
    }
   ],
   "source": [
    "thresholds[thr_idx]"
   ]
  },
  {
   "cell_type": "code",
   "execution_count": 27,
   "metadata": {},
   "outputs": [
    {
     "data": {
      "text/plain": [
       "array([0.        , 0.02564103, 0.06837607, 0.13675214, 0.20512821,\n",
       "       0.23931624, 0.37606838, 0.62393162, 0.72649573, 1.        ])"
      ]
     },
     "execution_count": 27,
     "metadata": {},
     "output_type": "execute_result"
    }
   ],
   "source": [
    "fprs[thr_idx]"
   ]
  },
  {
   "cell_type": "code",
   "execution_count": 28,
   "metadata": {},
   "outputs": [
    {
     "data": {
      "text/plain": [
       "array([0.01612903, 0.5       , 0.64516129, 0.75806452, 0.80645161,\n",
       "       0.85483871, 0.88709677, 0.93548387, 0.93548387, 1.        ])"
      ]
     },
     "execution_count": 28,
     "metadata": {},
     "output_type": "execute_result"
    }
   ],
   "source": [
    "tprs[thr_idx]"
   ]
  },
  {
   "cell_type": "code",
   "execution_count": 29,
   "metadata": {},
   "outputs": [
    {
     "data": {
      "image/png": "[encoded data removed]",
      "text/plain": [
       "<Figure size 1080x360 with 1 Axes>"
      ]
     },
     "metadata": {
      "needs_background": "light"
     },
     "output_type": "display_data"
    }
   ],
   "source": [
    "plt.figure(figsize=(15, 5))\n",
    "\n",
    "plt.plot([0,1] , [0,1] , linestyle='--', label='strike')\n",
    "plt.plot(fprs, tprs, linestyle='--', label='ROC')\n",
    "plt.xlabel('FPR')\n",
    "plt.ylabel('TPR')\n",
    "\n",
    "plt.legend()\n",
    "plt.grid()\n",
    "\n",
    "plt.show()\n",
    "plt.close()"
   ]
  },
  {
   "cell_type": "code",
   "execution_count": 30,
   "metadata": {},
   "outputs": [],
   "source": [
    "# AUC 성능평가 확인\n",
    "\n",
    "def metrics_evaluation(y_test, y_pred):\n",
    "    print(\"정확도(Accuracy) : {}\\n정밀도(Precision) : {}\\n재현율(Recall) : {}\\n조화평균(F1) : {}\\nAUC : {}\"\n",
    "         .format(accuracy_score(y_test, y_pred),\n",
    "                 precision_score(y_test, y_pred),\n",
    "                 recall_score(y_test, y_pred),\n",
    "                 f1_score(y_test, y_pred),\n",
    "                 roc_auc_score(y_test, y_pred)))"
   ]
  },
  {
   "cell_type": "code",
   "execution_count": 31,
   "metadata": {},
   "outputs": [
    {
     "name": "stdout",
     "output_type": "stream",
     "text": [
      "정확도(Accuracy) : 0.8268156424581006\n",
      "정밀도(Precision) : 0.746031746031746\n",
      "재현율(Recall) : 0.7580645161290323\n",
      "조화평균(F1) : 0.752\n",
      "AUC : 0.8106561896884479\n"
     ]
    }
   ],
   "source": [
    "metrics_evaluation(y_test, y_pred)"
   ]
  },
  {
   "cell_type": "code",
   "execution_count": null,
   "metadata": {},
   "outputs": [],
   "source": []
  },
  {
   "cell_type": "code",
   "execution_count": null,
   "metadata": {},
   "outputs": [],
   "source": []
  },
  {
   "cell_type": "code",
   "execution_count": null,
   "metadata": {},
   "outputs": [],
   "source": []
  },
  {
   "cell_type": "code",
   "execution_count": null,
   "metadata": {},
   "outputs": [],
   "source": []
  },
  {
   "cell_type": "code",
   "execution_count": null,
   "metadata": {},
   "outputs": [],
   "source": []
  },
  {
   "cell_type": "code",
   "execution_count": null,
   "metadata": {},
   "outputs": [],
   "source": []
  },
  {
   "cell_type": "code",
   "execution_count": null,
   "metadata": {},
   "outputs": [],
   "source": []
  },
  {
   "cell_type": "code",
   "execution_count": null,
   "metadata": {},
   "outputs": [],
   "source": []
  },
  {
   "cell_type": "code",
   "execution_count": null,
   "metadata": {},
   "outputs": [],
   "source": []
  },
  {
   "cell_type": "code",
   "execution_count": null,
   "metadata": {},
   "outputs": [],
   "source": []
  }
 ],
 "metadata": {
  "kernelspec": {
   "display_name": "Python 3",
   "language": "python",
   "name": "python3"
  },
  "language_info": {
   "codemirror_mode": {
    "name": "ipython",
    "version": 3
   },
   "file_extension": ".py",
   "mimetype": "text/x-python",
   "name": "python",
   "nbconvert_exporter": "python",
   "pygments_lexer": "ipython3",
   "version": "3.8.5"
  }
 },
 "nbformat": 4,
 "nbformat_minor": 4
}
