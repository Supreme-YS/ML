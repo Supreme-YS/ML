{
  "nbformat": 4,
  "nbformat_minor": 0,
  "metadata": {
    "colab": {
      "name": "pre_processing_ml[03].ipynb",
      "provenance": [],
      "authorship_tag": "ABX9TyPTymD6YQeadjuIELRTewvN",
      "include_colab_link": true
    },
    "kernelspec": {
      "name": "python3",
      "display_name": "Python 3"
    }
  },
  "cells": [
    {
      "cell_type": "markdown",
      "metadata": {
        "id": "view-in-github",
        "colab_type": "text"
      },
      "source": [
        "<a href=\"https://colab.research.google.com/github/Supreme-YS/ML/blob/main/pre_processing_ml%5B03%5D.ipynb\" target=\"_parent\"><img src=\"https://colab.research.google.com/assets/colab-badge.svg\" alt=\"Open In Colab\"/></a>"
      ]
    },
    {
      "cell_type": "markdown",
      "metadata": {
        "id": "W5Gv-yUgNckB"
      },
      "source": [
        "학습목표\r\n",
        "- 데이터 인코딩 -> 라벨인코딩, 원-핫-인코딩\r\n",
        "- 정규화, 표준화 -> 피처 스케일링\r\n",
        "- 결측치 처리 및 이상치 처리"
      ]
    },
    {
      "cell_type": "code",
      "metadata": {
        "id": "ohy7PtlLPdIQ"
      },
      "source": [
        "# 데이터 인코딩 - 라벨 인코딩 : 문자열을 숫자로 변환하는 작업\r\n",
        "# fit(), transform()\r\n",
        "from sklearn.preprocessing import LabelEncoder"
      ],
      "execution_count": 1,
      "outputs": []
    },
    {
      "cell_type": "code",
      "metadata": {
        "colab": {
          "base_uri": "https://localhost:8080/"
        },
        "id": "L7neNc8VPvVq",
        "outputId": "d7d8e7fb-5959-4dae-bac6-39c3cbf28b0f"
      },
      "source": [
        "item_label = ['TV', '냉장고', '전자레인지', '컴퓨터', '선풍기', '선풍기', '믹서', '믹서']\r\n",
        "encoder = LabelEncoder()\r\n",
        "encoder.fit(item_label)\r\n",
        "digit_label = encoder.transform(item_label)\r\n",
        "\r\n",
        "print('encoder :', encoder)\r\n",
        "print('encoder result : ', digit_label)\r\n",
        "print('*'*50)\r\n",
        "\r\n",
        "print('decoder result : ', encoder.inverse_transform(digit_label))\r\n",
        "print('type', type(digit_label))"
      ],
      "execution_count": 14,
      "outputs": [
        {
          "output_type": "stream",
          "text": [
            "encoder : LabelEncoder()\n",
            "encoder result :  [0 1 4 5 3 3 2 2]\n",
            "**************************************************\n",
            "decoder result :  ['TV' '냉장고' '전자레인지' '컴퓨터' '선풍기' '선풍기' '믹서' '믹서']\n",
            "type <class 'numpy.ndarray'>\n"
          ],
          "name": "stdout"
        }
      ]
    },
    {
      "cell_type": "code",
      "metadata": {
        "id": "pV11m9QhRTlj"
      },
      "source": [
        "# 데이터 인코딩 - One-hot Encoding : 고유값에 해당하는 컬럼에만 1을 표시하고 나머지 컬럼에는 0을 표시\r\n",
        "from sklearn.preprocessing import OneHotEncoder\r\n",
        "import numpy as np\r\n",
        "import pandas as pd"
      ],
      "execution_count": 9,
      "outputs": []
    },
    {
      "cell_type": "code",
      "metadata": {
        "colab": {
          "base_uri": "https://localhost:8080/"
        },
        "id": "vxagQbhRTB47",
        "outputId": "ba199db6-2a5b-4206-a180-ad86a2d61363"
      },
      "source": [
        "item_label = ['TV', '냉장고', '전자레인지', '컴퓨터', '선풍기', '선풍기', '믹서', '믹서']\r\n",
        "encoder = LabelEncoder()\r\n",
        "encoder.fit(item_label)\r\n",
        "digit_label = encoder.transform(item_label)\r\n",
        "\r\n",
        "print('type', type(digit_label))\r\n",
        "\r\n",
        "# 2차원 데이터 변환\r\n",
        "digit_label = digit_label.reshape(-1,1)\r\n",
        "print( digit_label.shape , digit_label)\r\n",
        "\r\n",
        "# one-hot 인코딩\r\n",
        "one_hot_encoder = OneHotEncoder()\r\n",
        "one_hot_encoder.fit(digit_label)\r\n",
        "one_hot_label = one_hot_encoder.transform(digit_label)\r\n",
        "\r\n",
        "print( one_hot_label.shape)\r\n",
        "print( one_hot_label.toarray())\r\n"
      ],
      "execution_count": 20,
      "outputs": [
        {
          "output_type": "stream",
          "text": [
            "type <class 'numpy.ndarray'>\n",
            "(8, 1) [[0]\n",
            " [1]\n",
            " [4]\n",
            " [5]\n",
            " [3]\n",
            " [3]\n",
            " [2]\n",
            " [2]]\n",
            "(8, 6)\n",
            "[[1. 0. 0. 0. 0. 0.]\n",
            " [0. 1. 0. 0. 0. 0.]\n",
            " [0. 0. 0. 0. 1. 0.]\n",
            " [0. 0. 0. 0. 0. 1.]\n",
            " [0. 0. 0. 1. 0. 0.]\n",
            " [0. 0. 0. 1. 0. 0.]\n",
            " [0. 0. 1. 0. 0. 0.]\n",
            " [0. 0. 1. 0. 0. 0.]]\n"
          ],
          "name": "stdout"
        }
      ]
    },
    {
      "cell_type": "code",
      "metadata": {
        "colab": {
          "base_uri": "https://localhost:8080/",
          "height": 297
        },
        "id": "_n2WWi5fTdDC",
        "outputId": "dc34af3a-a4cd-4882-b0ef-70e4ebcbdab4"
      },
      "source": [
        "# 판다스 원핫인코딩\r\n",
        "labelDF = pd.DataFrame({'item' : ['TV', '냉장고','전자레인지','컴퓨터','선풍기','선풍기','믹서','믹서']})\r\n",
        "\r\n",
        "pd.get_dummies(labelDF)"
      ],
      "execution_count": 23,
      "outputs": [
        {
          "output_type": "execute_result",
          "data": {
            "text/html": [
              "<div>\n",
              "<style scoped>\n",
              "    .dataframe tbody tr th:only-of-type {\n",
              "        vertical-align: middle;\n",
              "    }\n",
              "\n",
              "    .dataframe tbody tr th {\n",
              "        vertical-align: top;\n",
              "    }\n",
              "\n",
              "    .dataframe thead th {\n",
              "        text-align: right;\n",
              "    }\n",
              "</style>\n",
              "<table border=\"1\" class=\"dataframe\">\n",
              "  <thead>\n",
              "    <tr style=\"text-align: right;\">\n",
              "      <th></th>\n",
              "      <th>item_TV</th>\n",
              "      <th>item_냉장고</th>\n",
              "      <th>item_믹서</th>\n",
              "      <th>item_선풍기</th>\n",
              "      <th>item_전자레인지</th>\n",
              "      <th>item_컴퓨터</th>\n",
              "    </tr>\n",
              "  </thead>\n",
              "  <tbody>\n",
              "    <tr>\n",
              "      <th>0</th>\n",
              "      <td>1</td>\n",
              "      <td>0</td>\n",
              "      <td>0</td>\n",
              "      <td>0</td>\n",
              "      <td>0</td>\n",
              "      <td>0</td>\n",
              "    </tr>\n",
              "    <tr>\n",
              "      <th>1</th>\n",
              "      <td>0</td>\n",
              "      <td>1</td>\n",
              "      <td>0</td>\n",
              "      <td>0</td>\n",
              "      <td>0</td>\n",
              "      <td>0</td>\n",
              "    </tr>\n",
              "    <tr>\n",
              "      <th>2</th>\n",
              "      <td>0</td>\n",
              "      <td>0</td>\n",
              "      <td>0</td>\n",
              "      <td>0</td>\n",
              "      <td>1</td>\n",
              "      <td>0</td>\n",
              "    </tr>\n",
              "    <tr>\n",
              "      <th>3</th>\n",
              "      <td>0</td>\n",
              "      <td>0</td>\n",
              "      <td>0</td>\n",
              "      <td>0</td>\n",
              "      <td>0</td>\n",
              "      <td>1</td>\n",
              "    </tr>\n",
              "    <tr>\n",
              "      <th>4</th>\n",
              "      <td>0</td>\n",
              "      <td>0</td>\n",
              "      <td>0</td>\n",
              "      <td>1</td>\n",
              "      <td>0</td>\n",
              "      <td>0</td>\n",
              "    </tr>\n",
              "    <tr>\n",
              "      <th>5</th>\n",
              "      <td>0</td>\n",
              "      <td>0</td>\n",
              "      <td>0</td>\n",
              "      <td>1</td>\n",
              "      <td>0</td>\n",
              "      <td>0</td>\n",
              "    </tr>\n",
              "    <tr>\n",
              "      <th>6</th>\n",
              "      <td>0</td>\n",
              "      <td>0</td>\n",
              "      <td>1</td>\n",
              "      <td>0</td>\n",
              "      <td>0</td>\n",
              "      <td>0</td>\n",
              "    </tr>\n",
              "    <tr>\n",
              "      <th>7</th>\n",
              "      <td>0</td>\n",
              "      <td>0</td>\n",
              "      <td>1</td>\n",
              "      <td>0</td>\n",
              "      <td>0</td>\n",
              "      <td>0</td>\n",
              "    </tr>\n",
              "  </tbody>\n",
              "</table>\n",
              "</div>"
            ],
            "text/plain": [
              "   item_TV  item_냉장고  item_믹서  item_선풍기  item_전자레인지  item_컴퓨터\n",
              "0        1         0        0         0           0         0\n",
              "1        0         1        0         0           0         0\n",
              "2        0         0        0         0           1         0\n",
              "3        0         0        0         0           0         1\n",
              "4        0         0        0         1           0         0\n",
              "5        0         0        0         1           0         0\n",
              "6        0         0        1         0           0         0\n",
              "7        0         0        1         0           0         0"
            ]
          },
          "metadata": {
            "tags": []
          },
          "execution_count": 23
        }
      ]
    },
    {
      "cell_type": "code",
      "metadata": {
        "id": "xswlRhRPWeU7"
      },
      "source": [
        ""
      ],
      "execution_count": null,
      "outputs": []
    }
  ]
}