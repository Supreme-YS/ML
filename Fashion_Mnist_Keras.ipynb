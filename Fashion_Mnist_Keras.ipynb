{
  "nbformat": 4,
  "nbformat_minor": 0,
  "metadata": {
    "colab": {
      "name": "Fashion Mnist - Keras.ipynb",
      "provenance": [],
      "authorship_tag": "ABX9TyOD0Ac04e6YszeHedbS5JPP",
      "include_colab_link": true
    },
    "kernelspec": {
      "name": "python3",
      "display_name": "Python 3"
    },
    "language_info": {
      "name": "python"
    },
    "accelerator": "GPU"
  },
  "cells": [
    {
      "cell_type": "markdown",
      "metadata": {
        "id": "view-in-github",
        "colab_type": "text"
      },
      "source": [
        "<a href=\"https://colab.research.google.com/github/Supreme-YS/ML/blob/main/Fashion_Mnist_Keras.ipynb\" target=\"_parent\"><img src=\"https://colab.research.google.com/assets/colab-badge.svg\" alt=\"Open In Colab\"/></a>"
      ]
    },
    {
      "cell_type": "code",
      "metadata": {
        "id": "7EcidlYYqMXT"
      },
      "source": [
        "from tensorflow.keras.models     import Sequential \n",
        "from tensorflow.keras.layers     import Activation , Dense, BatchNormalization, Dropout\n",
        "from tensorflow.keras.optimizers import SGD , Adam, RMSprop\n",
        "from tensorflow.keras.utils      import plot_model, to_categorical\n",
        "from tensorflow.keras.callbacks  import EarlyStopping, ModelCheckpoint\n",
        "\n",
        "# Ensemble 에 필요한 모듈\n",
        "from tensorflow.keras.wrappers.scikit_learn import KerasClassifier\n",
        "from sklearn.ensemble            import VotingClassifier\n",
        "from sklearn.metrics             import accuracy_score\n",
        "\n",
        "from sklearn.model_selection     import train_test_split\n",
        "# Scaler\n",
        "from sklearn.preprocessing       import StandardScaler , MinMaxScaler , LabelEncoder\n",
        "\n",
        "# load dataset\n",
        "from sklearn.datasets            import load_breast_cancer\n",
        "from tensorflow.keras.datasets   import boston_housing\n",
        "\n",
        "# 교차검증 \n",
        "from sklearn.model_selection     import KFold\n",
        "\n",
        "# 시각화도구\n",
        "import matplotlib.pyplot as plt\n",
        "import seaborn as sns\n",
        "\n",
        "import pandas  as pd\n",
        "import numpy   as np\n",
        "\n",
        "# dataset\n",
        "# from tensorflow.keras.datasets.mnist import load_data\n",
        "from tensorflow.keras.datasets.fashion_mnist import load_data"
      ],
      "execution_count": 1,
      "outputs": []
    },
    {
      "cell_type": "code",
      "metadata": {
        "id": "eWmjs66RqX9K"
      },
      "source": [
        "(X_train, y_train), (X_test, y_test) = load_data()\n",
        "X_train.shape, y_train.shape, X_test.shape, y_test.shape"
      ],
      "execution_count": null,
      "outputs": []
    },
    {
      "cell_type": "code",
      "metadata": {
        "id": "TP9w9M47rjo7"
      },
      "source": [
        "class_names = ['T-shirt/top', 'Trouser', 'Pullover', 'Dress', 'Coat',\n",
        "               'Sandal', 'Shirt', 'Sneaker', 'Bag', 'Ankle boot']"
      ],
      "execution_count": 3,
      "outputs": []
    },
    {
      "cell_type": "code",
      "metadata": {
        "id": "fpN0puuXryED"
      },
      "source": [
        "for idx in range(0, 10):\n",
        "    print(idx, class_names[y_train[idx]])"
      ],
      "execution_count": null,
      "outputs": []
    },
    {
      "cell_type": "code",
      "metadata": {
        "id": "1qQhFDgssMY4"
      },
      "source": [
        "plt.imshow(X_train[9], cmap=plt.cm.binary)\n",
        "plt.show()"
      ],
      "execution_count": null,
      "outputs": []
    },
    {
      "cell_type": "code",
      "metadata": {
        "id": "uBc_Ba5WsN2T"
      },
      "source": [
        "num_sample = 4\n",
        "\n",
        "random_idx = np.random.randint(60000, size=num_sample )\n",
        "print(random_idx)\n",
        "\n",
        "plt.figure(figsize=(15, 10))\n",
        "\n",
        "for i , idx in enumerate(random_idx):\n",
        "    # print(i, idx)\n",
        "    img   = X_train[idx, :]\n",
        "    label = y_train[idx]\n",
        "\n",
        "    plt.subplot(1, len(random_idx), i+1)\n",
        "    plt.imshow(img, cmap=plt.cm.binary)\n",
        "    plt.title('index : {} , label : {}'.format(idx, class_names[label])) "
      ],
      "execution_count": null,
      "outputs": []
    },
    {
      "cell_type": "code",
      "metadata": {
        "id": "gJVWsFJttivQ"
      },
      "source": [
        "# loss = 'sparse_categorical_crossentropy'\n",
        "# optimizer = 'adam', RMSprop\n",
        "# metrics = accuracy"
      ],
      "execution_count": 7,
      "outputs": []
    },
    {
      "cell_type": "code",
      "metadata": {
        "id": "VBQrCK5Gtiyd"
      },
      "source": [
        "X_train = X_train.reshape(60000, 28*28)\n",
        "X_test = X_test.reshape(10000, 28*28)"
      ],
      "execution_count": 8,
      "outputs": []
    },
    {
      "cell_type": "code",
      "metadata": {
        "id": "0Gqz0H55ti04"
      },
      "source": [
        "X_train.shape, X_test.shape"
      ],
      "execution_count": null,
      "outputs": []
    },
    {
      "cell_type": "code",
      "metadata": {
        "id": "mgLjfgfAti6A"
      },
      "source": [
        "# y_train = to_categorical(y_train, 10)\n",
        "# y_test = to_categorical(y_test, 10)"
      ],
      "execution_count": 10,
      "outputs": []
    },
    {
      "cell_type": "code",
      "metadata": {
        "id": "wIUqdM2dtjUj"
      },
      "source": [
        "X_train , _ , y_train , _ = train_test_split(X_train, y_train, test_size = 0.7, random_state = 100)"
      ],
      "execution_count": 11,
      "outputs": []
    },
    {
      "cell_type": "code",
      "metadata": {
        "id": "9AaQRhvQy4nO"
      },
      "source": [
        "X_train.shape, y_train.shape"
      ],
      "execution_count": null,
      "outputs": []
    },
    {
      "cell_type": "code",
      "metadata": {
        "id": "fB46tYWszESj"
      },
      "source": [
        "X_train.shape, y_train.shape, X_test.shape, y_test.shape"
      ],
      "execution_count": null,
      "outputs": []
    },
    {
      "cell_type": "code",
      "metadata": {
        "id": "RSs4DIxCzGap"
      },
      "source": [
        "def get_model():\n",
        "    model = Sequential()\n",
        "\n",
        "    model.add(Dense(50, activation='sigmoid', input_shape=(784,)))\n",
        "    model.add(Dense(50, activation='sigmoid'))\n",
        "    model.add(Dense(50, activation='sigmoid'))\n",
        "    model.add(Dense(50, activation='sigmoid'))\n",
        "    model.add(Dense(10, activation='softmax'))\n",
        "    \n",
        "    return model"
      ],
      "execution_count": 14,
      "outputs": []
    },
    {
      "cell_type": "code",
      "metadata": {
        "id": "9S-vfvfVzj2y"
      },
      "source": [
        "model = get_model()\n",
        "\n",
        "optimizer = SGD(learning_rate=0.01)\n",
        "model.compile(optimizer = optimizer,\n",
        "              loss ='sparse_categorical_crossentropy',\n",
        "              metrics = ['accuracy'])"
      ],
      "execution_count": 15,
      "outputs": []
    },
    {
      "cell_type": "code",
      "metadata": {
        "id": "CQ7JfZBgzK7X"
      },
      "source": [
        "model.summary()"
      ],
      "execution_count": null,
      "outputs": []
    },
    {
      "cell_type": "code",
      "metadata": {
        "id": "qd7CGsYd0M78"
      },
      "source": [
        "X_train.shape, y_train.shape"
      ],
      "execution_count": null,
      "outputs": []
    },
    {
      "cell_type": "code",
      "metadata": {
        "id": "fJq0wPctzyKG"
      },
      "source": [
        "history = model.fit(X_train, y_train, batch_size=256, validation_split=0.3, epochs=100, verbose=1)"
      ],
      "execution_count": null,
      "outputs": []
    },
    {
      "cell_type": "code",
      "metadata": {
        "id": "dwYFlYCIz44x"
      },
      "source": [
        "history.history.keys()"
      ],
      "execution_count": null,
      "outputs": []
    },
    {
      "cell_type": "code",
      "metadata": {
        "id": "lVmb0TD03O-h"
      },
      "source": [
        "plt.plot(history.history['accuracy'])\n",
        "plt.plot(history.history['val_accuracy'])\n",
        "plt.legend(['train', 'val'], loc = 'best')\n",
        "plt.show()"
      ],
      "execution_count": null,
      "outputs": []
    },
    {
      "cell_type": "code",
      "metadata": {
        "id": "Y8ez9-rq4KvI"
      },
      "source": [
        "X_test.shape, y_test.shape"
      ],
      "execution_count": null,
      "outputs": []
    },
    {
      "cell_type": "code",
      "metadata": {
        "colab": {
          "base_uri": "https://localhost:8080/"
        },
        "id": "wjAR5MRL3tmh",
        "outputId": "150e01c7-b457-4ea5-f4e1-4a329fdd9f8b"
      },
      "source": [
        "result = model.evaluate(X_test, y_test)\n",
        "print('Test accuracy : {}%'.format(round(result[1]*100)))"
      ],
      "execution_count": 22,
      "outputs": [
        {
          "output_type": "stream",
          "text": [
            "313/313 [==============================] - 1s 2ms/step - loss: 2.1647 - accuracy: 0.2639\n",
            "Test accuracy : 26%\n"
          ],
          "name": "stdout"
        }
      ]
    },
    {
      "cell_type": "markdown",
      "metadata": {
        "id": "ABnIkB_eBANa"
      },
      "source": [
        "improve_get_model\n",
        "- Adam optimizer 사용\n",
        "- loss = sparse_categorical_crossentropy\n",
        "- metrics = accuracy\n"
      ]
    },
    {
      "cell_type": "code",
      "metadata": {
        "id": "AwLLL22133Sq"
      },
      "source": [
        "def improve_get_model():\n",
        "    model = Sequential()\n",
        "\n",
        "    model.add(Dense(50, activation='sigmoid', input_shape=(784,), kernel_initializer='he_normal'))\n",
        "    model.add(Dense(50, activation='sigmoid', kernel_initializer='he_normal'))\n",
        "    model.add(Dense(50, activation='sigmoid', kernel_initializer='he_normal'))\n",
        "    model.add(Dense(50, activation='sigmoid', kernel_initializer='he_normal'))\n",
        "\n",
        "    model.add(Dense(10, activation='softmax'))\n",
        "\n",
        "    optimizer = Adam(learning_rate=0.01)\n",
        "    model.compile(optimizer = optimizer,\n",
        "                  loss ='sparse_categorical_crossentropy',\n",
        "                  metrics = ['accuracy'])\n",
        "    return model"
      ],
      "execution_count": 23,
      "outputs": []
    },
    {
      "cell_type": "code",
      "metadata": {
        "id": "37WIrwBj7maM"
      },
      "source": [
        "model = improve_get_model()\n",
        "model.summary()"
      ],
      "execution_count": null,
      "outputs": []
    },
    {
      "cell_type": "code",
      "metadata": {
        "id": "ajeAAFhD7pKg"
      },
      "source": [
        "history = model.fit(X_train, y_train, batch_size=256, validation_split=0.3, epochs=100, verbose=1)"
      ],
      "execution_count": null,
      "outputs": []
    },
    {
      "cell_type": "code",
      "metadata": {
        "id": "jNva7GtBDSij"
      },
      "source": [
        "plt.plot(history.history['accuracy'])\n",
        "plt.plot(history.history['val_accuracy'])\n",
        "plt.legend(['train', 'val'], loc = 'best')\n",
        "plt.show()"
      ],
      "execution_count": null,
      "outputs": []
    },
    {
      "cell_type": "code",
      "metadata": {
        "id": "0iDjqKlL7qqS",
        "colab": {
          "base_uri": "https://localhost:8080/"
        },
        "outputId": "cc529c4e-59f5-41c6-bf87-3af9cd1587b1"
      },
      "source": [
        "result = model.evaluate(X_test, y_test)\n",
        "print('Test accuracy : {}%'.format(round(result[1]*100)))"
      ],
      "execution_count": 27,
      "outputs": [
        {
          "output_type": "stream",
          "text": [
            "313/313 [==============================] - 1s 2ms/step - loss: 1.7255 - accuracy: 0.2228\n",
            "Test accuracy : 22%\n"
          ],
          "name": "stdout"
        }
      ]
    },
    {
      "cell_type": "markdown",
      "metadata": {
        "id": "OxxDqNhACk75"
      },
      "source": [
        "improve_activation_get_model\n",
        "- RMSprop optimizer 사용\n",
        "- loss = sparse_categorical_crossentropy 사용\n",
        "- metrics = accuracy"
      ]
    },
    {
      "cell_type": "code",
      "metadata": {
        "id": "BfbV-AZ4-Dk6"
      },
      "source": [
        "def improve_activation_get_model():\n",
        "    model = Sequential()\n",
        "\n",
        "    model.add(Dense(50, activation='relu', input_shape=(784,)))\n",
        "    model.add(Dense(50, activation='relu'))\n",
        "    model.add(Dense(50, activation='relu'))\n",
        "    model.add(Dense(50, activation='relu'))\n",
        "\n",
        "    model.add(Dense(10, activation='softmax'))\n",
        "\n",
        "    optimizer = RMSprop(learning_rate=0.01)\n",
        "    model.compile(optimizer = optimizer,\n",
        "                  loss ='sparse_categorical_crossentropy',\n",
        "                  metrics = ['accuracy'])\n",
        "    return model\n",
        "\n",
        "model = improve_activation_get_model()\n",
        "model.summary()"
      ],
      "execution_count": null,
      "outputs": []
    },
    {
      "cell_type": "code",
      "metadata": {
        "id": "lZhNbXvv-EC1"
      },
      "source": [
        "history = model.fit(X_train, y_train, batch_size=256, validation_split=0.3, epochs=100, verbose=1)"
      ],
      "execution_count": null,
      "outputs": []
    },
    {
      "cell_type": "code",
      "metadata": {
        "id": "WBNWvobpDXTv"
      },
      "source": [
        "plt.plot(history.history['accuracy'])\n",
        "plt.plot(history.history['val_accuracy'])\n",
        "plt.legend(['train', 'val'], loc = 'best')\n",
        "plt.show()"
      ],
      "execution_count": null,
      "outputs": []
    },
    {
      "cell_type": "code",
      "metadata": {
        "colab": {
          "base_uri": "https://localhost:8080/"
        },
        "id": "jMAA4PRD-QXN",
        "outputId": "2b55f5ee-46b6-4e92-f3db-8bd967bcbf18"
      },
      "source": [
        "result = model.evaluate(X_test, y_test)\n",
        "print('Test accuracy : {}%'.format(round(result[1]*100)))"
      ],
      "execution_count": 31,
      "outputs": [
        {
          "output_type": "stream",
          "text": [
            "313/313 [==============================] - 1s 2ms/step - loss: 1.5633 - accuracy: 0.3888\n",
            "Test accuracy : 39%\n"
          ],
          "name": "stdout"
        }
      ]
    },
    {
      "cell_type": "markdown",
      "metadata": {
        "id": "SG10omKNEkcS"
      },
      "source": [
        "Batch Normalization - normalization_adam_get_model\n",
        "- 각 피쳐별 배치 정규화 진행\n",
        "- loss = sparse_categorical_crossentropy\n",
        "- metrics = accuracy\n",
        "- optimizer = Adam "
      ]
    },
    {
      "cell_type": "code",
      "metadata": {
        "id": "DlWsyyTzDJop"
      },
      "source": [
        "def normalization_adam_get_model():\n",
        "    model = Sequential()\n",
        "\n",
        "    model.add( Dense (50, input_shape=(784,) ) )\n",
        "    model.add( BatchNormalization() )\n",
        "    model.add( Activation('sigmoid') )\n",
        "\n",
        "    model.add(Dense (50) )\n",
        "    model.add( BatchNormalization() )\n",
        "    model.add( Activation('sigmoid') )\n",
        "\n",
        "    model.add(Dense (50) )\n",
        "    model.add( BatchNormalization() )\n",
        "    model.add( Activation('sigmoid') )\n",
        "\n",
        "    model.add(Dense (50) )\n",
        "    model.add( BatchNormalization() )\n",
        "    model.add( Activation('sigmoid') )\n",
        "\n",
        "    model.add(Dense(10, activation='softmax'))\n",
        "\n",
        "    optimizer = Adam(learning_rate=0.01)\n",
        "    model.compile(optimizer = optimizer,\n",
        "                  loss ='sparse_categorical_crossentropy',\n",
        "                  metrics = ['accuracy'])\n",
        "    return model\n",
        "    \n",
        "model = normalization_adam_get_model()\n",
        "model.summary()"
      ],
      "execution_count": null,
      "outputs": []
    },
    {
      "cell_type": "code",
      "metadata": {
        "id": "Bi-dqBveFOPN"
      },
      "source": [
        "history = model.fit(X_train, y_train, validation_split=0.3, epochs=100, verbose=1)"
      ],
      "execution_count": null,
      "outputs": []
    },
    {
      "cell_type": "code",
      "metadata": {
        "id": "l6r-rm_JFQ76"
      },
      "source": [
        "plt.plot(history.history['accuracy'])\n",
        "plt.plot(history.history['val_accuracy'])\n",
        "plt.legend(['train', 'val'], loc = 'best')\n",
        "plt.show()"
      ],
      "execution_count": null,
      "outputs": []
    },
    {
      "cell_type": "code",
      "metadata": {
        "colab": {
          "base_uri": "https://localhost:8080/"
        },
        "id": "lpH9QaVlFYcC",
        "outputId": "f2a9abda-a982-43b1-9c35-d7cb5a6b7362"
      },
      "source": [
        "result = model.evaluate(X_test, y_test)\n",
        "print('Test accuracy : {}%'.format(round(result[1]*100)))"
      ],
      "execution_count": 35,
      "outputs": [
        {
          "output_type": "stream",
          "text": [
            "313/313 [==============================] - 1s 3ms/step - loss: 0.8088 - accuracy: 0.8420\n",
            "Test accuracy : 84%\n"
          ],
          "name": "stdout"
        }
      ]
    },
    {
      "cell_type": "markdown",
      "metadata": {
        "id": "SMniMKTlGFpI"
      },
      "source": [
        "Batch Normalization - normalization_RMSprop_get_model\n",
        "- 각 피쳐별 배치 정규화 진행\n",
        "- loss = sparse_categorical_crossentropy\n",
        "- metrix = accuracy\n",
        "- optimizer = RMSprop "
      ]
    },
    {
      "cell_type": "code",
      "metadata": {
        "id": "OZ7JgkkOFWdX"
      },
      "source": [
        "def normalization_RMSprop_get_model():\n",
        "    model = Sequential()\n",
        "\n",
        "    model.add( Dense (50, input_shape=(784,) ) )\n",
        "    model.add( BatchNormalization() )\n",
        "    model.add( Activation('sigmoid') )\n",
        "\n",
        "    model.add(Dense (50) )\n",
        "    model.add( BatchNormalization() )\n",
        "    model.add( Activation('sigmoid') )\n",
        "\n",
        "    model.add(Dense (50) )\n",
        "    model.add( BatchNormalization() )\n",
        "    model.add( Activation('sigmoid') )\n",
        "\n",
        "    model.add(Dense (50) )\n",
        "    model.add( BatchNormalization() )\n",
        "    model.add( Activation('sigmoid') )\n",
        "\n",
        "    model.add(Dense(10, activation='softmax'))\n",
        "\n",
        "    optimizer = RMSprop(learning_rate=0.01)\n",
        "    model.compile(optimizer = optimizer,\n",
        "                  loss ='sparse_categorical_crossentropy',\n",
        "                  metrics = ['accuracy'])\n",
        "    return model\n",
        "    \n",
        "model = normalization_RMSprop_get_model()\n",
        "model.summary()"
      ],
      "execution_count": null,
      "outputs": []
    },
    {
      "cell_type": "code",
      "metadata": {
        "id": "JDpIFL2MGpI2"
      },
      "source": [
        "history = model.fit(X_train, y_train, validation_split=0.3, epochs=100, verbose=1)"
      ],
      "execution_count": null,
      "outputs": []
    },
    {
      "cell_type": "code",
      "metadata": {
        "id": "RpXKUdBRGsEV"
      },
      "source": [
        "plt.plot(history.history['accuracy'])\n",
        "plt.plot(history.history['val_accuracy'])\n",
        "plt.legend(['train', 'val'], loc = 'best')\n",
        "plt.show()"
      ],
      "execution_count": null,
      "outputs": []
    },
    {
      "cell_type": "code",
      "metadata": {
        "colab": {
          "base_uri": "https://localhost:8080/"
        },
        "id": "vinDLjViGwSy",
        "outputId": "d7653042-e641-4d1f-8248-5e18505b472b"
      },
      "source": [
        "result = model.evaluate(X_test, y_test)\n",
        "print('Test accuracy : {}%'.format(round(result[1]*100)))"
      ],
      "execution_count": 39,
      "outputs": [
        {
          "output_type": "stream",
          "text": [
            "313/313 [==============================] - 1s 3ms/step - loss: 1.0186 - accuracy: 0.8264\n",
            "Test accuracy : 83%\n"
          ],
          "name": "stdout"
        }
      ]
    },
    {
      "cell_type": "markdown",
      "metadata": {
        "id": "g4GoAFgeHwZm"
      },
      "source": [
        "Dropout, earlystopping - dropout_get_model()\n",
        "- optimizer = Adam\n",
        "- loss = sparse_categorical_crossentropy\n",
        "- metrics = accuracy"
      ]
    },
    {
      "cell_type": "code",
      "metadata": {
        "id": "aYa0IUhWIGuc"
      },
      "source": [
        "def dropout_get_model():\n",
        "    model = Sequential()\n",
        "\n",
        "    model.add( Dense (50, input_shape=(784,) ) )\n",
        "    model.add( Activation('sigmoid') )\n",
        "    model.add( Dropout(0.2) )\n",
        "\n",
        "    model.add(Dense (50) )\n",
        "    model.add( Activation('sigmoid') )\n",
        "    model.add( Dropout(0.2) )\n",
        "\n",
        "    model.add(Dense (50) )\n",
        "    model.add( Activation('sigmoid') )\n",
        "    model.add( Dropout(0.2) )\n",
        "\n",
        "    model.add(Dense (50) )\n",
        "    model.add( Activation('sigmoid') )\n",
        "    model.add( Dropout(0.2) )\n",
        "\n",
        "    model.add(Dense(10, activation='softmax'))\n",
        "\n",
        "    optimizer = Adam(learning_rate=0.01)\n",
        "    model.compile(optimizer = optimizer,\n",
        "                  loss ='sparse_categorical_crossentropy',\n",
        "                  metrics = ['accuracy'])\n",
        "    return model\n",
        "\n",
        "model = dropout_get_model()\n",
        "model.summary()"
      ],
      "execution_count": null,
      "outputs": []
    },
    {
      "cell_type": "code",
      "metadata": {
        "id": "hZy4WIbsIaE4"
      },
      "source": [
        "history = model.fit(X_train, y_train, validation_split=0.3, epochs=100, verbose=1)"
      ],
      "execution_count": null,
      "outputs": []
    },
    {
      "cell_type": "code",
      "metadata": {
        "id": "6ywSegbuIcxs"
      },
      "source": [
        "plt.plot(history.history['accuracy'])\n",
        "plt.plot(history.history['val_accuracy'])\n",
        "plt.legend(['train', 'val'], loc = 'best')\n",
        "plt.show()"
      ],
      "execution_count": null,
      "outputs": []
    },
    {
      "cell_type": "code",
      "metadata": {
        "colab": {
          "base_uri": "https://localhost:8080/"
        },
        "id": "wtdWrGJGJCYe",
        "outputId": "a6615703-cb4a-4a97-aa12-26cdacd51f6e"
      },
      "source": [
        "result = model.evaluate(X_test, y_test)\n",
        "print('Test accuracy : {}%'.format(round(result[1]*100)))"
      ],
      "execution_count": 43,
      "outputs": [
        {
          "output_type": "stream",
          "text": [
            "313/313 [==============================] - 1s 3ms/step - loss: 2.3039 - accuracy: 0.1000\n",
            "Test accuracy : 10%\n"
          ],
          "name": "stdout"
        }
      ]
    },
    {
      "cell_type": "markdown",
      "metadata": {
        "id": "GXHS35ZYJdp0"
      },
      "source": [
        "Dropout, earlystopping - dropout_get_model2()\n",
        "- optimizer = RMSprop\n",
        "- loss = sparse_categorical_crossentropy\n",
        "- metrics = accuracy"
      ]
    },
    {
      "cell_type": "code",
      "metadata": {
        "id": "f995BrlDJiAV"
      },
      "source": [
        "def dropout_get_model2():\n",
        "    model = Sequential()\n",
        "\n",
        "    model.add( Dense (50, input_shape=(784,) ) )\n",
        "    model.add( Activation('sigmoid') )\n",
        "    model.add( Dropout(0.2) )\n",
        "\n",
        "    model.add(Dense (50) )\n",
        "    model.add( Activation('sigmoid') )\n",
        "    model.add( Dropout(0.2) )\n",
        "\n",
        "    model.add(Dense (50) )\n",
        "    model.add( Activation('sigmoid') )\n",
        "    model.add( Dropout(0.2) )\n",
        "\n",
        "    model.add(Dense (50) )\n",
        "    model.add( Activation('sigmoid') )\n",
        "    model.add( Dropout(0.2) )\n",
        "\n",
        "    model.add(Dense(10, activation='softmax'))\n",
        "\n",
        "    optimizer = RMSprop(learning_rate=0.01)\n",
        "    model.compile(optimizer = optimizer,\n",
        "                  loss ='sparse_categorical_crossentropy',\n",
        "                  metrics = ['accuracy'])\n",
        "    return model\n",
        "\n",
        "model = dropout_get_model2()\n",
        "model.summary()"
      ],
      "execution_count": null,
      "outputs": []
    },
    {
      "cell_type": "code",
      "metadata": {
        "id": "YMrtGAMCJh4T"
      },
      "source": [
        "history = model.fit(X_train, y_train, validation_split=0.3, epochs=100, verbose=1)"
      ],
      "execution_count": null,
      "outputs": []
    },
    {
      "cell_type": "code",
      "metadata": {
        "id": "xmHkTZ7aJhvt"
      },
      "source": [
        "plt.plot(history.history['accuracy'])\n",
        "plt.plot(history.history['val_accuracy'])\n",
        "plt.legend(['train', 'val'], loc = 'best')\n",
        "plt.show()"
      ],
      "execution_count": null,
      "outputs": []
    },
    {
      "cell_type": "code",
      "metadata": {
        "colab": {
          "base_uri": "https://localhost:8080/"
        },
        "id": "15rkYlICJu-x",
        "outputId": "c6041257-ab13-4bb5-d9b9-68c69818cddd"
      },
      "source": [
        "result = model.evaluate(X_test, y_test)\n",
        "print('Test accuracy : {}%'.format(round(result[1]*100)))"
      ],
      "execution_count": 47,
      "outputs": [
        {
          "output_type": "stream",
          "text": [
            "313/313 [==============================] - 1s 2ms/step - loss: 1.4094 - accuracy: 0.4580\n",
            "Test accuracy : 46%\n"
          ],
          "name": "stdout"
        }
      ]
    },
    {
      "cell_type": "markdown",
      "metadata": {
        "id": "OI_CTkdfJHpd"
      },
      "source": [
        "dropout_batch_normalization_get_model()\n",
        "- optimizer = Adam\n",
        "- loss = sparse_categorical_crossentropy\n",
        "- metrics = accuracy"
      ]
    },
    {
      "cell_type": "code",
      "metadata": {
        "id": "WPtNk-mFJtIR"
      },
      "source": [
        "def dropout_batch_normalization_get_model():\n",
        "    model = Sequential()\n",
        "\n",
        "    model.add( Dense (50, input_shape=(784,) ) )\n",
        "    model.add( BatchNormalization() )\n",
        "    model.add( Activation('sigmoid') )\n",
        "    model.add( Dropout(0.2) )\n",
        "\n",
        "    model.add(Dense (50) )\n",
        "    model.add( BatchNormalization() )\n",
        "    model.add( Activation('sigmoid') )\n",
        "    model.add( Dropout(0.2) )\n",
        "\n",
        "    model.add(Dense (50) )\n",
        "    model.add( BatchNormalization() )\n",
        "    model.add( Activation('sigmoid') )\n",
        "    model.add( Dropout(0.2) )\n",
        "\n",
        "    model.add(Dense (50) )\n",
        "    model.add( BatchNormalization() )\n",
        "    model.add( Activation('sigmoid') )\n",
        "    model.add( Dropout(0.2) )\n",
        "\n",
        "    model.add(Dense(10, activation='softmax'))\n",
        "\n",
        "    optimizer = Adam(learning_rate=0.01)\n",
        "    model.compile(optimizer = optimizer,\n",
        "                  loss ='sparse_categorical_crossentropy',\n",
        "                  metrics = ['accuracy'])\n",
        "    return model\n",
        "\n",
        "model = dropout_batch_normalization_get_model()\n",
        "model.summary()"
      ],
      "execution_count": null,
      "outputs": []
    },
    {
      "cell_type": "code",
      "metadata": {
        "id": "SI45J34JJE9s"
      },
      "source": [
        "history = model.fit(X_train, y_train, validation_split=0.3, epochs=100, verbose=1)"
      ],
      "execution_count": null,
      "outputs": []
    },
    {
      "cell_type": "code",
      "metadata": {
        "id": "q4mNp5iKLwiq"
      },
      "source": [
        "plt.plot(history.history['accuracy'])\n",
        "plt.plot(history.history['val_accuracy'])\n",
        "plt.legend(['train', 'val'], loc = 'best')\n",
        "plt.show()"
      ],
      "execution_count": null,
      "outputs": []
    },
    {
      "cell_type": "code",
      "metadata": {
        "colab": {
          "base_uri": "https://localhost:8080/"
        },
        "id": "NdZpbnExLwVb",
        "outputId": "06cf3c75-4cb8-4880-de55-8400d1e479eb"
      },
      "source": [
        "result = model.evaluate(X_test, y_test)\n",
        "print('Test accuracy : {}%'.format(round(result[1]*100)))"
      ],
      "execution_count": 51,
      "outputs": [
        {
          "output_type": "stream",
          "text": [
            "313/313 [==============================] - 1s 3ms/step - loss: 0.4920 - accuracy: 0.8531\n",
            "Test accuracy : 85%\n"
          ],
          "name": "stdout"
        }
      ]
    },
    {
      "cell_type": "markdown",
      "metadata": {
        "id": "JfjmOzQgMfJi"
      },
      "source": [
        "dropout_batch_normalization_get_model2()\n",
        "- optimizer = RMSprop\n",
        "- loss = sparse_categorical_crossentropy\n",
        "- metrics = accuracy"
      ]
    },
    {
      "cell_type": "code",
      "metadata": {
        "id": "aSiayOwDMbL3"
      },
      "source": [
        "def dropout_batch_normalization_get_model2():\n",
        "    model = Sequential()\n",
        "\n",
        "    model.add( Dense (50, input_shape=(784,) ) )\n",
        "    model.add( BatchNormalization() )\n",
        "    model.add( Activation('sigmoid') )\n",
        "    model.add( Dropout(0.2) )\n",
        "\n",
        "    model.add(Dense (50) )\n",
        "    model.add( BatchNormalization() )\n",
        "    model.add( Activation('sigmoid') )\n",
        "    model.add( Dropout(0.2) )\n",
        "\n",
        "    model.add(Dense (50) )\n",
        "    model.add( BatchNormalization() )\n",
        "    model.add( Activation('sigmoid') )\n",
        "    model.add( Dropout(0.2) )\n",
        "\n",
        "    model.add(Dense (50) )\n",
        "    model.add( BatchNormalization() )\n",
        "    model.add( Activation('sigmoid') )\n",
        "    model.add( Dropout(0.2) )\n",
        "\n",
        "    model.add(Dense(10, activation='softmax'))\n",
        "\n",
        "    optimizer = RMSprop(learning_rate=0.01)\n",
        "    model.compile(optimizer = optimizer,\n",
        "                  loss ='sparse_categorical_crossentropy',\n",
        "                  metrics = ['accuracy'])\n",
        "    return model\n",
        "\n",
        "model = dropout_batch_normalization_get_model2()\n",
        "model.summary()"
      ],
      "execution_count": null,
      "outputs": []
    },
    {
      "cell_type": "code",
      "metadata": {
        "id": "wG6TPQveMmH6"
      },
      "source": [
        "history = model.fit(X_train, y_train, validation_split=0.3, epochs=100, verbose=1)"
      ],
      "execution_count": null,
      "outputs": []
    },
    {
      "cell_type": "code",
      "metadata": {
        "id": "mtibbwRGMr_u"
      },
      "source": [
        "plt.plot(history.history['accuracy'])\n",
        "plt.plot(history.history['val_accuracy'])\n",
        "plt.legend(['train', 'val'], loc = 'best')\n",
        "plt.show()"
      ],
      "execution_count": null,
      "outputs": []
    },
    {
      "cell_type": "code",
      "metadata": {
        "colab": {
          "base_uri": "https://localhost:8080/"
        },
        "id": "mmcKhHbcMrv2",
        "outputId": "db2be054-6b6f-46c2-af46-e9280caf7752"
      },
      "source": [
        "result = model.evaluate(X_test, y_test)\n",
        "print('Test accuracy : {}%'.format(round(result[1]*100)))"
      ],
      "execution_count": 55,
      "outputs": [
        {
          "output_type": "stream",
          "text": [
            "313/313 [==============================] - 1s 3ms/step - loss: 0.4976 - accuracy: 0.8519\n",
            "Test accuracy : 85%\n"
          ],
          "name": "stdout"
        }
      ]
    },
    {
      "cell_type": "code",
      "metadata": {
        "id": "E9VhKcOmNTfu"
      },
      "source": [
        "callbacks = [EarlyStopping(monitor='val_accuracy', patience=3)]\n",
        "history = model.fit(X_train, y_train, validation_split=0.3, epochs=100, verbose=1, callbacks=callbacks)"
      ],
      "execution_count": null,
      "outputs": []
    },
    {
      "cell_type": "code",
      "metadata": {
        "colab": {
          "base_uri": "https://localhost:8080/"
        },
        "id": "gBPM1VnNNY23",
        "outputId": "c8b366a8-78d1-4301-d265-a75d5c617734"
      },
      "source": [
        "result = model.evaluate(X_test, y_test)\n",
        "print('Test accuracy : {}%'.format(round(result[1]*100)))"
      ],
      "execution_count": 57,
      "outputs": [
        {
          "output_type": "stream",
          "text": [
            "313/313 [==============================] - 1s 3ms/step - loss: 0.5374 - accuracy: 0.8458\n",
            "Test accuracy : 85%\n"
          ],
          "name": "stdout"
        }
      ]
    },
    {
      "cell_type": "markdown",
      "metadata": {
        "id": "rb3gWgUMUWkW"
      },
      "source": [
        "위 모델들 중 성능 수치가 가장 낮은 모델을 활용해서 Ensemble을 진행해봤다.\n",
        "\n",
        "- 모델명 : dropout_get_model\n",
        "- 성능   : 10 %\n",
        "- loss = sparse_categorical_crossentropy\n",
        "- metrics = accuracy\n",
        "- optimizer = Adam"
      ]
    },
    {
      "cell_type": "code",
      "metadata": {
        "id": "MQDmHSYiUq-X"
      },
      "source": [
        "def dropout_get_model():\n",
        "    model = Sequential()\n",
        "\n",
        "    model.add( Dense (50, input_shape=(784,) ) )\n",
        "    model.add( Activation('sigmoid') )\n",
        "    model.add( Dropout(0.2) )\n",
        "\n",
        "    model.add(Dense (50) )\n",
        "    model.add( Activation('sigmoid') )\n",
        "    model.add( Dropout(0.2) )\n",
        "\n",
        "    model.add(Dense (50) )\n",
        "    model.add( Activation('sigmoid') )\n",
        "    model.add( Dropout(0.2) )\n",
        "\n",
        "    model.add(Dense (50) )\n",
        "    model.add( Activation('sigmoid') )\n",
        "    model.add( Dropout(0.2) )\n",
        "\n",
        "    model.add(Dense(10, activation='softmax'))\n",
        "\n",
        "    optimizer = Adam(learning_rate=0.01)\n",
        "    model.compile(optimizer = optimizer,\n",
        "                  loss ='sparse_categorical_crossentropy',\n",
        "                  metrics = ['accuracy'])\n",
        "    return model\n",
        "\n",
        "model = dropout_get_model()\n",
        "model.summary()"
      ],
      "execution_count": null,
      "outputs": []
    },
    {
      "cell_type": "code",
      "metadata": {
        "id": "GgTHPyBmU7oS"
      },
      "source": [
        "model01 = KerasClassifier(build_fn=dropout_get_model, epochs = 100, verbose=0)\n",
        "model02 = KerasClassifier(build_fn=dropout_get_model, epochs = 100, verbose=0)\n",
        "model03 = KerasClassifier(build_fn=dropout_get_model, epochs = 100, verbose=0)\n",
        "\n",
        "model01._estimator_type = 'classifier'\n",
        "model02._estimator_type = 'classifier'\n",
        "model03._estimator_type = 'classifier'"
      ],
      "execution_count": 69,
      "outputs": []
    },
    {
      "cell_type": "code",
      "metadata": {
        "colab": {
          "base_uri": "https://localhost:8080/"
        },
        "id": "EiTVVgPlWxPr",
        "outputId": "9a12bb7c-c16e-49c1-aff5-f96411620763"
      },
      "source": [
        "X_train.shape, y_train.shape"
      ],
      "execution_count": 70,
      "outputs": [
        {
          "output_type": "execute_result",
          "data": {
            "text/plain": [
              "((18000, 784), (18000,))"
            ]
          },
          "metadata": {
            "tags": []
          },
          "execution_count": 70
        }
      ]
    },
    {
      "cell_type": "code",
      "metadata": {
        "colab": {
          "base_uri": "https://localhost:8080/"
        },
        "id": "vU646dPGVduj",
        "outputId": "b3243b72-4ee9-4ac2-fd9c-fd7d3e2ad585"
      },
      "source": [
        "ensemble_model = VotingClassifier( estimators=[('model01',model01) , ('model02',model02) , ('model03',model03)] , voting='soft') \n",
        "ensemble_model.fit(X_train, y_train)\n",
        "y_pred = ensemble_model.predict(X_test)\n",
        "\n",
        "print('Test acc -> ' , accuracy_score(y_pred , y_test)) "
      ],
      "execution_count": 71,
      "outputs": [
        {
          "output_type": "stream",
          "text": [
            "/usr/local/lib/python3.7/dist-packages/tensorflow/python/keras/engine/sequential.py:425: UserWarning: `model.predict_proba()` is deprecated and will be removed after 2021-01-01. Please use `model.predict()` instead.\n",
            "  warnings.warn('`model.predict_proba()` is deprecated and '\n"
          ],
          "name": "stderr"
        },
        {
          "output_type": "stream",
          "text": [
            "Test acc ->  0.2065\n"
          ],
          "name": "stdout"
        }
      ]
    },
    {
      "cell_type": "markdown",
      "metadata": {
        "id": "7WbZ6jxhYji5"
      },
      "source": [
        "생각보다 성능 개선이 드라마틱하지 않아서 그 다음 낮은 모델로 선정하고 다시 해봤다.\n",
        "\n",
        "- 모델명 : improve_get_model\n",
        "- 성능   : 22 %\n",
        "- loss = sparse_categorical_crossentropy\n",
        "- metrics = accuracy\n",
        "- optimizer = Adam"
      ]
    },
    {
      "cell_type": "code",
      "metadata": {
        "id": "iur0ylYuYrrd"
      },
      "source": [
        "def improve_get_model():\n",
        "    model = Sequential()\n",
        "\n",
        "    model.add(Dense(50, activation='sigmoid', input_shape=(784,), kernel_initializer='he_normal'))\n",
        "    model.add(Dense(50, activation='sigmoid', kernel_initializer='he_normal'))\n",
        "    model.add(Dense(50, activation='sigmoid', kernel_initializer='he_normal'))\n",
        "    model.add(Dense(50, activation='sigmoid', kernel_initializer='he_normal'))\n",
        "\n",
        "    model.add(Dense(10, activation='softmax'))\n",
        "\n",
        "    optimizer = Adam(learning_rate=0.01)\n",
        "    model.compile(optimizer = optimizer,\n",
        "                  loss ='sparse_categorical_crossentropy',\n",
        "                  metrics = ['accuracy'])\n",
        "    return model\n",
        "\n",
        "model = improve_get_model()\n",
        "model.summary()"
      ],
      "execution_count": null,
      "outputs": []
    },
    {
      "cell_type": "code",
      "metadata": {
        "id": "l3RImZGpYro6"
      },
      "source": [
        "model01 = KerasClassifier(build_fn=improve_get_model, epochs = 100, verbose=0)\n",
        "model02 = KerasClassifier(build_fn=improve_get_model, epochs = 100, verbose=0)\n",
        "model03 = KerasClassifier(build_fn=improve_get_model, epochs = 100, verbose=0)\n",
        "\n",
        "model01._estimator_type = 'classifier'\n",
        "model02._estimator_type = 'classifier'\n",
        "model03._estimator_type = 'classifier'"
      ],
      "execution_count": 75,
      "outputs": []
    },
    {
      "cell_type": "code",
      "metadata": {
        "colab": {
          "base_uri": "https://localhost:8080/"
        },
        "id": "9sc4GVuWVl9J",
        "outputId": "c608be1a-c5b8-4e14-8802-8a79a19c9b94"
      },
      "source": [
        "X_train.shape, y_train.shape"
      ],
      "execution_count": 76,
      "outputs": [
        {
          "output_type": "execute_result",
          "data": {
            "text/plain": [
              "((18000, 784), (18000,))"
            ]
          },
          "metadata": {
            "tags": []
          },
          "execution_count": 76
        }
      ]
    },
    {
      "cell_type": "code",
      "metadata": {
        "colab": {
          "base_uri": "https://localhost:8080/"
        },
        "id": "99qXK17Ze_jZ",
        "outputId": "affc6ac3-15dd-460c-f3ba-b61eca1f1aa7"
      },
      "source": [
        "ensemble_model = VotingClassifier( estimators=[('model01',model01) , ('model02',model02) , ('model03',model03)] , voting='soft') \n",
        "ensemble_model.fit(X_train, y_train)\n",
        "y_pred = ensemble_model.predict(X_test)\n",
        "\n",
        "print('Test acc -> ' , accuracy_score(y_pred , y_test)) "
      ],
      "execution_count": 77,
      "outputs": [
        {
          "output_type": "stream",
          "text": [
            "/usr/local/lib/python3.7/dist-packages/tensorflow/python/keras/engine/sequential.py:425: UserWarning: `model.predict_proba()` is deprecated and will be removed after 2021-01-01. Please use `model.predict()` instead.\n",
            "  warnings.warn('`model.predict_proba()` is deprecated and '\n"
          ],
          "name": "stderr"
        },
        {
          "output_type": "stream",
          "text": [
            "Test acc ->  0.265\n"
          ],
          "name": "stdout"
        }
      ]
    },
    {
      "cell_type": "code",
      "metadata": {
        "id": "jfzoQrtFfJBe"
      },
      "source": [
        ""
      ],
      "execution_count": null,
      "outputs": []
    }
  ]
}