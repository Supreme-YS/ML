{
  "nbformat": 4,
  "nbformat_minor": 0,
  "metadata": {
    "colab": {
      "name": "Fashion Mnist - Keras.ipynb",
      "provenance": [],
      "authorship_tag": "ABX9TyNU2fl2maHkPjMgIw8B3sg8",
      "include_colab_link": true
    },
    "kernelspec": {
      "name": "python3",
      "display_name": "Python 3"
    },
    "language_info": {
      "name": "python"
    },
    "accelerator": "GPU"
  },
  "cells": [
    {
      "cell_type": "markdown",
      "metadata": {
        "id": "view-in-github",
        "colab_type": "text"
      },
      "source": [
        "<a href=\"https://colab.research.google.com/github/Supreme-YS/ML/blob/main/Fashion_Mnist_Keras.ipynb\" target=\"_parent\"><img src=\"https://colab.research.google.com/assets/colab-badge.svg\" alt=\"Open In Colab\"/></a>"
      ]
    },
    {
      "cell_type": "code",
      "metadata": {
        "id": "7EcidlYYqMXT"
      },
      "source": [
        "from tensorflow.keras.models     import Sequential \n",
        "from tensorflow.keras.layers     import Activation , Dense, BatchNormalization, Dropout\n",
        "from tensorflow.keras.optimizers import SGD , Adam, RMSprop\n",
        "from tensorflow.keras.utils      import plot_model, to_categorical\n",
        "from tensorflow.keras.callbacks  import EarlyStopping, ModelCheckpoint\n",
        "\n",
        "# Ensemble 에 필요한 모듈\n",
        "from tensorflow.keras.wrappers.scikit_learn import KerasClassifier\n",
        "from sklearn.ensemble            import VotingClassifier\n",
        "from sklearn.metrics             import accuracy_score\n",
        "\n",
        "from sklearn.model_selection     import train_test_split\n",
        "# Scaler\n",
        "from sklearn.preprocessing       import StandardScaler , MinMaxScaler , LabelEncoder\n",
        "\n",
        "# load dataset\n",
        "from sklearn.datasets            import load_breast_cancer\n",
        "from tensorflow.keras.datasets   import boston_housing\n",
        "\n",
        "# 교차검증 \n",
        "from sklearn.model_selection     import KFold\n",
        "\n",
        "# 시각화도구\n",
        "import matplotlib.pyplot as plt\n",
        "import seaborn as sns\n",
        "\n",
        "import pandas  as pd\n",
        "import numpy   as np\n",
        "\n",
        "# dataset\n",
        "# from tensorflow.keras.datasets.mnist import load_data\n",
        "from tensorflow.keras.datasets.fashion_mnist import load_data"
      ],
      "execution_count": 1,
      "outputs": []
    },
    {
      "cell_type": "code",
      "metadata": {
        "id": "eWmjs66RqX9K"
      },
      "source": [
        "(X_train, y_train), (X_test, y_test) = load_data()\n",
        "X_train.shape, y_train.shape, X_test.shape, y_test.shape"
      ],
      "execution_count": null,
      "outputs": []
    },
    {
      "cell_type": "code",
      "metadata": {
        "id": "TP9w9M47rjo7"
      },
      "source": [
        "class_names = ['T-shirt/top', 'Trouser', 'Pullover', 'Dress', 'Coat',\n",
        "               'Sandal', 'Shirt', 'Sneaker', 'Bag', 'Ankle boot']"
      ],
      "execution_count": 3,
      "outputs": []
    },
    {
      "cell_type": "code",
      "metadata": {
        "id": "fpN0puuXryED"
      },
      "source": [
        "for idx in range(0, 10):\n",
        "    print(idx, class_names[y_train[idx]])"
      ],
      "execution_count": null,
      "outputs": []
    },
    {
      "cell_type": "code",
      "metadata": {
        "id": "1qQhFDgssMY4"
      },
      "source": [
        "plt.imshow(X_train[9], cmap=plt.cm.binary)\n",
        "plt.show()"
      ],
      "execution_count": null,
      "outputs": []
    },
    {
      "cell_type": "code",
      "metadata": {
        "id": "uBc_Ba5WsN2T"
      },
      "source": [
        "num_sample = 4\n",
        "\n",
        "random_idx = np.random.randint(60000, size=num_sample )\n",
        "print(random_idx)\n",
        "\n",
        "plt.figure(figsize=(15, 10))\n",
        "\n",
        "for i , idx in enumerate(random_idx):\n",
        "    # print(i, idx)\n",
        "    img   = X_train[idx, :]\n",
        "    label = y_train[idx]\n",
        "\n",
        "    plt.subplot(1, len(random_idx), i+1)\n",
        "    plt.imshow(img, cmap=plt.cm.binary)\n",
        "    plt.title('index : {} , label : {}'.format(idx, class_names[label])) "
      ],
      "execution_count": null,
      "outputs": []
    },
    {
      "cell_type": "code",
      "metadata": {
        "id": "gJVWsFJttivQ"
      },
      "source": [
        "# loss = 'sparse_categorical_crossentropy'\n",
        "# optimizer = 'adam', RMSprop\n",
        "# metrics = accuracy"
      ],
      "execution_count": 7,
      "outputs": []
    },
    {
      "cell_type": "code",
      "metadata": {
        "id": "VBQrCK5Gtiyd"
      },
      "source": [
        "X_train = X_train.reshape(60000, 28*28)\n",
        "X_test = X_test.reshape(10000, 28*28)"
      ],
      "execution_count": 8,
      "outputs": []
    },
    {
      "cell_type": "code",
      "metadata": {
        "id": "0Gqz0H55ti04"
      },
      "source": [
        "X_train.shape, X_test.shape"
      ],
      "execution_count": null,
      "outputs": []
    },
    {
      "cell_type": "code",
      "metadata": {
        "id": "mgLjfgfAti6A"
      },
      "source": [
        "# y_train = to_categorical(y_train, 10)\n",
        "# y_test = to_categorical(y_test, 10)"
      ],
      "execution_count": 10,
      "outputs": []
    },
    {
      "cell_type": "code",
      "metadata": {
        "id": "wIUqdM2dtjUj"
      },
      "source": [
        "X_train , _ , y_train , _ = train_test_split(X_train, y_train, test_size = 0.7, random_state = 100)"
      ],
      "execution_count": 11,
      "outputs": []
    },
    {
      "cell_type": "code",
      "metadata": {
        "id": "9AaQRhvQy4nO"
      },
      "source": [
        "X_train.shape, y_train.shape"
      ],
      "execution_count": null,
      "outputs": []
    },
    {
      "cell_type": "code",
      "metadata": {
        "id": "fB46tYWszESj"
      },
      "source": [
        "X_train.shape, y_train.shape, X_test.shape, y_test.shape"
      ],
      "execution_count": null,
      "outputs": []
    },
    {
      "cell_type": "code",
      "metadata": {
        "id": "RSs4DIxCzGap"
      },
      "source": [
        "def get_model():\n",
        "    model = Sequential()\n",
        "\n",
        "    model.add(Dense(50, activation='sigmoid', input_shape=(784,)))\n",
        "    model.add(Dense(50, activation='sigmoid'))\n",
        "    model.add(Dense(50, activation='sigmoid'))\n",
        "    model.add(Dense(50, activation='sigmoid'))\n",
        "    model.add(Dense(10, activation='softmax'))\n",
        "    \n",
        "    return model"
      ],
      "execution_count": 14,
      "outputs": []
    },
    {
      "cell_type": "code",
      "metadata": {
        "id": "9S-vfvfVzj2y"
      },
      "source": [
        "model = get_model()\n",
        "\n",
        "optimizer = SGD(learning_rate=0.01)\n",
        "model.compile(optimizer = optimizer,\n",
        "              loss ='sparse_categorical_crossentropy',\n",
        "              metrics = ['accuracy'])"
      ],
      "execution_count": 15,
      "outputs": []
    },
    {
      "cell_type": "code",
      "metadata": {
        "id": "CQ7JfZBgzK7X"
      },
      "source": [
        "model.summary()"
      ],
      "execution_count": null,
      "outputs": []
    },
    {
      "cell_type": "code",
      "metadata": {
        "id": "qd7CGsYd0M78"
      },
      "source": [
        "X_train.shape, y_train.shape"
      ],
      "execution_count": null,
      "outputs": []
    },
    {
      "cell_type": "code",
      "metadata": {
        "id": "fJq0wPctzyKG"
      },
      "source": [
        "history = model.fit(X_train, y_train, batch_size=256, validation_split=0.3, epochs=100, verbose=1)"
      ],
      "execution_count": null,
      "outputs": []
    },
    {
      "cell_type": "code",
      "metadata": {
        "id": "dwYFlYCIz44x"
      },
      "source": [
        "history.history.keys()"
      ],
      "execution_count": null,
      "outputs": []
    },
    {
      "cell_type": "code",
      "metadata": {
        "id": "lVmb0TD03O-h"
      },
      "source": [
        "plt.plot(history.history['accuracy'])\n",
        "plt.plot(history.history['val_accuracy'])\n",
        "plt.legend(['train', 'val'], loc = 'best')\n",
        "plt.show()"
      ],
      "execution_count": null,
      "outputs": []
    },
    {
      "cell_type": "code",
      "metadata": {
        "id": "Y8ez9-rq4KvI"
      },
      "source": [
        "X_test.shape, y_test.shape"
      ],
      "execution_count": null,
      "outputs": []
    },
    {
      "cell_type": "code",
      "metadata": {
        "colab": {
          "base_uri": "https://localhost:8080/"
        },
        "id": "wjAR5MRL3tmh",
        "outputId": "0426670d-6ed9-4492-ac1d-69688d2dba13"
      },
      "source": [
        "result = model.evaluate(X_test, y_test)\n",
        "print('Test accuracy : {}%'.format(round(result[1]*100)))"
      ],
      "execution_count": 22,
      "outputs": [
        {
          "output_type": "stream",
          "text": [
            "313/313 [==============================] - 1s 2ms/step - loss: 2.1121 - accuracy: 0.2426\n",
            "Test accuracy : 24%\n"
          ],
          "name": "stdout"
        }
      ]
    },
    {
      "cell_type": "markdown",
      "metadata": {
        "id": "ABnIkB_eBANa"
      },
      "source": [
        "improve_get_model\n",
        "- Adam optimizer 사용\n",
        "- loss = sparse_categorical_crossentropy\n",
        "- metrics = accuracy\n"
      ]
    },
    {
      "cell_type": "code",
      "metadata": {
        "id": "AwLLL22133Sq"
      },
      "source": [
        "def improve_get_model():\n",
        "    model = Sequential()\n",
        "\n",
        "    model.add(Dense(50, activation='sigmoid', input_shape=(784,), kernel_initializer='he_normal'))\n",
        "    model.add(Dense(50, activation='sigmoid', kernel_initializer='he_normal'))\n",
        "    model.add(Dense(50, activation='sigmoid', kernel_initializer='he_normal'))\n",
        "    model.add(Dense(50, activation='sigmoid', kernel_initializer='he_normal'))\n",
        "\n",
        "    model.add(Dense(10, activation='softmax'))\n",
        "\n",
        "    optimizer = Adam(learning_rate=0.01)\n",
        "    model.compile(optimizer = optimizer,\n",
        "                  loss ='sparse_categorical_crossentropy',\n",
        "                  metrics = ['accuracy'])\n",
        "    return model"
      ],
      "execution_count": 23,
      "outputs": []
    },
    {
      "cell_type": "code",
      "metadata": {
        "id": "37WIrwBj7maM"
      },
      "source": [
        "model = improve_get_model()\n",
        "model.summary()"
      ],
      "execution_count": null,
      "outputs": []
    },
    {
      "cell_type": "code",
      "metadata": {
        "id": "ajeAAFhD7pKg"
      },
      "source": [
        "history = model.fit(X_train, y_train, batch_size=256, validation_split=0.3, epochs=100, verbose=1)"
      ],
      "execution_count": null,
      "outputs": []
    },
    {
      "cell_type": "code",
      "metadata": {
        "id": "jNva7GtBDSij"
      },
      "source": [
        "plt.plot(history.history['accuracy'])\n",
        "plt.plot(history.history['val_accuracy'])\n",
        "plt.legend(['train', 'val'], loc = 'best')\n",
        "plt.show()"
      ],
      "execution_count": null,
      "outputs": []
    },
    {
      "cell_type": "code",
      "metadata": {
        "id": "0iDjqKlL7qqS",
        "colab": {
          "base_uri": "https://localhost:8080/"
        },
        "outputId": "379c2eb0-fbb7-410a-c906-6ce65a079207"
      },
      "source": [
        "result = model.evaluate(X_test, y_test)\n",
        "print('Test accuracy : {}%'.format(round(result[1]*100)))"
      ],
      "execution_count": 27,
      "outputs": [
        {
          "output_type": "stream",
          "text": [
            "313/313 [==============================] - 1s 2ms/step - loss: 1.4856 - accuracy: 0.3499\n",
            "Test accuracy : 35%\n"
          ],
          "name": "stdout"
        }
      ]
    },
    {
      "cell_type": "markdown",
      "metadata": {
        "id": "OxxDqNhACk75"
      },
      "source": [
        "improve_activation_get_model\n",
        "- RMSprop optimizer 사용\n",
        "- loss = sparse_categorical_crossentropy 사용\n",
        "- metrics = accuracy"
      ]
    },
    {
      "cell_type": "code",
      "metadata": {
        "id": "BfbV-AZ4-Dk6"
      },
      "source": [
        "def improve_activation_get_model():\n",
        "    model = Sequential()\n",
        "\n",
        "    model.add(Dense(50, activation='relu', input_shape=(784,)))\n",
        "    model.add(Dense(50, activation='relu'))\n",
        "    model.add(Dense(50, activation='relu'))\n",
        "    model.add(Dense(50, activation='relu'))\n",
        "\n",
        "    model.add(Dense(10, activation='softmax'))\n",
        "\n",
        "    optimizer = RMSprop(learning_rate=0.01)\n",
        "    model.compile(optimizer = optimizer,\n",
        "                  loss ='sparse_categorical_crossentropy',\n",
        "                  metrics = ['accuracy'])\n",
        "    return model\n",
        "\n",
        "model = improve_activation_get_model()\n",
        "model.summary()"
      ],
      "execution_count": null,
      "outputs": []
    },
    {
      "cell_type": "code",
      "metadata": {
        "id": "lZhNbXvv-EC1"
      },
      "source": [
        "history = model.fit(X_train, y_train, batch_size=256, validation_split=0.3, epochs=100, verbose=1)"
      ],
      "execution_count": null,
      "outputs": []
    },
    {
      "cell_type": "code",
      "metadata": {
        "id": "WBNWvobpDXTv"
      },
      "source": [
        "plt.plot(history.history['accuracy'])\n",
        "plt.plot(history.history['val_accuracy'])\n",
        "plt.legend(['train', 'val'], loc = 'best')\n",
        "plt.show()"
      ],
      "execution_count": null,
      "outputs": []
    },
    {
      "cell_type": "code",
      "metadata": {
        "colab": {
          "base_uri": "https://localhost:8080/"
        },
        "id": "jMAA4PRD-QXN",
        "outputId": "d135fb88-c26b-4c60-d8da-d9226770c978"
      },
      "source": [
        "result = model.evaluate(X_test, y_test)\n",
        "print('Test accuracy : {}%'.format(round(result[1]*100)))"
      ],
      "execution_count": 31,
      "outputs": [
        {
          "output_type": "stream",
          "text": [
            "313/313 [==============================] - 1s 2ms/step - loss: 1.4250 - accuracy: 0.4540\n",
            "Test accuracy : 45%\n"
          ],
          "name": "stdout"
        }
      ]
    },
    {
      "cell_type": "markdown",
      "metadata": {
        "id": "SG10omKNEkcS"
      },
      "source": [
        "Batch Normalization - normalization_adam_get_model\n",
        "- 각 피쳐별 배치 정규화 진행\n",
        "- loss = sparse_categorical_crossentropy\n",
        "- metrics = accuracy\n",
        "- optimizer = Adam "
      ]
    },
    {
      "cell_type": "code",
      "metadata": {
        "id": "DlWsyyTzDJop"
      },
      "source": [
        "def normalization_adam_get_model():\n",
        "    model = Sequential()\n",
        "\n",
        "    model.add( Dense (50, input_shape=(784,) ) )\n",
        "    model.add( BatchNormalization() )\n",
        "    model.add( Activation('sigmoid') )\n",
        "\n",
        "    model.add(Dense (50) )\n",
        "    model.add( BatchNormalization() )\n",
        "    model.add( Activation('sigmoid') )\n",
        "\n",
        "    model.add(Dense (50) )\n",
        "    model.add( BatchNormalization() )\n",
        "    model.add( Activation('sigmoid') )\n",
        "\n",
        "    model.add(Dense (50) )\n",
        "    model.add( BatchNormalization() )\n",
        "    model.add( Activation('sigmoid') )\n",
        "\n",
        "    model.add(Dense(10, activation='softmax'))\n",
        "\n",
        "    optimizer = Adam(learning_rate=0.01)\n",
        "    model.compile(optimizer = optimizer,\n",
        "                  loss ='sparse_categorical_crossentropy',\n",
        "                  metrics = ['accuracy'])\n",
        "    return model\n",
        "    \n",
        "model = normalization_adam_get_model()\n",
        "model.summary()"
      ],
      "execution_count": null,
      "outputs": []
    },
    {
      "cell_type": "code",
      "metadata": {
        "id": "Bi-dqBveFOPN"
      },
      "source": [
        "history = model.fit(X_train, y_train, validation_split=0.3, epochs=100, verbose=1)"
      ],
      "execution_count": null,
      "outputs": []
    },
    {
      "cell_type": "code",
      "metadata": {
        "colab": {
          "base_uri": "https://localhost:8080/",
          "height": 265
        },
        "id": "l6r-rm_JFQ76",
        "outputId": "62e1ed1c-3b07-4ce3-9d61-b5db89911cb4"
      },
      "source": [
        "plt.plot(history.history['accuracy'])\n",
        "plt.plot(history.history['val_accuracy'])\n",
        "plt.legend(['train', 'val'], loc = 'best')\n",
        "plt.show()"
      ],
      "execution_count": 34,
      "outputs": [
        {
          "output_type": "display_data",
          "data": {
            "image/png": "[encoded data removed]",
            "text/plain": [
              "<Figure size 432x288 with 1 Axes>"
            ]
          },
          "metadata": {
            "tags": [],
            "needs_background": "light"
          }
        }
      ]
    },
    {
      "cell_type": "code",
      "metadata": {
        "colab": {
          "base_uri": "https://localhost:8080/"
        },
        "id": "lpH9QaVlFYcC",
        "outputId": "b2d73e5d-f890-412f-b8e4-26203860b321"
      },
      "source": [
        "result = model.evaluate(X_test, y_test)\n",
        "print('Test accuracy : {}%'.format(round(result[1]*100)))"
      ],
      "execution_count": 35,
      "outputs": [
        {
          "output_type": "stream",
          "text": [
            "313/313 [==============================] - 1s 2ms/step - loss: 0.9788 - accuracy: 0.8251\n",
            "Test accuracy : 83%\n"
          ],
          "name": "stdout"
        }
      ]
    },
    {
      "cell_type": "markdown",
      "metadata": {
        "id": "SMniMKTlGFpI"
      },
      "source": [
        "Batch Normalization - normalization_RMSprop_get_model\n",
        "- 각 피쳐별 배치 정규화 진행\n",
        "- loss = sparse_categorical_crossentropy\n",
        "- metrix = accuracy\n",
        "- optimizer = RMSprop "
      ]
    },
    {
      "cell_type": "code",
      "metadata": {
        "id": "OZ7JgkkOFWdX"
      },
      "source": [
        "def normalization_RMSprop_get_model():\n",
        "    model = Sequential()\n",
        "\n",
        "    model.add( Dense (50, input_shape=(784,) ) )\n",
        "    model.add( BatchNormalization() )\n",
        "    model.add( Activation('sigmoid') )\n",
        "\n",
        "    model.add(Dense (50) )\n",
        "    model.add( BatchNormalization() )\n",
        "    model.add( Activation('sigmoid') )\n",
        "\n",
        "    model.add(Dense (50) )\n",
        "    model.add( BatchNormalization() )\n",
        "    model.add( Activation('sigmoid') )\n",
        "\n",
        "    model.add(Dense (50) )\n",
        "    model.add( BatchNormalization() )\n",
        "    model.add( Activation('sigmoid') )\n",
        "\n",
        "    model.add(Dense(10, activation='softmax'))\n",
        "\n",
        "    optimizer = RMSprop(learning_rate=0.01)\n",
        "    model.compile(optimizer = optimizer,\n",
        "                  loss ='sparse_categorical_crossentropy',\n",
        "                  metrics = ['accuracy'])\n",
        "    return model\n",
        "    \n",
        "model = normalization_RMSprop_get_model()\n",
        "model.summary()"
      ],
      "execution_count": null,
      "outputs": []
    },
    {
      "cell_type": "code",
      "metadata": {
        "id": "JDpIFL2MGpI2"
      },
      "source": [
        "history = model.fit(X_train, y_train, validation_split=0.3, epochs=100, verbose=1)"
      ],
      "execution_count": null,
      "outputs": []
    },
    {
      "cell_type": "code",
      "metadata": {
        "colab": {
          "base_uri": "https://localhost:8080/",
          "height": 265
        },
        "id": "RpXKUdBRGsEV",
        "outputId": "992b7bc7-8dc2-4b6d-f4ef-e56fc2c3aec5"
      },
      "source": [
        "plt.plot(history.history['accuracy'])\n",
        "plt.plot(history.history['val_accuracy'])\n",
        "plt.legend(['train', 'val'], loc = 'best')\n",
        "plt.show()"
      ],
      "execution_count": 38,
      "outputs": [
        {
          "output_type": "display_data",
          "data": {
            "image/png": "[encoded data removed]",
            "text/plain": [
              "<Figure size 432x288 with 1 Axes>"
            ]
          },
          "metadata": {
            "tags": [],
            "needs_background": "light"
          }
        }
      ]
    },
    {
      "cell_type": "code",
      "metadata": {
        "colab": {
          "base_uri": "https://localhost:8080/"
        },
        "id": "vinDLjViGwSy",
        "outputId": "04959e7d-4c36-4b36-83c1-856cdff59c64"
      },
      "source": [
        "result = model.evaluate(X_test, y_test)\n",
        "print('Test accuracy : {}%'.format(round(result[1]*100)))"
      ],
      "execution_count": 39,
      "outputs": [
        {
          "output_type": "stream",
          "text": [
            "313/313 [==============================] - 1s 2ms/step - loss: 0.9719 - accuracy: 0.8375\n",
            "Test accuracy : 84%\n"
          ],
          "name": "stdout"
        }
      ]
    },
    {
      "cell_type": "markdown",
      "metadata": {
        "id": "g4GoAFgeHwZm"
      },
      "source": [
        "Dropout, earlystopping - dropout_get_model()\n",
        "- optimizer = Adam\n",
        "- loss = sparse_categorical_crossentropy\n",
        "- metrics = accuracy"
      ]
    },
    {
      "cell_type": "code",
      "metadata": {
        "id": "aYa0IUhWIGuc"
      },
      "source": [
        "def dropout_get_model():\n",
        "    model = Sequential()\n",
        "\n",
        "    model.add( Dense (50, input_shape=(784,) ) )\n",
        "    model.add( Activation('sigmoid') )\n",
        "    model.add( Dropout(0.2) )\n",
        "\n",
        "    model.add(Dense (50) )\n",
        "    model.add( Activation('sigmoid') )\n",
        "    model.add( Dropout(0.2) )\n",
        "\n",
        "    model.add(Dense (50) )\n",
        "    model.add( Activation('sigmoid') )\n",
        "    model.add( Dropout(0.2) )\n",
        "\n",
        "    model.add(Dense (50) )\n",
        "    model.add( Activation('sigmoid') )\n",
        "    model.add( Dropout(0.2) )\n",
        "\n",
        "    model.add(Dense(10, activation='softmax'))\n",
        "\n",
        "    optimizer = Adam(learning_rate=0.01)\n",
        "    model.compile(optimizer = optimizer,\n",
        "                  loss ='sparse_categorical_crossentropy',\n",
        "                  metrics = ['accuracy'])\n",
        "    return model\n",
        "\n",
        "model = dropout_get_model()\n",
        "model.summary()"
      ],
      "execution_count": null,
      "outputs": []
    },
    {
      "cell_type": "code",
      "metadata": {
        "id": "hZy4WIbsIaE4"
      },
      "source": [
        "history = model.fit(X_train, y_train, validation_split=0.3, epochs=100, verbose=1)"
      ],
      "execution_count": null,
      "outputs": []
    },
    {
      "cell_type": "code",
      "metadata": {
        "id": "6ywSegbuIcxs"
      },
      "source": [
        "plt.plot(history.history['accuracy'])\n",
        "plt.plot(history.history['val_accuracy'])\n",
        "plt.legend(['train', 'val'], loc = 'best')\n",
        "plt.show()"
      ],
      "execution_count": null,
      "outputs": []
    },
    {
      "cell_type": "code",
      "metadata": {
        "colab": {
          "base_uri": "https://localhost:8080/"
        },
        "id": "wtdWrGJGJCYe",
        "outputId": "c2936ac6-0af4-4a50-f062-8509297e61ee"
      },
      "source": [
        "result = model.evaluate(X_test, y_test)\n",
        "print('Test accuracy : {}%'.format(round(result[1]*100)))"
      ],
      "execution_count": 45,
      "outputs": [
        {
          "output_type": "stream",
          "text": [
            "313/313 [==============================] - 1s 2ms/step - loss: 1.7255 - accuracy: 0.2598\n",
            "Test accuracy : 26%\n"
          ],
          "name": "stdout"
        }
      ]
    },
    {
      "cell_type": "markdown",
      "metadata": {
        "id": "GXHS35ZYJdp0"
      },
      "source": [
        "Dropout, earlystopping - dropout_get_model2()\n",
        "- optimizer = RMSprop\n",
        "- loss = sparse_categorical_crossentropy\n",
        "- metrics = accuracy"
      ]
    },
    {
      "cell_type": "code",
      "metadata": {
        "id": "f995BrlDJiAV"
      },
      "source": [
        "def dropout_get_model2():\n",
        "    model = Sequential()\n",
        "\n",
        "    model.add( Dense (50, input_shape=(784,) ) )\n",
        "    model.add( Activation('sigmoid') )\n",
        "    model.add( Dropout(0.2) )\n",
        "\n",
        "    model.add(Dense (50) )\n",
        "    model.add( Activation('sigmoid') )\n",
        "    model.add( Dropout(0.2) )\n",
        "\n",
        "    model.add(Dense (50) )\n",
        "    model.add( Activation('sigmoid') )\n",
        "    model.add( Dropout(0.2) )\n",
        "\n",
        "    model.add(Dense (50) )\n",
        "    model.add( Activation('sigmoid') )\n",
        "    model.add( Dropout(0.2) )\n",
        "\n",
        "    model.add(Dense(10, activation='softmax'))\n",
        "\n",
        "    optimizer = RMSprop(learning_rate=0.01)\n",
        "    model.compile(optimizer = optimizer,\n",
        "                  loss ='sparse_categorical_crossentropy',\n",
        "                  metrics = ['accuracy'])\n",
        "    return model\n",
        "\n",
        "model = dropout_get_model2()\n",
        "model.summary()"
      ],
      "execution_count": null,
      "outputs": []
    },
    {
      "cell_type": "code",
      "metadata": {
        "id": "YMrtGAMCJh4T"
      },
      "source": [
        "history = model.fit(X_train, y_train, validation_split=0.3, epochs=100, verbose=1)"
      ],
      "execution_count": null,
      "outputs": []
    },
    {
      "cell_type": "code",
      "metadata": {
        "id": "xmHkTZ7aJhvt"
      },
      "source": [
        "plt.plot(history.history['accuracy'])\n",
        "plt.plot(history.history['val_accuracy'])\n",
        "plt.legend(['train', 'val'], loc = 'best')\n",
        "plt.show()"
      ],
      "execution_count": null,
      "outputs": []
    },
    {
      "cell_type": "code",
      "metadata": {
        "colab": {
          "base_uri": "https://localhost:8080/"
        },
        "id": "15rkYlICJu-x",
        "outputId": "dd5bc5e0-9284-4e75-ac75-52d4c4d490f8"
      },
      "source": [
        "result = model.evaluate(X_test, y_test)\n",
        "print('Test accuracy : {}%'.format(round(result[1]*100)))"
      ],
      "execution_count": 49,
      "outputs": [
        {
          "output_type": "stream",
          "text": [
            "313/313 [==============================] - 1s 2ms/step - loss: 1.9101 - accuracy: 0.2681\n",
            "Test accuracy : 27%\n"
          ],
          "name": "stdout"
        }
      ]
    },
    {
      "cell_type": "markdown",
      "metadata": {
        "id": "OI_CTkdfJHpd"
      },
      "source": [
        "dropout_batch_normalization_get_model()\n",
        "- optimizer = Adam\n",
        "- loss = sparse_categorical_crossentropy\n",
        "- metrics = accuracy"
      ]
    },
    {
      "cell_type": "code",
      "metadata": {
        "id": "WPtNk-mFJtIR"
      },
      "source": [
        "def dropout_batch_normalization_get_model():\n",
        "    model = Sequential()\n",
        "\n",
        "    model.add( Dense (50, input_shape=(784,) ) )\n",
        "    model.add( BatchNormalization() )\n",
        "    model.add( Activation('sigmoid') )\n",
        "    model.add( Dropout(0.2) )\n",
        "\n",
        "    model.add(Dense (50) )\n",
        "    model.add( BatchNormalization() )\n",
        "    model.add( Activation('sigmoid') )\n",
        "    model.add( Dropout(0.2) )\n",
        "\n",
        "    model.add(Dense (50) )\n",
        "    model.add( BatchNormalization() )\n",
        "    model.add( Activation('sigmoid') )\n",
        "    model.add( Dropout(0.2) )\n",
        "\n",
        "    model.add(Dense (50) )\n",
        "    model.add( BatchNormalization() )\n",
        "    model.add( Activation('sigmoid') )\n",
        "    model.add( Dropout(0.2) )\n",
        "\n",
        "    model.add(Dense(10, activation='softmax'))\n",
        "\n",
        "    optimizer = Adam(learning_rate=0.01)\n",
        "    model.compile(optimizer = optimizer,\n",
        "                  loss ='sparse_categorical_crossentropy',\n",
        "                  metrics = ['accuracy'])\n",
        "    return model\n",
        "\n",
        "model = dropout_batch_normalization_get_model()\n",
        "model.summary()"
      ],
      "execution_count": 50,
      "outputs": []
    },
    {
      "cell_type": "code",
      "metadata": {
        "id": "SI45J34JJE9s"
      },
      "source": [
        "history = model.fit(X_train, y_train, validation_split=0.3, epochs=100, verbose=1)"
      ],
      "execution_count": null,
      "outputs": []
    },
    {
      "cell_type": "code",
      "metadata": {
        "colab": {
          "base_uri": "https://localhost:8080/",
          "height": 265
        },
        "id": "q4mNp5iKLwiq",
        "outputId": "569c9955-8ed8-4c46-ace0-fde5f2fc1acb"
      },
      "source": [
        "plt.plot(history.history['accuracy'])\n",
        "plt.plot(history.history['val_accuracy'])\n",
        "plt.legend(['train', 'val'], loc = 'best')\n",
        "plt.show()"
      ],
      "execution_count": 52,
      "outputs": [
        {
          "output_type": "display_data",
          "data": {
            "image/png": "[encoded data removed]",
            "text/plain": [
              "<Figure size 432x288 with 1 Axes>"
            ]
          },
          "metadata": {
            "tags": [],
            "needs_background": "light"
          }
        }
      ]
    },
    {
      "cell_type": "code",
      "metadata": {
        "colab": {
          "base_uri": "https://localhost:8080/"
        },
        "id": "NdZpbnExLwVb",
        "outputId": "c7fbb184-23c4-48ca-f4e5-6caf9407c61e"
      },
      "source": [
        "result = model.evaluate(X_test, y_test)\n",
        "print('Test accuracy : {}%'.format(round(result[1]*100)))"
      ],
      "execution_count": 53,
      "outputs": [
        {
          "output_type": "stream",
          "text": [
            "313/313 [==============================] - 1s 2ms/step - loss: 1.6381 - accuracy: 0.2757\n",
            "Test accuracy : 28%\n"
          ],
          "name": "stdout"
        }
      ]
    },
    {
      "cell_type": "markdown",
      "metadata": {
        "id": "JfjmOzQgMfJi"
      },
      "source": [
        "dropout_batch_normalization_get_model2()\n",
        "- optimizer = RMSprop\n",
        "- loss = sparse_categorical_crossentropy\n",
        "- metrics = accuracy"
      ]
    },
    {
      "cell_type": "code",
      "metadata": {
        "id": "aSiayOwDMbL3"
      },
      "source": [
        "def dropout_batch_normalization_get_model2():\n",
        "    model = Sequential()\n",
        "\n",
        "    model.add( Dense (50, input_shape=(784,) ) )\n",
        "    model.add( BatchNormalization() )\n",
        "    model.add( Activation('sigmoid') )\n",
        "    model.add( Dropout(0.2) )\n",
        "\n",
        "    model.add(Dense (50) )\n",
        "    model.add( BatchNormalization() )\n",
        "    model.add( Activation('sigmoid') )\n",
        "    model.add( Dropout(0.2) )\n",
        "\n",
        "    model.add(Dense (50) )\n",
        "    model.add( BatchNormalization() )\n",
        "    model.add( Activation('sigmoid') )\n",
        "    model.add( Dropout(0.2) )\n",
        "\n",
        "    model.add(Dense (50) )\n",
        "    model.add( BatchNormalization() )\n",
        "    model.add( Activation('sigmoid') )\n",
        "    model.add( Dropout(0.2) )\n",
        "\n",
        "    model.add(Dense(10, activation='softmax'))\n",
        "\n",
        "    optimizer = RMSprop(learning_rate=0.01)\n",
        "    model.compile(optimizer = optimizer,\n",
        "                  loss ='sparse_categorical_crossentropy',\n",
        "                  metrics = ['accuracy'])\n",
        "    return model\n",
        "\n",
        "model = dropout_batch_normalization_get_model2()\n",
        "model.summary()"
      ],
      "execution_count": null,
      "outputs": []
    },
    {
      "cell_type": "code",
      "metadata": {
        "id": "wG6TPQveMmH6"
      },
      "source": [
        "history = model.fit(X_train, y_train, validation_split=0.3, epochs=100, verbose=1)"
      ],
      "execution_count": null,
      "outputs": []
    },
    {
      "cell_type": "code",
      "metadata": {
        "id": "mtibbwRGMr_u"
      },
      "source": [
        "plt.plot(history.history['accuracy'])\n",
        "plt.plot(history.history['val_accuracy'])\n",
        "plt.legend(['train', 'val'], loc = 'best')\n",
        "plt.show()"
      ],
      "execution_count": null,
      "outputs": []
    },
    {
      "cell_type": "code",
      "metadata": {
        "id": "mmcKhHbcMrv2"
      },
      "source": [
        "result = model.evaluate(X_test, y_test)\n",
        "print('Test accuracy : {}%'.format(round(result[1]*100)))"
      ],
      "execution_count": null,
      "outputs": []
    },
    {
      "cell_type": "code",
      "metadata": {
        "id": "E9VhKcOmNTfu"
      },
      "source": [
        "callbacks = [EarlyStopping(monitor='val_accuracy', patience=3)]\n",
        "history = model.fit(X_train, y_train, validation_split=0.3, epochs=100, verbose=1, callbacks=callbacks)"
      ],
      "execution_count": null,
      "outputs": []
    },
    {
      "cell_type": "code",
      "metadata": {
        "id": "gBPM1VnNNY23"
      },
      "source": [
        "result = model.evaluate(X_test, y_test)\n",
        "print('Test accuracy : {}%'.format(round(result[1]*100)))"
      ],
      "execution_count": null,
      "outputs": []
    }
  ]
}