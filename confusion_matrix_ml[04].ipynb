{
  "nbformat": 4,
  "nbformat_minor": 0,
  "metadata": {
    "colab": {
      "name": "confusion_matrix_ml[04].ipynb",
      "provenance": [],
      "authorship_tag": "ABX9TyMi5rfIaeFvhl1ufnZW2dSP",
      "include_colab_link": true
    },
    "kernelspec": {
      "name": "python3",
      "display_name": "Python 3"
    }
  },
  "cells": [
    {
      "cell_type": "markdown",
      "metadata": {
        "id": "view-in-github",
        "colab_type": "text"
      },
      "source": [
        "<a href=\"https://colab.research.google.com/github/Supreme-YS/ML/blob/main/confusion_matrix_ml%5B04%5D.ipynb\" target=\"_parent\"><img src=\"https://colab.research.google.com/assets/colab-badge.svg\" alt=\"Open In Colab\"/></a>"
      ]
    },
    {
      "cell_type": "markdown",
      "metadata": {
        "id": "Sf4Vr8ox630N"
      },
      "source": [
        "분류모델 성능평가\r\n",
        "\r\n",
        "- TP(target=1, prediction=1)\r\n",
        "- TN(target=0, prediction=0)\r\n",
        "- FP(target=0, prediction=1) 1종오류\r\n",
        "- FN(target=1, prediction=0) 2종오류"
      ]
    },
    {
      "cell_type": "code",
      "metadata": {
        "id": "9jUafgRB652v"
      },
      "source": [
        "\r\n",
        "\r\n",
        "target     = [1, 0, 0, 1, 1, 1, 0, 1, 1, 1]\r\n",
        "prediction = [0, 1, 1, 1, 1, 0, 1, 0, 1, 0]\r\n",
        "\r\n",
        "t_p = t_n = f_p = f_n = 0\r\n",
        "\r\n",
        "for i in range(len(prediction)):\r\n",
        "    # TP\r\n",
        "    if target[i] == 1 and prediction[i] == 1:\r\n",
        "        t_p += 1\r\n",
        "    # TN\r\n",
        "    if target[i] == 0 and prediction[i] == 0:\r\n",
        "        t_n += 1\r\n",
        "    # FP\r\n",
        "    if target[i] == 0 and prediction[i] == 1:\r\n",
        "        f_p += 1\r\n",
        "    # FN\r\n",
        "    if target[i] == 1 and prediction[i] == 0: \r\n",
        "        f_n += 1"
      ],
      "execution_count": 1,
      "outputs": []
    },
    {
      "cell_type": "code",
      "metadata": {
        "colab": {
          "base_uri": "https://localhost:8080/"
        },
        "id": "6A2HONtz8cvv",
        "outputId": "527e704f-ca0f-4e18-9314-59823454d0d5"
      },
      "source": [
        "print(t_p)\r\n",
        "print(t_n)\r\n",
        "print(f_p)\r\n",
        "print(f_n)\r\n"
      ],
      "execution_count": 2,
      "outputs": [
        {
          "output_type": "stream",
          "text": [
            "3\n",
            "0\n",
            "3\n",
            "4\n"
          ],
          "name": "stdout"
        }
      ]
    },
    {
      "cell_type": "code",
      "metadata": {
        "colab": {
          "base_uri": "https://localhost:8080/"
        },
        "id": "PN6QQXJZ8khO",
        "outputId": "e29172dc-ef9a-4dd3-c812-29d4e05d8881"
      },
      "source": [
        "from sklearn.metrics import confusion_matrix, accuracy_score, recall_score, precision_score, f1_score\r\n",
        "\r\n",
        "print( confusion_matrix(target, prediction))\r\n",
        "print( accuracy_score(target, prediction))\r\n",
        "print( recall_score(target, prediction))\r\n",
        "print( precision_score(target, prediction))\r\n",
        "print( f1_score(target, prediction))"
      ],
      "execution_count": 4,
      "outputs": [
        {
          "output_type": "stream",
          "text": [
            "[[0 3]\n",
            " [4 3]]\n",
            "0.3\n",
            "0.42857142857142855\n",
            "0.5\n",
            "0.4615384615384615\n"
          ],
          "name": "stdout"
        }
      ]
    },
    {
      "cell_type": "code",
      "metadata": {
        "id": "hmQN5Xom9aUP"
      },
      "source": [
        ""
      ],
      "execution_count": null,
      "outputs": []
    }
  ]
}