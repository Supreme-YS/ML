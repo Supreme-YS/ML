{
  "nbformat": 4,
  "nbformat_minor": 0,
  "metadata": {
    "colab": {
      "name": "confusion_matrix_ml[04].ipynb",
      "provenance": [],
      "authorship_tag": "ABX9TyN/Xt6iVDG0eLX6JlgFKJEm",
      "include_colab_link": true
    },
    "kernelspec": {
      "name": "python3",
      "display_name": "Python 3"
    }
  },
  "cells": [
    {
      "cell_type": "markdown",
      "metadata": {
        "id": "view-in-github",
        "colab_type": "text"
      },
      "source": [
        "<a href=\"https://colab.research.google.com/github/Supreme-YS/ML/blob/main/confusion_matrix_ml%5B04%5D.ipynb\" target=\"_parent\"><img src=\"https://colab.research.google.com/assets/colab-badge.svg\" alt=\"Open In Colab\"/></a>"
      ]
    },
    {
      "cell_type": "markdown",
      "metadata": {
        "id": "Sf4Vr8ox630N"
      },
      "source": [
        "분류모델 성능평가\r\n",
        "\r\n",
        "- TP(target=1, prediction=1)\r\n",
        "- TN(target=0, prediction=0)\r\n",
        "- FP(target=0, prediction=1) 1종오류\r\n",
        "- FN(target=1, prediction=0) 2종오류"
      ]
    },
    {
      "cell_type": "code",
      "metadata": {
        "id": "9jUafgRB652v"
      },
      "source": [
        "\r\n",
        "\r\n",
        "target     = [1, 0, 0, 1, 1, 1, 0, 1, 1, 1]\r\n",
        "prediction = [0, 1, 1, 1, 1, 0, 1, 0, 1, 0]\r\n",
        "\r\n",
        "t_p = t_n = f_p = f_n = 0\r\n",
        "\r\n",
        "for i in range(len(prediction)):\r\n",
        "    # TP\r\n",
        "    if target[i] == 1 and prediction[i] == 1:\r\n",
        "        t_p += 1\r\n",
        "    # TN\r\n",
        "    if target[i] == 0 and prediction[i] == 0:\r\n",
        "        t_n += 1\r\n",
        "    # FP\r\n",
        "    if target[i] == 0 and prediction[i] == 1:\r\n",
        "        f_p += 1\r\n",
        "    # FN\r\n",
        "    if target[i] == 1 and prediction[i] == 0: \r\n",
        "        f_n += 1"
      ],
      "execution_count": 1,
      "outputs": []
    },
    {
      "cell_type": "code",
      "metadata": {
        "colab": {
          "base_uri": "https://localhost:8080/"
        },
        "id": "6A2HONtz8cvv",
        "outputId": "527e704f-ca0f-4e18-9314-59823454d0d5"
      },
      "source": [
        "print(t_p)\r\n",
        "print(t_n)\r\n",
        "print(f_p)\r\n",
        "print(f_n)\r\n"
      ],
      "execution_count": 2,
      "outputs": [
        {
          "output_type": "stream",
          "text": [
            "3\n",
            "0\n",
            "3\n",
            "4\n"
          ],
          "name": "stdout"
        }
      ]
    },
    {
      "cell_type": "code",
      "metadata": {
        "colab": {
          "base_uri": "https://localhost:8080/"
        },
        "id": "PN6QQXJZ8khO",
        "outputId": "e29172dc-ef9a-4dd3-c812-29d4e05d8881"
      },
      "source": [
        "from sklearn.metrics import confusion_matrix, accuracy_score, recall_score, precision_score, f1_score\r\n",
        "\r\n",
        "print( confusion_matrix(target, prediction))\r\n",
        "print( accuracy_score(target, prediction))\r\n",
        "print( recall_score(target, prediction))\r\n",
        "print( precision_score(target, prediction))\r\n",
        "print( f1_score(target, prediction))"
      ],
      "execution_count": 4,
      "outputs": [
        {
          "output_type": "stream",
          "text": [
            "[[0 3]\n",
            " [4 3]]\n",
            "0.3\n",
            "0.42857142857142855\n",
            "0.5\n",
            "0.4615384615384615\n"
          ],
          "name": "stdout"
        }
      ]
    },
    {
      "cell_type": "code",
      "metadata": {
        "id": "hmQN5Xom9aUP"
      },
      "source": [
        "# 이진 분류표\r\n",
        "# 불량품을 찾는게 목적\r\n",
        "\r\n",
        "# 제품에 대한 품질 테스트 결과 양성 -> 불량품\r\n",
        "#                              음성 -> 정상\r\n",
        "\r\n",
        "#             불량          정상\r\n",
        "# 불량        TP             FN\r\n",
        "# 정상        FP             TN\r\n",
        "\r\n",
        "\r\n",
        "# 암 - 양성(P) , 음성(N)\r\n",
        "\r\n",
        "#            예측암        예측암X\r\n",
        "# 암          TP             FN\r\n",
        "# 암 X        FP             TN"
      ],
      "execution_count": null,
      "outputs": []
    },
    {
      "cell_type": "code",
      "metadata": {
        "colab": {
          "base_uri": "https://localhost:8080/",
          "height": 173
        },
        "id": "XySg1ldXBXUe",
        "outputId": "b7fb8ce5-080d-4173-fb71-77b84ce9e173"
      },
      "source": [
        "import numpy as np\r\n",
        "import pandas as pd\r\n",
        "import matplotlib.pyplot as plt\r\n",
        "import seaborn as sns\r\n",
        "\r\n",
        "\r\n",
        "ary = [[9, 1, 0, 0], \r\n",
        "       [1, 15, 3, 1],\r\n",
        "       [5, 0, 24, 1],\r\n",
        "       [0, 4, 1, 15],]\r\n",
        "\r\n",
        "aryDF = pd.DataFrame(ary, index = [i for i in 'ABCD'],\r\n",
        "                     columns = [i for i in 'ABCD'])\r\n",
        "\r\n",
        "aryDF"
      ],
      "execution_count": 11,
      "outputs": [
        {
          "output_type": "execute_result",
          "data": {
            "text/html": [
              "<div>\n",
              "<style scoped>\n",
              "    .dataframe tbody tr th:only-of-type {\n",
              "        vertical-align: middle;\n",
              "    }\n",
              "\n",
              "    .dataframe tbody tr th {\n",
              "        vertical-align: top;\n",
              "    }\n",
              "\n",
              "    .dataframe thead th {\n",
              "        text-align: right;\n",
              "    }\n",
              "</style>\n",
              "<table border=\"1\" class=\"dataframe\">\n",
              "  <thead>\n",
              "    <tr style=\"text-align: right;\">\n",
              "      <th></th>\n",
              "      <th>A</th>\n",
              "      <th>B</th>\n",
              "      <th>C</th>\n",
              "      <th>D</th>\n",
              "    </tr>\n",
              "  </thead>\n",
              "  <tbody>\n",
              "    <tr>\n",
              "      <th>A</th>\n",
              "      <td>9</td>\n",
              "      <td>1</td>\n",
              "      <td>0</td>\n",
              "      <td>0</td>\n",
              "    </tr>\n",
              "    <tr>\n",
              "      <th>B</th>\n",
              "      <td>1</td>\n",
              "      <td>15</td>\n",
              "      <td>3</td>\n",
              "      <td>1</td>\n",
              "    </tr>\n",
              "    <tr>\n",
              "      <th>C</th>\n",
              "      <td>5</td>\n",
              "      <td>0</td>\n",
              "      <td>24</td>\n",
              "      <td>1</td>\n",
              "    </tr>\n",
              "    <tr>\n",
              "      <th>D</th>\n",
              "      <td>0</td>\n",
              "      <td>4</td>\n",
              "      <td>1</td>\n",
              "      <td>15</td>\n",
              "    </tr>\n",
              "  </tbody>\n",
              "</table>\n",
              "</div>"
            ],
            "text/plain": [
              "   A   B   C   D\n",
              "A  9   1   0   0\n",
              "B  1  15   3   1\n",
              "C  5   0  24   1\n",
              "D  0   4   1  15"
            ]
          },
          "metadata": {
            "tags": []
          },
          "execution_count": 11
        }
      ]
    },
    {
      "cell_type": "code",
      "metadata": {
        "colab": {
          "base_uri": "https://localhost:8080/",
          "height": 428
        },
        "id": "8eOIxbMzBsaP",
        "outputId": "9b68e9f2-eec9-4a89-b51a-21ec37ab7ba9"
      },
      "source": [
        "plt.figure(figsize=(10, 7))\r\n",
        "\r\n",
        "sns.heatmap(aryDF, annot=True)\r\n",
        "\r\n",
        "plt.show()\r\n",
        "plt.close()"
      ],
      "execution_count": 12,
      "outputs": [
        {
          "output_type": "display_data",
          "data": {
            "image/png": "[encoded data removed]",
            "text/plain": [
              "<Figure size 720x504 with 2 Axes>"
            ]
          },
          "metadata": {
            "tags": [],
            "needs_background": "light"
          }
        }
      ]
    },
    {
      "cell_type": "code",
      "metadata": {
        "id": "EmrvdoSHCMUN"
      },
      "source": [
        "total = np.sum(ary, axis = 1)\r\n",
        "\r\n",
        "ary = ary / total[:None]\r\n",
        "ary\r\n",
        "\r\n",
        "aryDF = pd.DataFrame(ary, index = [i for i in 'ABCD'],\r\n",
        "                     columns = [i for i in 'ABCD'])\r\n"
      ],
      "execution_count": 16,
      "outputs": []
    },
    {
      "cell_type": "code",
      "metadata": {
        "colab": {
          "base_uri": "https://localhost:8080/",
          "height": 428
        },
        "id": "gWrqWANnDsJp",
        "outputId": "4b6954b8-449c-4244-9849-a254e1615088"
      },
      "source": [
        "plt.figure(figsize=(10, 7))\r\n",
        "\r\n",
        "sns.heatmap(aryDF, annot=True)\r\n",
        "\r\n",
        "plt.show()\r\n",
        "plt.close()"
      ],
      "execution_count": 17,
      "outputs": [
        {
          "output_type": "display_data",
          "data": {
            "image/png": "[encoded data removed]",
            "text/plain": [
              "<Figure size 720x504 with 2 Axes>"
            ]
          },
          "metadata": {
            "tags": [],
            "needs_background": "light"
          }
        }
      ]
    },
    {
      "cell_type": "code",
      "metadata": {
        "id": "20Ld8BX_D9VU"
      },
      "source": [
        ""
      ],
      "execution_count": null,
      "outputs": []
    }
  ]
}