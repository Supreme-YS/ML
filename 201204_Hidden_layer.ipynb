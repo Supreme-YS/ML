{
  "nbformat": 4,
  "nbformat_minor": 0,
  "metadata": {
    "colab": {
      "name": "201204 Hidden layer.ipynb",
      "provenance": [],
      "authorship_tag": "ABX9TyNmdkSswAzlc6fIadcA9Whl",
      "include_colab_link": true
    },
    "kernelspec": {
      "name": "python3",
      "display_name": "Python 3"
    }
  },
  "cells": [
    {
      "cell_type": "markdown",
      "metadata": {
        "id": "view-in-github",
        "colab_type": "text"
      },
      "source": [
        "<a href=\"https://colab.research.google.com/github/Supreme-YS/ML/blob/main/201204_Hidden_layer.ipynb\" target=\"_parent\"><img src=\"https://colab.research.google.com/assets/colab-badge.svg\" alt=\"Open In Colab\"/></a>"
      ]
    },
    {
      "cell_type": "code",
      "metadata": {
        "id": "2_ChGY1lu0ma"
      },
      "source": [
        "# 1. 과거의 데이터 준비\n",
        "# 2. 모델 구조를 만든다\n",
        "# 3. 모델을 학습시킨다.\n",
        "# 4. 모델을 사용한다."
      ],
      "execution_count": null,
      "outputs": []
    },
    {
      "cell_type": "markdown",
      "metadata": {
        "id": "n8XNlaCEwAB7"
      },
      "source": [
        "파일경로(보스턴) = 'https://raw.githubusercontent.com/blackdew/tensorflow1/master/csv/boston.csv'\n",
        "\n",
        "파일경로(아이리스) = 'https://raw.githubusercontent.com/blackdew/tensorflow1/master/csv/iris.csv'"
      ]
    },
    {
      "cell_type": "code",
      "metadata": {
        "id": "sRoBCdMlwLxV"
      },
      "source": [
        "# 라이브러리 사용\n",
        "import tensorflow as tf\n",
        "import pandas as pd"
      ],
      "execution_count": 1,
      "outputs": []
    },
    {
      "cell_type": "markdown",
      "metadata": {
        "id": "7-EH0B_FwT92"
      },
      "source": [
        "보스턴 집값 예측"
      ]
    },
    {
      "cell_type": "code",
      "metadata": {
        "colab": {
          "base_uri": "https://localhost:8080/"
        },
        "id": "zgWwTbcmwYdH",
        "outputId": "3c261d90-6f4d-4676-bb46-2fc5651792d9"
      },
      "source": [
        "###########################\n",
        "# 1.과거의 데이터를 준비합니다.\n",
        "파일경로 = 'https://raw.githubusercontent.com/blackdew/tensorflow1/master/csv/boston.csv'\n",
        "보스턴 = pd.read_csv(파일경로)\n",
        " \n",
        "# 종속변수, 독립변수\n",
        "독립 = 보스턴[['crim', 'zn', 'indus', 'chas', 'nox', \n",
        "            'rm', 'age', 'dis', 'rad', 'tax',\n",
        "            'ptratio', 'b', 'lstat']]\n",
        "종속 = 보스턴[['medv']]\n",
        "print(독립.shape, 종속.shape)"
      ],
      "execution_count": 2,
      "outputs": [
        {
          "output_type": "stream",
          "text": [
            "(506, 13) (506, 1)\n"
          ],
          "name": "stdout"
        }
      ]
    },
    {
      "cell_type": "code",
      "metadata": {
        "id": "-Q29H3WqwmAw"
      },
      "source": [
        "###########################\n",
        "# 2. 모델의 구조를 만듭니다\n",
        "X = tf.keras.layers.Input(shape=[13])\n",
        "H = tf.keras.layers.Dense(10, activation='swish')(X)\n",
        "Y = tf.keras.layers.Dense(1)(H)\n",
        "model = tf.keras.models.Model(X, Y)\n",
        "model.compile(loss='mse')"
      ],
      "execution_count": 3,
      "outputs": []
    },
    {
      "cell_type": "code",
      "metadata": {
        "colab": {
          "base_uri": "https://localhost:8080/"
        },
        "id": "f4AQS59qxPjy",
        "outputId": "1509e991-333f-4194-fb7c-20ba66914040"
      },
      "source": [
        "model.summary() # 13 --> 10 --> 1개의 출력"
      ],
      "execution_count": 6,
      "outputs": [
        {
          "output_type": "stream",
          "text": [
            "Model: \"functional_1\"\n",
            "_________________________________________________________________\n",
            "Layer (type)                 Output Shape              Param #   \n",
            "=================================================================\n",
            "input_1 (InputLayer)         [(None, 13)]              0         \n",
            "_________________________________________________________________\n",
            "dense (Dense)                (None, 10)                140       \n",
            "_________________________________________________________________\n",
            "dense_1 (Dense)              (None, 1)                 11        \n",
            "=================================================================\n",
            "Total params: 151\n",
            "Trainable params: 151\n",
            "Non-trainable params: 0\n",
            "_________________________________________________________________\n"
          ],
          "name": "stdout"
        }
      ]
    },
    {
      "cell_type": "code",
      "metadata": {
        "colab": {
          "base_uri": "https://localhost:8080/"
        },
        "id": "0o9xxxcAwpt_",
        "outputId": "69242270-f4fd-4280-faf6-abd82484c83d"
      },
      "source": [
        "# 3. 데이터로 모델을 학습합니다.\n",
        "model.fit(독립, 종속, epochs = 1000, verbose=0) # 멀티레이어 학습"
      ],
      "execution_count": 5,
      "outputs": [
        {
          "output_type": "execute_result",
          "data": {
            "text/plain": [
              "<tensorflow.python.keras.callbacks.History at 0x7efcdf8cccf8>"
            ]
          },
          "metadata": {
            "tags": []
          },
          "execution_count": 5
        }
      ]
    },
    {
      "cell_type": "code",
      "metadata": {
        "colab": {
          "base_uri": "https://localhost:8080/"
        },
        "id": "RNHY5cQXw--_",
        "outputId": "606712e2-d4af-46cb-a1dd-471cac27f52e"
      },
      "source": [
        "# 4. 모델 이용하기\n",
        "print(model.predict(독립[:5]))\n",
        "print(종속[:5])"
      ],
      "execution_count": 7,
      "outputs": [
        {
          "output_type": "stream",
          "text": [
            "[[29.66684 ]\n",
            " [25.084816]\n",
            " [30.533316]\n",
            " [31.109293]\n",
            " [30.806545]]\n",
            "   medv\n",
            "0  24.0\n",
            "1  21.6\n",
            "2  34.7\n",
            "3  33.4\n",
            "4  36.2\n"
          ],
          "name": "stdout"
        }
      ]
    },
    {
      "cell_type": "markdown",
      "metadata": {
        "id": "lODrMCcex2Al"
      },
      "source": [
        "아이리스 품종분류\n"
      ]
    },
    {
      "cell_type": "code",
      "metadata": {
        "id": "YVNlFaOBxurv"
      },
      "source": [
        "###########################\n",
        "# 라이브러리 사용\n",
        "import tensorflow as tf\n",
        "import pandas as pd\n"
      ],
      "execution_count": 9,
      "outputs": []
    },
    {
      "cell_type": "code",
      "metadata": {
        "colab": {
          "base_uri": "https://localhost:8080/"
        },
        "id": "isEefTdgx9Gx",
        "outputId": "3632068c-e9f3-42cb-f7d0-ded71d0adf69"
      },
      "source": [
        "\n",
        "###########################\n",
        "# 1.과거의 데이터를 준비합니다.\n",
        "파일경로 = 'https://raw.githubusercontent.com/blackdew/tensorflow1/master/csv/iris.csv'\n",
        "아이리스 = pd.read_csv(파일경로)\n",
        " \n",
        "# 원핫인코딩\n",
        "아이리스 = pd.get_dummies(아이리스)\n",
        " \n",
        "# 종속변수, 독립변수\n",
        "독립 = 아이리스[['꽃잎길이', '꽃잎폭', '꽃받침길이', '꽃받침폭']]\n",
        "종속 = 아이리스[['품종_setosa', '품종_versicolor', '품종_virginica']]\n",
        "print(독립.shape, 종속.shape)\n",
        " \n",
        "###########################\n",
        "# 2. 모델의 구조를 만듭니다\n",
        "X = tf.keras.layers.Input(shape=[4])\n",
        "H = tf.keras.layers.Dense(8, activation=\"swish\")(X)\n",
        "H = tf.keras.layers.Dense(8, activation=\"swish\")(H)\n",
        "H = tf.keras.layers.Dense(8, activation=\"swish\")(H)\n",
        "Y = tf.keras.layers.Dense(3, activation='softmax')(H)\n",
        "model = tf.keras.models.Model(X, Y)\n",
        "model.compile(loss='categorical_crossentropy',\n",
        "              metrics='accuracy')"
      ],
      "execution_count": 10,
      "outputs": [
        {
          "output_type": "stream",
          "text": [
            "(150, 4) (150, 3)\n"
          ],
          "name": "stdout"
        }
      ]
    },
    {
      "cell_type": "code",
      "metadata": {
        "colab": {
          "base_uri": "https://localhost:8080/"
        },
        "id": "nK4e1z_PyFC_",
        "outputId": "9b05dc86-ab9c-4888-8741-b25b62cb69ba"
      },
      "source": [
        "# 모델 구조 확인\n",
        "model.summary()"
      ],
      "execution_count": 11,
      "outputs": [
        {
          "output_type": "stream",
          "text": [
            "Model: \"functional_5\"\n",
            "_________________________________________________________________\n",
            "Layer (type)                 Output Shape              Param #   \n",
            "=================================================================\n",
            "input_3 (InputLayer)         [(None, 4)]               0         \n",
            "_________________________________________________________________\n",
            "dense_6 (Dense)              (None, 8)                 40        \n",
            "_________________________________________________________________\n",
            "dense_7 (Dense)              (None, 8)                 72        \n",
            "_________________________________________________________________\n",
            "dense_8 (Dense)              (None, 8)                 72        \n",
            "_________________________________________________________________\n",
            "dense_9 (Dense)              (None, 3)                 27        \n",
            "=================================================================\n",
            "Total params: 211\n",
            "Trainable params: 211\n",
            "Non-trainable params: 0\n",
            "_________________________________________________________________\n"
          ],
          "name": "stdout"
        }
      ]
    },
    {
      "cell_type": "code",
      "metadata": {
        "colab": {
          "base_uri": "https://localhost:8080/"
        },
        "id": "ykRe9VnJyHJ_",
        "outputId": "2380b6ce-c420-4291-aa21-154e084d030b"
      },
      "source": [
        "###########################\n",
        "# 3.데이터로 모델을 학습(FIT)합니다.\n",
        "model.fit(독립, 종속, epochs=100)"
      ],
      "execution_count": 12,
      "outputs": [
        {
          "output_type": "stream",
          "text": [
            "Epoch 1/100\n",
            "5/5 [==============================] - 0s 2ms/step - loss: 1.0205 - accuracy: 0.3333\n",
            "Epoch 2/100\n",
            "5/5 [==============================] - 0s 2ms/step - loss: 0.9961 - accuracy: 0.3333\n",
            "Epoch 3/100\n",
            "5/5 [==============================] - 0s 2ms/step - loss: 0.9799 - accuracy: 0.3333\n",
            "Epoch 4/100\n",
            "5/5 [==============================] - 0s 2ms/step - loss: 0.9648 - accuracy: 0.3333\n",
            "Epoch 5/100\n",
            "5/5 [==============================] - 0s 2ms/step - loss: 0.9508 - accuracy: 0.3400\n",
            "Epoch 6/100\n",
            "5/5 [==============================] - 0s 2ms/step - loss: 0.9364 - accuracy: 0.3600\n",
            "Epoch 7/100\n",
            "5/5 [==============================] - 0s 2ms/step - loss: 0.9222 - accuracy: 0.4067\n",
            "Epoch 8/100\n",
            "5/5 [==============================] - 0s 2ms/step - loss: 0.9078 - accuracy: 0.5333\n",
            "Epoch 9/100\n",
            "5/5 [==============================] - 0s 2ms/step - loss: 0.8932 - accuracy: 0.5867\n",
            "Epoch 10/100\n",
            "5/5 [==============================] - 0s 2ms/step - loss: 0.8784 - accuracy: 0.6267\n",
            "Epoch 11/100\n",
            "5/5 [==============================] - 0s 2ms/step - loss: 0.8642 - accuracy: 0.6467\n",
            "Epoch 12/100\n",
            "5/5 [==============================] - 0s 2ms/step - loss: 0.8498 - accuracy: 0.6600\n",
            "Epoch 13/100\n",
            "5/5 [==============================] - 0s 2ms/step - loss: 0.8354 - accuracy: 0.6600\n",
            "Epoch 14/100\n",
            "5/5 [==============================] - 0s 3ms/step - loss: 0.8213 - accuracy: 0.6667\n",
            "Epoch 15/100\n",
            "5/5 [==============================] - 0s 2ms/step - loss: 0.8081 - accuracy: 0.6667\n",
            "Epoch 16/100\n",
            "5/5 [==============================] - 0s 2ms/step - loss: 0.7941 - accuracy: 0.6667\n",
            "Epoch 17/100\n",
            "5/5 [==============================] - 0s 2ms/step - loss: 0.7819 - accuracy: 0.6667\n",
            "Epoch 18/100\n",
            "5/5 [==============================] - 0s 2ms/step - loss: 0.7684 - accuracy: 0.6667\n",
            "Epoch 19/100\n",
            "5/5 [==============================] - 0s 2ms/step - loss: 0.7559 - accuracy: 0.6667\n",
            "Epoch 20/100\n",
            "5/5 [==============================] - 0s 2ms/step - loss: 0.7433 - accuracy: 0.6667\n",
            "Epoch 21/100\n",
            "5/5 [==============================] - 0s 1ms/step - loss: 0.7317 - accuracy: 0.6667\n",
            "Epoch 22/100\n",
            "5/5 [==============================] - 0s 2ms/step - loss: 0.7190 - accuracy: 0.6667\n",
            "Epoch 23/100\n",
            "5/5 [==============================] - 0s 2ms/step - loss: 0.7080 - accuracy: 0.6667\n",
            "Epoch 24/100\n",
            "5/5 [==============================] - 0s 2ms/step - loss: 0.6959 - accuracy: 0.6667\n",
            "Epoch 25/100\n",
            "5/5 [==============================] - 0s 2ms/step - loss: 0.6845 - accuracy: 0.6933\n",
            "Epoch 26/100\n",
            "5/5 [==============================] - 0s 2ms/step - loss: 0.6728 - accuracy: 0.7000\n",
            "Epoch 27/100\n",
            "5/5 [==============================] - 0s 2ms/step - loss: 0.6612 - accuracy: 0.7000\n",
            "Epoch 28/100\n",
            "5/5 [==============================] - 0s 2ms/step - loss: 0.6506 - accuracy: 0.7133\n",
            "Epoch 29/100\n",
            "5/5 [==============================] - 0s 2ms/step - loss: 0.6396 - accuracy: 0.7267\n",
            "Epoch 30/100\n",
            "5/5 [==============================] - 0s 2ms/step - loss: 0.6284 - accuracy: 0.7333\n",
            "Epoch 31/100\n",
            "5/5 [==============================] - 0s 2ms/step - loss: 0.6183 - accuracy: 0.7533\n",
            "Epoch 32/100\n",
            "5/5 [==============================] - 0s 2ms/step - loss: 0.6092 - accuracy: 0.7600\n",
            "Epoch 33/100\n",
            "5/5 [==============================] - 0s 2ms/step - loss: 0.5986 - accuracy: 0.7600\n",
            "Epoch 34/100\n",
            "5/5 [==============================] - 0s 2ms/step - loss: 0.5885 - accuracy: 0.7800\n",
            "Epoch 35/100\n",
            "5/5 [==============================] - 0s 2ms/step - loss: 0.5788 - accuracy: 0.7800\n",
            "Epoch 36/100\n",
            "5/5 [==============================] - 0s 2ms/step - loss: 0.5701 - accuracy: 0.8067\n",
            "Epoch 37/100\n",
            "5/5 [==============================] - 0s 2ms/step - loss: 0.5606 - accuracy: 0.7933\n",
            "Epoch 38/100\n",
            "5/5 [==============================] - 0s 2ms/step - loss: 0.5529 - accuracy: 0.8000\n",
            "Epoch 39/100\n",
            "5/5 [==============================] - 0s 2ms/step - loss: 0.5425 - accuracy: 0.8400\n",
            "Epoch 40/100\n",
            "5/5 [==============================] - 0s 2ms/step - loss: 0.5350 - accuracy: 0.8200\n",
            "Epoch 41/100\n",
            "5/5 [==============================] - 0s 2ms/step - loss: 0.5252 - accuracy: 0.8400\n",
            "Epoch 42/100\n",
            "5/5 [==============================] - 0s 2ms/step - loss: 0.5170 - accuracy: 0.8467\n",
            "Epoch 43/100\n",
            "5/5 [==============================] - 0s 2ms/step - loss: 0.5085 - accuracy: 0.8733\n",
            "Epoch 44/100\n",
            "5/5 [==============================] - 0s 2ms/step - loss: 0.4988 - accuracy: 0.8600\n",
            "Epoch 45/100\n",
            "5/5 [==============================] - 0s 2ms/step - loss: 0.4911 - accuracy: 0.8667\n",
            "Epoch 46/100\n",
            "5/5 [==============================] - 0s 2ms/step - loss: 0.4821 - accuracy: 0.9333\n",
            "Epoch 47/100\n",
            "5/5 [==============================] - 0s 2ms/step - loss: 0.4741 - accuracy: 0.8867\n",
            "Epoch 48/100\n",
            "5/5 [==============================] - 0s 2ms/step - loss: 0.4668 - accuracy: 0.8733\n",
            "Epoch 49/100\n",
            "5/5 [==============================] - 0s 2ms/step - loss: 0.4606 - accuracy: 0.9000\n",
            "Epoch 50/100\n",
            "5/5 [==============================] - 0s 2ms/step - loss: 0.4518 - accuracy: 0.8867\n",
            "Epoch 51/100\n",
            "5/5 [==============================] - 0s 2ms/step - loss: 0.4445 - accuracy: 0.9267\n",
            "Epoch 52/100\n",
            "5/5 [==============================] - 0s 2ms/step - loss: 0.4362 - accuracy: 0.9200\n",
            "Epoch 53/100\n",
            "5/5 [==============================] - 0s 3ms/step - loss: 0.4327 - accuracy: 0.9533\n",
            "Epoch 54/100\n",
            "5/5 [==============================] - 0s 2ms/step - loss: 0.4237 - accuracy: 0.9400\n",
            "Epoch 55/100\n",
            "5/5 [==============================] - 0s 2ms/step - loss: 0.4190 - accuracy: 0.9467\n",
            "Epoch 56/100\n",
            "5/5 [==============================] - 0s 2ms/step - loss: 0.4128 - accuracy: 0.9400\n",
            "Epoch 57/100\n",
            "5/5 [==============================] - 0s 3ms/step - loss: 0.4043 - accuracy: 0.9533\n",
            "Epoch 58/100\n",
            "5/5 [==============================] - 0s 2ms/step - loss: 0.4008 - accuracy: 0.9400\n",
            "Epoch 59/100\n",
            "5/5 [==============================] - 0s 2ms/step - loss: 0.3922 - accuracy: 0.9600\n",
            "Epoch 60/100\n",
            "5/5 [==============================] - 0s 2ms/step - loss: 0.3850 - accuracy: 0.9600\n",
            "Epoch 61/100\n",
            "5/5 [==============================] - 0s 2ms/step - loss: 0.3823 - accuracy: 0.9400\n",
            "Epoch 62/100\n",
            "5/5 [==============================] - 0s 2ms/step - loss: 0.3733 - accuracy: 0.9533\n",
            "Epoch 63/100\n",
            "5/5 [==============================] - 0s 3ms/step - loss: 0.3664 - accuracy: 0.9733\n",
            "Epoch 64/100\n",
            "5/5 [==============================] - 0s 4ms/step - loss: 0.3613 - accuracy: 0.9667\n",
            "Epoch 65/100\n",
            "5/5 [==============================] - 0s 2ms/step - loss: 0.3538 - accuracy: 0.9667\n",
            "Epoch 66/100\n",
            "5/5 [==============================] - 0s 3ms/step - loss: 0.3478 - accuracy: 0.9467\n",
            "Epoch 67/100\n",
            "5/5 [==============================] - 0s 3ms/step - loss: 0.3422 - accuracy: 0.9533\n",
            "Epoch 68/100\n",
            "5/5 [==============================] - 0s 2ms/step - loss: 0.3360 - accuracy: 0.9667\n",
            "Epoch 69/100\n",
            "5/5 [==============================] - 0s 2ms/step - loss: 0.3292 - accuracy: 0.9733\n",
            "Epoch 70/100\n",
            "5/5 [==============================] - 0s 2ms/step - loss: 0.3220 - accuracy: 0.9733\n",
            "Epoch 71/100\n",
            "5/5 [==============================] - 0s 2ms/step - loss: 0.3175 - accuracy: 0.9733\n",
            "Epoch 72/100\n",
            "5/5 [==============================] - 0s 2ms/step - loss: 0.3114 - accuracy: 0.9733\n",
            "Epoch 73/100\n",
            "5/5 [==============================] - 0s 3ms/step - loss: 0.3042 - accuracy: 0.9800\n",
            "Epoch 74/100\n",
            "5/5 [==============================] - 0s 2ms/step - loss: 0.2975 - accuracy: 0.9800\n",
            "Epoch 75/100\n",
            "5/5 [==============================] - 0s 2ms/step - loss: 0.2921 - accuracy: 0.9733\n",
            "Epoch 76/100\n",
            "5/5 [==============================] - 0s 2ms/step - loss: 0.2847 - accuracy: 0.9667\n",
            "Epoch 77/100\n",
            "5/5 [==============================] - 0s 3ms/step - loss: 0.2817 - accuracy: 0.9733\n",
            "Epoch 78/100\n",
            "5/5 [==============================] - 0s 2ms/step - loss: 0.2734 - accuracy: 0.9800\n",
            "Epoch 79/100\n",
            "5/5 [==============================] - 0s 2ms/step - loss: 0.2706 - accuracy: 0.9733\n",
            "Epoch 80/100\n",
            "5/5 [==============================] - 0s 2ms/step - loss: 0.2640 - accuracy: 0.9800\n",
            "Epoch 81/100\n",
            "5/5 [==============================] - 0s 2ms/step - loss: 0.2589 - accuracy: 0.9600\n",
            "Epoch 82/100\n",
            "5/5 [==============================] - 0s 3ms/step - loss: 0.2531 - accuracy: 0.9800\n",
            "Epoch 83/100\n",
            "5/5 [==============================] - 0s 2ms/step - loss: 0.2489 - accuracy: 0.9733\n",
            "Epoch 84/100\n",
            "5/5 [==============================] - 0s 2ms/step - loss: 0.2433 - accuracy: 0.9800\n",
            "Epoch 85/100\n",
            "5/5 [==============================] - 0s 3ms/step - loss: 0.2384 - accuracy: 0.9800\n",
            "Epoch 86/100\n",
            "5/5 [==============================] - 0s 2ms/step - loss: 0.2341 - accuracy: 0.9800\n",
            "Epoch 87/100\n",
            "5/5 [==============================] - 0s 3ms/step - loss: 0.2316 - accuracy: 0.9733\n",
            "Epoch 88/100\n",
            "5/5 [==============================] - 0s 2ms/step - loss: 0.2287 - accuracy: 0.9800\n",
            "Epoch 89/100\n",
            "5/5 [==============================] - 0s 2ms/step - loss: 0.2202 - accuracy: 0.9800\n",
            "Epoch 90/100\n",
            "5/5 [==============================] - 0s 2ms/step - loss: 0.2172 - accuracy: 0.9867\n",
            "Epoch 91/100\n",
            "5/5 [==============================] - 0s 2ms/step - loss: 0.2129 - accuracy: 0.9733\n",
            "Epoch 92/100\n",
            "5/5 [==============================] - 0s 2ms/step - loss: 0.2123 - accuracy: 0.9800\n",
            "Epoch 93/100\n",
            "5/5 [==============================] - 0s 2ms/step - loss: 0.2073 - accuracy: 0.9733\n",
            "Epoch 94/100\n",
            "5/5 [==============================] - 0s 2ms/step - loss: 0.2016 - accuracy: 0.9800\n",
            "Epoch 95/100\n",
            "5/5 [==============================] - 0s 2ms/step - loss: 0.1985 - accuracy: 0.9800\n",
            "Epoch 96/100\n",
            "5/5 [==============================] - 0s 2ms/step - loss: 0.1948 - accuracy: 0.9800\n",
            "Epoch 97/100\n",
            "5/5 [==============================] - 0s 2ms/step - loss: 0.1926 - accuracy: 0.9867\n",
            "Epoch 98/100\n",
            "5/5 [==============================] - 0s 2ms/step - loss: 0.1936 - accuracy: 0.9800\n",
            "Epoch 99/100\n",
            "5/5 [==============================] - 0s 2ms/step - loss: 0.1839 - accuracy: 0.9800\n",
            "Epoch 100/100\n",
            "5/5 [==============================] - 0s 2ms/step - loss: 0.1807 - accuracy: 0.9800\n"
          ],
          "name": "stdout"
        },
        {
          "output_type": "execute_result",
          "data": {
            "text/plain": [
              "<tensorflow.python.keras.callbacks.History at 0x7efcd6cc3828>"
            ]
          },
          "metadata": {
            "tags": []
          },
          "execution_count": 12
        }
      ]
    },
    {
      "cell_type": "code",
      "metadata": {
        "id": "bzUE-V-oyJ64",
        "outputId": "e6c9f854-4d07-4067-e2a7-bc168126d21a",
        "colab": {
          "base_uri": "https://localhost:8080/"
        }
      },
      "source": [
        " \n",
        "###########################\n",
        "# 4. 모델을 이용합니다\n",
        "print(model.predict(독립[:5]))\n",
        "print(종속[:5])"
      ],
      "execution_count": 13,
      "outputs": [
        {
          "output_type": "stream",
          "text": [
            "[[0.87672335 0.11113297 0.01214375]\n",
            " [0.87590486 0.11252895 0.01156628]\n",
            " [0.87618744 0.11204775 0.01176477]\n",
            " [0.8746615  0.1152271  0.01011133]\n",
            " [0.8769309  0.11121464 0.01185447]]\n",
            "   품종_setosa  품종_versicolor  품종_virginica\n",
            "0          1              0             0\n",
            "1          1              0             0\n",
            "2          1              0             0\n",
            "3          1              0             0\n",
            "4          1              0             0\n"
          ],
          "name": "stdout"
        }
      ]
    },
    {
      "cell_type": "code",
      "metadata": {
        "id": "MdZzb3yUyLUQ"
      },
      "source": [
        ""
      ],
      "execution_count": null,
      "outputs": []
    }
  ]
}