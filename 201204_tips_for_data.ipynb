{
  "nbformat": 4,
  "nbformat_minor": 0,
  "metadata": {
    "colab": {
      "name": "201204 tips for data.ipynb",
      "provenance": [],
      "authorship_tag": "ABX9TyP9Hta1tElQ4sMShq3HtB1d",
      "include_colab_link": true
    },
    "kernelspec": {
      "name": "python3",
      "display_name": "Python 3"
    }
  },
  "cells": [
    {
      "cell_type": "markdown",
      "metadata": {
        "id": "view-in-github",
        "colab_type": "text"
      },
      "source": [
        "<a href=\"https://colab.research.google.com/github/Supreme-YS/ML/blob/main/201204_tips_for_data.ipynb\" target=\"_parent\"><img src=\"https://colab.research.google.com/assets/colab-badge.svg\" alt=\"Open In Colab\"/></a>"
      ]
    },
    {
      "cell_type": "code",
      "metadata": {
        "colab": {
          "base_uri": "https://localhost:8080/",
          "height": 438
        },
        "id": "BcO_opXfyh3p",
        "outputId": "74a7d404-65fd-4350-83d7-6f2f1231fb5b"
      },
      "source": [
        "###########################\n",
        "# 라이브러리 사용\n",
        "import pandas as pd\n",
        " \n",
        "###########################\n",
        "# 파일 읽어오기\n",
        "파일경로 = 'https://raw.githubusercontent.com/blackdew/tensorflow1/master/csv/iris2.csv'\n",
        "아이리스 = pd.read_csv(파일경로)\n",
        "아이리스.head()\n",
        " \n",
        "###########################\n",
        "# 칼럼의 데이터 타입 체크\n",
        "print(아이리스.dtypes)\n",
        " \n",
        "# 원핫인코딩 되지 않는 현상 확인\n",
        "인코딩 = pd.get_dummies(아이리스)\n",
        "인코딩.head()\n",
        " \n",
        "###########################\n",
        "# 품종 타입을 범주형으로 바꾸어 준다. \n",
        "아이리스['품종'] = 아이리스['품종'].astype('category')\n",
        "print(아이리스.dtypes)\n",
        " \n",
        "# 카테고리 타입의 변수만 원핫인코딩\n",
        "인코딩 = pd.get_dummies(아이리스)\n",
        "인코딩.head()\n",
        " \n",
        "###########################\n",
        "# NA값을 체크해 봅시다. \n",
        "아이리스.isna().sum()\n",
        "아이리스.tail()\n",
        " \n",
        "###########################\n",
        "# NA값에 꽃잎폭 평균값을 넣어주는 방법\n",
        "mean = 아이리스['꽃잎폭'].mean()\n",
        "print(mean)\n",
        "아이리스['꽃잎폭'] = 아이리스['꽃잎폭'].fillna(mean)\n",
        "아이리스.tail()"
      ],
      "execution_count": 1,
      "outputs": [
        {
          "output_type": "stream",
          "text": [
            "꽃잎길이     float64\n",
            "꽃잎폭      float64\n",
            "꽃받침길이    float64\n",
            "꽃받침폭     float64\n",
            "품종         int64\n",
            "dtype: object\n",
            "꽃잎길이      float64\n",
            "꽃잎폭       float64\n",
            "꽃받침길이     float64\n",
            "꽃받침폭      float64\n",
            "품종       category\n",
            "dtype: object\n",
            "3.0543624161073835\n"
          ],
          "name": "stdout"
        },
        {
          "output_type": "execute_result",
          "data": {
            "text/html": [
              "<div>\n",
              "<style scoped>\n",
              "    .dataframe tbody tr th:only-of-type {\n",
              "        vertical-align: middle;\n",
              "    }\n",
              "\n",
              "    .dataframe tbody tr th {\n",
              "        vertical-align: top;\n",
              "    }\n",
              "\n",
              "    .dataframe thead th {\n",
              "        text-align: right;\n",
              "    }\n",
              "</style>\n",
              "<table border=\"1\" class=\"dataframe\">\n",
              "  <thead>\n",
              "    <tr style=\"text-align: right;\">\n",
              "      <th></th>\n",
              "      <th>꽃잎길이</th>\n",
              "      <th>꽃잎폭</th>\n",
              "      <th>꽃받침길이</th>\n",
              "      <th>꽃받침폭</th>\n",
              "      <th>품종</th>\n",
              "    </tr>\n",
              "  </thead>\n",
              "  <tbody>\n",
              "    <tr>\n",
              "      <th>145</th>\n",
              "      <td>6.7</td>\n",
              "      <td>3.000000</td>\n",
              "      <td>5.2</td>\n",
              "      <td>2.3</td>\n",
              "      <td>2</td>\n",
              "    </tr>\n",
              "    <tr>\n",
              "      <th>146</th>\n",
              "      <td>6.3</td>\n",
              "      <td>2.500000</td>\n",
              "      <td>5.0</td>\n",
              "      <td>1.9</td>\n",
              "      <td>2</td>\n",
              "    </tr>\n",
              "    <tr>\n",
              "      <th>147</th>\n",
              "      <td>6.5</td>\n",
              "      <td>3.000000</td>\n",
              "      <td>5.2</td>\n",
              "      <td>2.0</td>\n",
              "      <td>2</td>\n",
              "    </tr>\n",
              "    <tr>\n",
              "      <th>148</th>\n",
              "      <td>6.2</td>\n",
              "      <td>3.400000</td>\n",
              "      <td>5.4</td>\n",
              "      <td>2.3</td>\n",
              "      <td>2</td>\n",
              "    </tr>\n",
              "    <tr>\n",
              "      <th>149</th>\n",
              "      <td>5.9</td>\n",
              "      <td>3.054362</td>\n",
              "      <td>5.1</td>\n",
              "      <td>1.8</td>\n",
              "      <td>2</td>\n",
              "    </tr>\n",
              "  </tbody>\n",
              "</table>\n",
              "</div>"
            ],
            "text/plain": [
              "     꽃잎길이       꽃잎폭  꽃받침길이  꽃받침폭 품종\n",
              "145   6.7  3.000000    5.2   2.3  2\n",
              "146   6.3  2.500000    5.0   1.9  2\n",
              "147   6.5  3.000000    5.2   2.0  2\n",
              "148   6.2  3.400000    5.4   2.3  2\n",
              "149   5.9  3.054362    5.1   1.8  2"
            ]
          },
          "metadata": {
            "tags": []
          },
          "execution_count": 1
        }
      ]
    },
    {
      "cell_type": "code",
      "metadata": {
        "id": "3rI0VQjZypxp"
      },
      "source": [
        ""
      ],
      "execution_count": null,
      "outputs": []
    }
  ]
}