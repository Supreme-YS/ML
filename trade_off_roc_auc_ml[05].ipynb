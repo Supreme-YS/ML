{
 "cells": [
  {
   "cell_type": "code",
   "execution_count": 28,
   "metadata": {},
   "outputs": [],
   "source": [
    "from sklearn.tree         import DecisionTreeClassifier\n",
    "from sklearn.linear_model import LogisticRegression\n",
    "from sklearn.ensemble     import RandomForestClassifier\n",
    "\n",
    "from sklearn.preprocessing   import LabelEncoder , OneHotEncoder , StandardScaler , MinMaxScaler , Binarizer \n",
    "from sklearn.model_selection import train_test_split , GridSearchCV\n",
    "\n",
    "from sklearn.metrics import accuracy_score, precision_score, recall_score, f1_score , roc_auc_score\n",
    "from sklearn.metrics import confusion_matrix, precision_recall_curve , roc_curve\n",
    "\n",
    "import pandas as pd\n",
    "import numpy  as np\n",
    "import matplotlib.pyplot as plt\n",
    "import seaborn as sns\n",
    "\n",
    "import missingno as ms\n",
    "%matplotlib inline\n",
    "\n",
    "import warnings\n",
    "warnings.filterwarnings('ignore')\n",
    "\n",
    "# datasets"
   ]
  },
  {
   "cell_type": "markdown",
   "metadata": {},
   "source": [
    "#### 정밀도(Precision)/재현율(recall) trade off\n",
    "- sklearn Binarizer 클래서 fit_transform() \n",
    "- 임계값(Threshold) 보다 크면 1, 작으면 0 반환"
   ]
  },
  {
   "cell_type": "code",
   "execution_count": 29,
   "metadata": {},
   "outputs": [],
   "source": [
    "x = [[-1, -1, 2], \n",
    "    [2, 0, 0], \n",
    "    [0, 1.1, 1.2]]"
   ]
  },
  {
   "cell_type": "code",
   "execution_count": 30,
   "metadata": {},
   "outputs": [
    {
     "name": "stdout",
     "output_type": "stream",
     "text": [
      "[[0. 0. 1.]\n",
      " [1. 0. 0.]\n",
      " [0. 1. 1.]]\n"
     ]
    }
   ],
   "source": [
    "holder = Binarizer(threshold=0.5) # 0.5보다 크면 1, 0.5보다 작으면 0으로 반환\n",
    "print(holder.fit_transform(x))"
   ]
  },
  {
   "cell_type": "code",
   "execution_count": 31,
   "metadata": {},
   "outputs": [],
   "source": [
    "titanic = pd.read_csv('./data/titanic_train.csv')"
   ]
  },
  {
   "cell_type": "code",
   "execution_count": 32,
   "metadata": {},
   "outputs": [],
   "source": [
    "titanic_label = titanic['Survived']\n",
    "titanic_data  = titanic.drop(['Survived'], axis = 1)"
   ]
  },
  {
   "cell_type": "code",
   "execution_count": 33,
   "metadata": {},
   "outputs": [],
   "source": [
    "from sklearn.preprocessing import LabelEncoder\n",
    "\n",
    "# 레이블 인코딩 Cabin , Sex , Embarked\n",
    "def drop_features(frm):\n",
    "    frm.drop(['PassengerId', 'Name', 'Ticket'], axis=1, inplace=True)\n",
    "    return frm\n",
    "\n",
    "\n",
    "def pre_processing(frm):\n",
    "    frm['Age'].fillna(frm['Age'].mean(), inplace=True)\n",
    "    frm['Cabin'].fillna('N', inplace=True)\n",
    "    frm['Embarked'].fillna('N', inplace=True)\n",
    "    return frm\n",
    "\n",
    "\n",
    "def label_encoder(frm):\n",
    "    frm['Cabin'] = frm['Cabin'].str[:1]\n",
    "    features = ['Cabin', 'Sex', 'Embarked']\n",
    "    for feature in features:\n",
    "        encoder = LabelEncoder()\n",
    "        encoder.fit(frm[feature])\n",
    "        frm[feature] = encoder.transform(frm[feature])\n",
    "    return frm\n",
    "\n",
    "def transform_features(frm):\n",
    "    frm = drop_features(frm)\n",
    "    frm = pre_processing(frm)\n",
    "    frm = label_encoder(frm)\n",
    "    return frm"
   ]
  },
  {
   "cell_type": "code",
   "execution_count": 34,
   "metadata": {},
   "outputs": [],
   "source": [
    "titanic_data_feature = transform_features(titanic_data)"
   ]
  },
  {
   "cell_type": "code",
   "execution_count": 35,
   "metadata": {},
   "outputs": [],
   "source": [
    "def metrics_evaluation(y_test, y_pred):\n",
    "    print(\"정확도(Accuracy) : {}\\n정밀도(Precision) : {}\\n재현율(Recall) : {}\\n조화평균(F1) : {}\"\n",
    "         .format(accuracy_score(y_test, y_pred),\n",
    "                 precision_score(y_test, y_pred),\n",
    "                 recall_score(y_test, y_pred),\n",
    "                 f1_score(y_test, y_pred)))"
   ]
  },
  {
   "cell_type": "code",
   "execution_count": 37,
   "metadata": {},
   "outputs": [],
   "source": [
    "X_train, X_test, y_train, y_test = train_test_split(titanic_data_feature,\n",
    "                                                    titanic_label,\n",
    "                                                   test_size = 0.2,\n",
    "                                                   random_state = 10)"
   ]
  },
  {
   "cell_type": "code",
   "execution_count": 38,
   "metadata": {},
   "outputs": [
    {
     "data": {
      "text/plain": [
       "LogisticRegression()"
      ]
     },
     "execution_count": 38,
     "metadata": {},
     "output_type": "execute_result"
    }
   ],
   "source": [
    "logistic_model = LogisticRegression()\n",
    "# 학습\n",
    "logistic_model.fit(X_train, y_train)"
   ]
  },
  {
   "cell_type": "code",
   "execution_count": 41,
   "metadata": {},
   "outputs": [],
   "source": [
    "# 예측\n",
    "y_pred = logistic_model.predict(X_test)\n",
    "print(y_pred)"
   ]
  },
  {
   "cell_type": "code",
   "execution_count": 45,
   "metadata": {},
   "outputs": [
    {
     "data": {
      "text/plain": [
       "pandas.core.series.Series"
      ]
     },
     "execution_count": 45,
     "metadata": {},
     "output_type": "execute_result"
    }
   ],
   "source": []
  },
  {
   "cell_type": "code",
   "execution_count": null,
   "metadata": {},
   "outputs": [],
   "source": []
  }
 ],
 "metadata": {
  "kernelspec": {
   "display_name": "Python 3",
   "language": "python",
   "name": "python3"
  },
  "language_info": {
   "codemirror_mode": {
    "name": "ipython",
    "version": 3
   },
   "file_extension": ".py",
   "mimetype": "text/x-python",
   "name": "python",
   "nbconvert_exporter": "python",
   "pygments_lexer": "ipython3",
   "version": "3.8.5"
  }
 },
 "nbformat": 4,
 "nbformat_minor": 4
}
