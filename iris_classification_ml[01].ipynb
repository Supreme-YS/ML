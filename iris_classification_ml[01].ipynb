{
  "nbformat": 4,
  "nbformat_minor": 0,
  "metadata": {
    "colab": {
      "name": "iris_classification_ml[01].ipynb",
      "private_outputs": true,
      "provenance": [],
      "collapsed_sections": [],
      "authorship_tag": "ABX9TyNxQMt8d51vz+o6CkHAEycT",
      "include_colab_link": true
    },
    "kernelspec": {
      "name": "python3",
      "display_name": "Python 3"
    },
    "accelerator": "GPU"
  },
  "cells": [
    {
      "cell_type": "markdown",
      "metadata": {
        "id": "view-in-github",
        "colab_type": "text"
      },
      "source": [
        "<a href=\"https://colab.research.google.com/github/Supreme-YS/ML/blob/main/iris_classification_ml%5B01%5D.ipynb\" target=\"_parent\"><img src=\"https://colab.research.google.com/assets/colab-badge.svg\" alt=\"Open In Colab\"/></a>"
      ]
    },
    {
      "cell_type": "code",
      "metadata": {
        "id": "xPKpjHDeTixO"
      },
      "source": [
        "import sklearn\r\n",
        "sklearn.__version__"
      ],
      "execution_count": null,
      "outputs": []
    },
    {
      "cell_type": "code",
      "metadata": {
        "id": "s5xD9NS6ZioA"
      },
      "source": [
        "import numpy as np\r\n",
        "import pandas as pd\r\n",
        "from sklearn.datasets import load_iris"
      ],
      "execution_count": null,
      "outputs": []
    },
    {
      "cell_type": "code",
      "metadata": {
        "id": "4cvXXSBHZ8QQ"
      },
      "source": [
        "iris = load_iris()"
      ],
      "execution_count": null,
      "outputs": []
    },
    {
      "cell_type": "code",
      "metadata": {
        "id": "3joLIxPfaLcv"
      },
      "source": [
        "type(iris) # Bunch Type"
      ],
      "execution_count": null,
      "outputs": []
    },
    {
      "cell_type": "code",
      "metadata": {
        "id": "N20J7Xc_aNOn"
      },
      "source": [
        "keys = iris.keys()\r\n",
        "keys"
      ],
      "execution_count": null,
      "outputs": []
    },
    {
      "cell_type": "code",
      "metadata": {
        "id": "EJtcRa9HaZ9f"
      },
      "source": [
        "values = iris.values()\r\n",
        "values"
      ],
      "execution_count": null,
      "outputs": []
    },
    {
      "cell_type": "code",
      "metadata": {
        "id": "h6h3e1rRac_v"
      },
      "source": [
        "# key 값을 기준으로 데이터 확인해보기\r\n",
        "# iris.data\r\n",
        "# iris.target\r\n",
        "# iris.target_names\r\n",
        "# iris.feature_names"
      ],
      "execution_count": null,
      "outputs": []
    },
    {
      "cell_type": "code",
      "metadata": {
        "id": "zSSGZgZgcsMD"
      },
      "source": [
        "# 피쳐 데이터세트 확인"
      ],
      "execution_count": null,
      "outputs": []
    },
    {
      "cell_type": "code",
      "metadata": {
        "id": "c8HUzisZasWI"
      },
      "source": [
        "iris_data = iris.data\r\n",
        "iris_data"
      ],
      "execution_count": null,
      "outputs": []
    },
    {
      "cell_type": "code",
      "metadata": {
        "id": "oe6l_fXNcOGA"
      },
      "source": [
        "# 레이블(결정값, 타겟, 클래스) 확인하기\r\n",
        "# 0, 1, 2로 이루어진 범주형 데이터"
      ],
      "execution_count": null,
      "outputs": []
    },
    {
      "cell_type": "code",
      "metadata": {
        "id": "Y8qEd4S_cxvX"
      },
      "source": [
        "iris_label = iris.target\r\n",
        "iris_label"
      ],
      "execution_count": null,
      "outputs": []
    },
    {
      "cell_type": "code",
      "metadata": {
        "id": "9BmVwrkLc9cH"
      },
      "source": [
        "iris_df = pd.DataFrame(data = iris_data, \r\n",
        "                       columns = iris.feature_names)\r\n",
        "iris_df['target'] = iris_label # target 열 추가 및 데이터 삽입\r\n",
        "iris_df"
      ],
      "execution_count": null,
      "outputs": []
    },
    {
      "cell_type": "code",
      "metadata": {
        "id": "VLXtIBNUdaDp"
      },
      "source": [
        "# 학습데이터(training data - validation data)와 테스트 데이터(test data) 세트로 분리\r\n",
        "# -train_test_split(test_size, train_size, shuffle, random_state)"
      ],
      "execution_count": null,
      "outputs": []
    },
    {
      "cell_type": "code",
      "metadata": {
        "id": "G8UcTfyIe2z8"
      },
      "source": [
        "# train과 test로 분리시켜주는 클래스\r\n",
        "from sklearn.model_selection import train_test_split"
      ],
      "execution_count": null,
      "outputs": []
    },
    {
      "cell_type": "code",
      "metadata": {
        "id": "R7EytFcSe6zI"
      },
      "source": [
        "# test 8 : vali 2 비중으로 데이터 셋을 split 하기\r\n",
        "X_train, X_test, y_train, y_test = train_test_split(iris_data, iris_label, test_size=0.2, random_state = 20)"
      ],
      "execution_count": null,
      "outputs": []
    },
    {
      "cell_type": "code",
      "metadata": {
        "id": "_6BbnoXJfkKt"
      },
      "source": [
        "print('train data \\n', X_train)  # 학습 - 모델 학습용\r\n",
        "print('train label \\n', y_train) # 학습\r\n",
        "print('test data \\n', X_test)    # 시험 - 모델 성능 평가용\r\n",
        "print('test data \\n', y_test)    # 시험\r\n"
      ],
      "execution_count": null,
      "outputs": []
    },
    {
      "cell_type": "code",
      "metadata": {
        "id": "75-ZL5dJfyFI"
      },
      "source": [
        "# 알고리즘을 활용한 학습과 분류\r\n",
        "# 지도학습의 분류 종류 - Support Vector Machine, Naive Bayes, Decision Tree 와 같은 학습기를 모두 사용해보는데 의미가 있다."
      ],
      "execution_count": null,
      "outputs": []
    },
    {
      "cell_type": "code",
      "metadata": {
        "id": "GmjhQUpCiCNQ"
      },
      "source": [
        "# Decision Tree\r\n",
        "from sklearn.tree import DecisionTreeClassifier\r\n",
        "\r\n",
        "dt_clf = DecisionTreeClassifier(random_state= 20)\r\n",
        "\r\n",
        "# 학습(fit)\r\n",
        "dt_clf.fit(X_train, y_train) "
      ],
      "execution_count": null,
      "outputs": []
    },
    {
      "cell_type": "code",
      "metadata": {
        "id": "5_0_-PZViHXm"
      },
      "source": [
        "# 예측은 학습 데이터가 아닌 다른 데이터(test data)를 이용하여야 한다."
      ],
      "execution_count": null,
      "outputs": []
    },
    {
      "cell_type": "code",
      "metadata": {
        "id": "2E6zBrLNnrAs"
      },
      "source": [
        "prediction = dt_clf.predict(X_test)\r\n",
        "\r\n",
        "print('predict \\n', prediction)\r\n",
        "print('y_test \\n', y_test)"
      ],
      "execution_count": null,
      "outputs": []
    },
    {
      "cell_type": "code",
      "metadata": {
        "id": "gOxpbLL_n_3E"
      },
      "source": [
        "X_test"
      ],
      "execution_count": null,
      "outputs": []
    },
    {
      "cell_type": "code",
      "metadata": {
        "id": "DU57TE90oLSk"
      },
      "source": [
        "# 예측 정확도 평가"
      ],
      "execution_count": null,
      "outputs": []
    },
    {
      "cell_type": "code",
      "metadata": {
        "id": "XO8O8nQLoolg"
      },
      "source": [
        "from sklearn.metrics import accuracy_score"
      ],
      "execution_count": null,
      "outputs": []
    },
    {
      "cell_type": "code",
      "metadata": {
        "id": "R2LRsPEhowiN"
      },
      "source": [
        "print('예측 정확도 : {0:.2f}'.format( accuracy_score(prediction, y_test)))"
      ],
      "execution_count": null,
      "outputs": []
    },
    {
      "cell_type": "code",
      "metadata": {
        "id": "zShKjbhGo_4-"
      },
      "source": [
        "# 교차검증 (Cross validation)\r\n",
        "# K-Fold 방식"
      ],
      "execution_count": null,
      "outputs": []
    },
    {
      "cell_type": "code",
      "metadata": {
        "id": "lDD6_50bwf61"
      },
      "source": [
        "import numpy as np\r\n",
        "import pandas as pd\r\n",
        "from sklearn.datasets import load_iris\r\n",
        "from sklearn.model_selection import train_test_split\r\n",
        "from sklearn.metrics import accuracy_score\r\n",
        "from sklearn.tree import DecisionTreeClassifier\r\n",
        "\r\n",
        "from sklearn.model_selection import KFold"
      ],
      "execution_count": null,
      "outputs": []
    },
    {
      "cell_type": "code",
      "metadata": {
        "id": "-pEb-8qtw3V1"
      },
      "source": [
        "fold_iris = load_iris()\r\n",
        "fold_iris.keys()"
      ],
      "execution_count": null,
      "outputs": []
    },
    {
      "cell_type": "code",
      "metadata": {
        "id": "dXCjkUcNF9mp"
      },
      "source": [
        "features = fold_iris.data\r\n",
        "label    = fold_iris.target\r\n",
        "\r\n",
        "fold_df_clf = DecisionTreeClassifier()\r\n",
        "fold_df_clf"
      ],
      "execution_count": null,
      "outputs": []
    },
    {
      "cell_type": "code",
      "metadata": {
        "id": "IaSfvqD6GgL3"
      },
      "source": [
        "# 5개의 폴더 세트를 분리하여 각 폴드 세트별 정확도를 담을 리스트 생성\r\n",
        "kfold = KFold(n_splits = 5)\r\n",
        "# 폴더 별 정확도를 담을 수 있는 리스트 정의 -> 검증 평가 5개가 담기겠군\r\n",
        "cv_accuracy = []"
      ],
      "execution_count": null,
      "outputs": []
    },
    {
      "cell_type": "code",
      "metadata": {
        "id": "dADRB6DYHATy"
      },
      "source": [
        "n_iter = 0\r\n",
        "\r\n",
        "for train_idx, test_idx in kfold.split(features):\r\n",
        "    # print(train_idx, test_idx)\r\n",
        "    X_train , X_val = features[train_idx], features[test_idx]\r\n",
        "    y_train , y_val = label[train_idx]   , label[test_idx]\r\n",
        "\r\n",
        "    # 학습 및 예측\r\n",
        "    fold_df_clf.fit(X_train, y_train)\r\n",
        "    pred = fold_df_clf.predict(X_val)\r\n",
        "    n_iter += 1\r\n",
        "\r\n",
        "    # 검증정확도 측정\r\n",
        "    acc = np.round(accuracy_score(y_val, pred), 4)\r\n",
        "    print('{} 교차 검증 정확도 : {}, 학습 데이터 크기 : {}, 검증 데이터 크기 : {}'.format(n_iter, acc, X_train.shape[0], X_val.shape[0]))\r\n",
        "    print('{} 검증 세트 인덱스 : {}'.format(n_iter , X_val.shape[0]))\r\n",
        "\r\n",
        "    cv_accuracy.append(acc)\r\n",
        "\r\n",
        "print('평균 검증 정확도 : {}' , np.mean(cv_accuracy))"
      ],
      "execution_count": null,
      "outputs": []
    },
    {
      "cell_type": "code",
      "metadata": {
        "id": "v5jdE0rxHGHW"
      },
      "source": [
        "for train_idx, test_idx in kfold.split(features):\r\n",
        "    print(train_idx, test_idx)\r\n"
      ],
      "execution_count": null,
      "outputs": []
    },
    {
      "cell_type": "code",
      "metadata": {
        "id": "q5CCNTZeLyH6"
      },
      "source": [
        "# Stratified KFold : 불균형한 분포를 가진 데이터 집합에 적용하는 CV"
      ],
      "execution_count": null,
      "outputs": []
    },
    {
      "cell_type": "code",
      "metadata": {
        "id": "-uCFR0jvMivX"
      },
      "source": [
        ""
      ],
      "execution_count": null,
      "outputs": []
    }
  ]
}