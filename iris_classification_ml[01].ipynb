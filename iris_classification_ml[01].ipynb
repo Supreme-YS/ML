{
  "nbformat": 4,
  "nbformat_minor": 0,
  "metadata": {
    "colab": {
      "name": "iris_classification_ml[01].ipynb",
      "private_outputs": true,
      "provenance": [],
      "collapsed_sections": [],
      "authorship_tag": "ABX9TyMzm/iCWv0nImek2zIffpnO",
      "include_colab_link": true
    },
    "kernelspec": {
      "name": "python3",
      "display_name": "Python 3"
    },
    "accelerator": "GPU"
  },
  "cells": [
    {
      "cell_type": "markdown",
      "metadata": {
        "id": "view-in-github",
        "colab_type": "text"
      },
      "source": [
        "<a href=\"https://colab.research.google.com/github/Supreme-YS/ML/blob/main/iris_classification_ml%5B01%5D.ipynb\" target=\"_parent\"><img src=\"https://colab.research.google.com/assets/colab-badge.svg\" alt=\"Open In Colab\"/></a>"
      ]
    },
    {
      "cell_type": "code",
      "metadata": {
        "id": "xPKpjHDeTixO"
      },
      "source": [
        "import sklearn\r\n",
        "sklearn.__version__"
      ],
      "execution_count": null,
      "outputs": []
    },
    {
      "cell_type": "code",
      "metadata": {
        "id": "s5xD9NS6ZioA"
      },
      "source": [
        "import numpy as np\r\n",
        "import pandas as pd\r\n",
        "from sklearn.datasets import load_iris"
      ],
      "execution_count": null,
      "outputs": []
    },
    {
      "cell_type": "code",
      "metadata": {
        "id": "4cvXXSBHZ8QQ"
      },
      "source": [
        "iris = load_iris()"
      ],
      "execution_count": null,
      "outputs": []
    },
    {
      "cell_type": "code",
      "metadata": {
        "id": "3joLIxPfaLcv"
      },
      "source": [
        "type(iris) # Bunch Type"
      ],
      "execution_count": null,
      "outputs": []
    },
    {
      "cell_type": "code",
      "metadata": {
        "id": "N20J7Xc_aNOn"
      },
      "source": [
        "keys = iris.keys()\r\n",
        "keys"
      ],
      "execution_count": null,
      "outputs": []
    },
    {
      "cell_type": "code",
      "metadata": {
        "id": "EJtcRa9HaZ9f"
      },
      "source": [
        "values = iris.values()\r\n",
        "values"
      ],
      "execution_count": null,
      "outputs": []
    },
    {
      "cell_type": "code",
      "metadata": {
        "id": "h6h3e1rRac_v"
      },
      "source": [
        "# key 값을 기준으로 데이터 확인해보기\r\n",
        "# iris.data\r\n",
        "# iris.target\r\n",
        "# iris.target_names\r\n",
        "# iris.feature_names"
      ],
      "execution_count": null,
      "outputs": []
    },
    {
      "cell_type": "code",
      "metadata": {
        "id": "zSSGZgZgcsMD"
      },
      "source": [
        "# 피쳐 데이터세트 확인"
      ],
      "execution_count": null,
      "outputs": []
    },
    {
      "cell_type": "code",
      "metadata": {
        "id": "c8HUzisZasWI"
      },
      "source": [
        "iris_data = iris.data\r\n",
        "iris_data"
      ],
      "execution_count": null,
      "outputs": []
    },
    {
      "cell_type": "code",
      "metadata": {
        "id": "oe6l_fXNcOGA"
      },
      "source": [
        "# 레이블(결정값, 타겟, 클래스) 확인하기\r\n",
        "# 0, 1, 2로 이루어진 범주형 데이터"
      ],
      "execution_count": null,
      "outputs": []
    },
    {
      "cell_type": "code",
      "metadata": {
        "id": "Y8qEd4S_cxvX"
      },
      "source": [
        "iris_label = iris.target\r\n",
        "iris_label"
      ],
      "execution_count": null,
      "outputs": []
    },
    {
      "cell_type": "code",
      "metadata": {
        "id": "9BmVwrkLc9cH"
      },
      "source": [
        "iris_df = pd.DataFrame(data = iris_data, \r\n",
        "                       columns = iris.feature_names)\r\n",
        "iris_df['target'] = iris_label # target 열 추가 및 데이터 삽입\r\n",
        "iris_df"
      ],
      "execution_count": null,
      "outputs": []
    },
    {
      "cell_type": "code",
      "metadata": {
        "id": "VLXtIBNUdaDp"
      },
      "source": [
        "# 학습데이터(training data - validation data)와 테스트 데이터(test data) 세트로 분리"
      ],
      "execution_count": null,
      "outputs": []
    },
    {
      "cell_type": "code",
      "metadata": {
        "id": "G8UcTfyIe2z8"
      },
      "source": [
        "# train과 test로 분리시켜주는 클래스\r\n",
        "from sklearn.model_selection import train_test_split"
      ],
      "execution_count": null,
      "outputs": []
    },
    {
      "cell_type": "code",
      "metadata": {
        "id": "R7EytFcSe6zI"
      },
      "source": [
        "# test 8 : vali 2 비중으로 데이터 셋을 split 하기\r\n",
        "X_train, X_test, y_train, y_test = train_test_split(iris_data, iris_label, test_size=0.2, random_state = 20)"
      ],
      "execution_count": null,
      "outputs": []
    },
    {
      "cell_type": "code",
      "metadata": {
        "id": "_6BbnoXJfkKt"
      },
      "source": [
        "print('train data \\n', X_train)  # 학습 - 모델 학습용\r\n",
        "print('train label \\n', y_train) # 학습\r\n",
        "print('test data \\n', X_test)    # 시험 - 모델 성능 평가용\r\n",
        "print('test data \\n', y_test)    # 시험\r\n"
      ],
      "execution_count": null,
      "outputs": []
    },
    {
      "cell_type": "code",
      "metadata": {
        "id": "75-ZL5dJfyFI"
      },
      "source": [
        "# 알고리즘을 활용한 학습과 분류\r\n",
        "# 지도학습의 분류 종류 - Support Vector Machine, Naive Bayes, Decision Tree 와 같은 학습기를 모두 사용해보는데 의미가 있다."
      ],
      "execution_count": null,
      "outputs": []
    },
    {
      "cell_type": "code",
      "metadata": {
        "id": "GmjhQUpCiCNQ"
      },
      "source": [
        "# Decision Tree\r\n",
        "from sklearn.tree import DecisionTreeClassifier\r\n",
        "\r\n",
        "dt_clf = DecisionTreeClassifier(random_state= 20)\r\n",
        "\r\n",
        "# 학습(fit)\r\n",
        "dt_clf.fir(X_train, y_train) "
      ],
      "execution_count": null,
      "outputs": []
    },
    {
      "cell_type": "code",
      "metadata": {
        "id": "5_0_-PZViHXm"
      },
      "source": [
        "# 예측은 학습 데이터가 아닌 다른 데이터(test data)를 이용하여야 한다."
      ],
      "execution_count": null,
      "outputs": []
    }
  ]
}