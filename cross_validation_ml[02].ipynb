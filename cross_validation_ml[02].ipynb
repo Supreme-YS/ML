{
  "nbformat": 4,
  "nbformat_minor": 0,
  "metadata": {
    "colab": {
      "name": "cross_validation_ml[02].ipynb",
      "provenance": [],
      "collapsed_sections": [],
      "authorship_tag": "ABX9TyMLlmanaXSVRPJRVOAyHLP/",
      "include_colab_link": true
    },
    "kernelspec": {
      "name": "python3",
      "display_name": "Python 3"
    }
  },
  "cells": [
    {
      "cell_type": "markdown",
      "metadata": {
        "id": "view-in-github",
        "colab_type": "text"
      },
      "source": [
        "<a href=\"https://colab.research.google.com/github/Supreme-YS/ML/blob/main/cross_validation_ml%5B02%5D.ipynb\" target=\"_parent\"><img src=\"https://colab.research.google.com/assets/colab-badge.svg\" alt=\"Open In Colab\"/></a>"
      ]
    },
    {
      "cell_type": "markdown",
      "metadata": {
        "id": "EYGH9l85XzRN"
      },
      "source": [
        "교차 검증을 간단하게 하는 방법\r\n",
        "- 프로세스 ( fold 설정 -> 루프 반복을 통해서 학습 및 테스트의 인덱스 추출 -> 학습과 예측 )\r\n",
        "- cross_val_score(예측모델, 피처세트, 레이블, 성능평가 지표, 폴드수) "
      ]
    },
    {
      "cell_type": "code",
      "metadata": {
        "id": "1ToIk897YEo_"
      },
      "source": [
        "from sklearn.tree import DecisionTreeClassifier\r\n",
        "from sklearn.model_selection import cross_val_score, cross_validate\r\n",
        "from sklearn.datasets import load_iris\r\n",
        "import numpy as np\r\n",
        "import pandas as pd"
      ],
      "execution_count": 14,
      "outputs": []
    },
    {
      "cell_type": "code",
      "metadata": {
        "colab": {
          "base_uri": "https://localhost:8080/"
        },
        "id": "jVH28ROZZCuu",
        "outputId": "efd2b232-f7b6-4090-9854-ec629352668a"
      },
      "source": [
        "iris_data = load_iris()\r\n",
        "iris_data.keys()"
      ],
      "execution_count": 8,
      "outputs": [
        {
          "output_type": "execute_result",
          "data": {
            "text/plain": [
              "dict_keys(['data', 'target', 'target_names', 'DESCR', 'feature_names', 'filename'])"
            ]
          },
          "metadata": {
            "tags": []
          },
          "execution_count": 8
        }
      ]
    },
    {
      "cell_type": "code",
      "metadata": {
        "id": "a_zaNr6xZJqF"
      },
      "source": [
        "data     = iris_data.data\r\n",
        "label    = iris_data.target"
      ],
      "execution_count": 9,
      "outputs": []
    },
    {
      "cell_type": "code",
      "metadata": {
        "colab": {
          "base_uri": "https://localhost:8080/"
        },
        "id": "Pb3KPBB9Z9au",
        "outputId": "d2ebdd3d-7c27-4cf9-b4e7-b4c76b667d56"
      },
      "source": [
        "dt_clf = DecisionTreeClassifier(random_state=100)\r\n",
        "\r\n",
        "# 성능평가지표는 acc, 교차검증 5개\r\n",
        "scores = cross_val_score(dt_clf, data, label, cv=5, scoring='accuracy')\r\n",
        "scores"
      ],
      "execution_count": 13,
      "outputs": [
        {
          "output_type": "execute_result",
          "data": {
            "text/plain": [
              "array([0.96666667, 0.96666667, 0.9       , 0.93333333, 1.        ])"
            ]
          },
          "metadata": {
            "tags": []
          },
          "execution_count": 13
        }
      ]
    },
    {
      "cell_type": "code",
      "metadata": {
        "colab": {
          "base_uri": "https://localhost:8080/"
        },
        "id": "42RDcjnQaTx-",
        "outputId": "91cb966a-49a1-42df-f015-7440815ba413"
      },
      "source": [
        "print('평균 검증 정확도 : ', np.round(np.mean(scores),4))"
      ],
      "execution_count": 18,
      "outputs": [
        {
          "output_type": "stream",
          "text": [
            "평균 검증 정확도 :  0.9533\n"
          ],
          "name": "stdout"
        }
      ]
    },
    {
      "cell_type": "code",
      "metadata": {
        "colab": {
          "base_uri": "https://localhost:8080/"
        },
        "id": "Ky7uVcE-ahX2",
        "outputId": "00e85761-267a-4dd9-f47a-e94904064b62"
      },
      "source": [
        "scores = cross_validate(dt_clf, data, label, cv=5, scoring='accuracy')\r\n",
        "scores"
      ],
      "execution_count": 19,
      "outputs": [
        {
          "output_type": "execute_result",
          "data": {
            "text/plain": [
              "{'fit_time': array([0.0021131 , 0.00171137, 0.00270081, 0.00123382, 0.00085497]),\n",
              " 'score_time': array([0.00058079, 0.00053787, 0.00052571, 0.00044727, 0.00029802]),\n",
              " 'test_score': array([0.96666667, 0.96666667, 0.9       , 0.93333333, 1.        ])}"
            ]
          },
          "metadata": {
            "tags": []
          },
          "execution_count": 19
        }
      ]
    },
    {
      "cell_type": "markdown",
      "metadata": {
        "id": "BLydKZNXbcWZ"
      },
      "source": [
        "교차검증과 하이퍼파라미터를 한 번에 할 수 있는 방법\r\n",
        "- GridSearchCV"
      ]
    },
    {
      "cell_type": "markdown",
      "metadata": {
        "id": "Er4HIkfokJs6"
      },
      "source": [
        "- 엔트로피 이해"
      ]
    },
    {
      "cell_type": "code",
      "metadata": {
        "id": "SQBsyLg8kNGF"
      },
      "source": [
        "import numpy as np\r\n",
        "import pandas as pd\r\n",
        "import matplotlib.pyplot as plt\r\n",
        "import seaborn as sns"
      ],
      "execution_count": 20,
      "outputs": []
    },
    {
      "cell_type": "code",
      "metadata": {
        "id": "ATQ3-BtSkcPk"
      },
      "source": [
        "# 샘플 데이터 생성\r\n",
        "grp01 = np.array([0.3, 0.4, 0.3])\r\n",
        "grp02 = np.array([0.7, 0.2, 0.1])\r\n",
        "grp03 = np.array([0.01, 0.01, 0.98])"
      ],
      "execution_count": 22,
      "outputs": []
    },
    {
      "cell_type": "code",
      "metadata": {
        "colab": {
          "base_uri": "https://localhost:8080/",
          "height": 34
        },
        "id": "PDQ3s8c-kdHd",
        "outputId": "ab1c1912-99e2-4014-d0e4-c4c01c4702ef"
      },
      "source": [
        "from IPython.display import Image\r\n",
        "Image('c:/img/enptropy.png', width= 700)"
      ],
      "execution_count": 25,
      "outputs": [
        {
          "output_type": "execute_result",
          "data": {
            "image/png": "c:/img/enptropy.png",
            "text/plain": [
              "<IPython.core.display.Image object>"
            ]
          },
          "metadata": {
            "tags": [],
            "image/png": {
              "width": 700
            }
          },
          "execution_count": 25
        }
      ]
    },
    {
      "cell_type": "code",
      "metadata": {
        "id": "8SPwaWXpl9Nu"
      },
      "source": [
        "# 만약 3개 Yes 이고 2개 No 일 때, 엔트로피\r\n",
        "# H = -(2/5)log(2/5)-(3/5)log(3/5) = 0.971"
      ],
      "execution_count": 27,
      "outputs": []
    },
    {
      "cell_type": "code",
      "metadata": {
        "id": "vi51Vg9qmkPa"
      },
      "source": [
        "def entropy(x):\r\n",
        "    return (-x*np.log2(x)).sum()"
      ],
      "execution_count": 28,
      "outputs": []
    },
    {
      "cell_type": "code",
      "metadata": {
        "id": "UnJahB-Jm4Na"
      },
      "source": [
        "e01 = entropy(grp01)\r\n",
        "e02 = entropy(grp02)\r\n",
        "e03 = entropy(grp03)"
      ],
      "execution_count": 30,
      "outputs": []
    },
    {
      "cell_type": "code",
      "metadata": {
        "colab": {
          "base_uri": "https://localhost:8080/",
          "height": 320
        },
        "id": "FkoyF78Sm_wq",
        "outputId": "26656419-af44-4157-d637-0f3ab0faafee"
      },
      "source": [
        "plt.figure(figsize=(5,5))\r\n",
        "plt.bar(['grp01', 'grp02', 'grp03'], [e01, e02, e03])\r\n",
        "plt.show()\r\n",
        "plt.close()"
      ],
      "execution_count": 32,
      "outputs": [
        {
          "output_type": "display_data",
          "data": {
            "image/png": "[encoded data removed]",
            "text/plain": [
              "<Figure size 360x360 with 1 Axes>"
            ]
          },
          "metadata": {
            "tags": [],
            "needs_background": "light"
          }
        }
      ]
    },
    {
      "cell_type": "code",
      "metadata": {
        "id": "_v3R5UK4nIRU"
      },
      "source": [
        "import graphviz"
      ],
      "execution_count": 33,
      "outputs": []
    },
    {
      "cell_type": "code",
      "metadata": {
        "id": "pH-7BVp-nuDD"
      },
      "source": [
        "from sklearn.tree import DecisionTreeClassifier\r\n",
        "from sklearn.datasets import load_iris\r\n",
        "from sklearn.model_selection import train_test_split\r\n",
        "import warnings\r\n",
        "warnings.filterwarnings('ignore')"
      ],
      "execution_count": 35,
      "outputs": []
    },
    {
      "cell_type": "markdown",
      "metadata": {
        "id": "f8zEvT3lsv_B"
      },
      "source": [
        "- min_samples_split : 노드를 분리하기 위한 최소한의 샘플 수 (과적합을 제어할 때 사용)\r\n",
        "- min_samples_leaf : 리프노드가 되기위한 최소한의 샘플 수 (과적합을 제어할 때 사용)\r\n",
        "- max_features : feature의 갯수\r\n",
        "- max_depth : tree의 최대 깊이\r\n",
        "- max_leaf_nodes : 리프 노드의 최대 수"
      ]
    },
    {
      "cell_type": "code",
      "metadata": {
        "id": "DVq1vHtLoLAd"
      },
      "source": [
        "# 모델 생성\r\n",
        "dt_clf = DecisionTreeClassifier(random_state=100, criterion='entropy', max_depth = 3)\r\n",
        "\r\n",
        "X_train, X_test, y_train, y_test = train_test_split(iris_data.data, iris_data.target, test_size=0.2, random_state=100)"
      ],
      "execution_count": 48,
      "outputs": []
    },
    {
      "cell_type": "code",
      "metadata": {
        "colab": {
          "base_uri": "https://localhost:8080/"
        },
        "id": "1zGKcdW2odB8",
        "outputId": "a92b7301-0561-4f63-9d56-e0fc56615f6f"
      },
      "source": [
        "# 학습\r\n",
        "dt_clf.fit(X_train, y_train)"
      ],
      "execution_count": 49,
      "outputs": [
        {
          "output_type": "execute_result",
          "data": {
            "text/plain": [
              "DecisionTreeClassifier(ccp_alpha=0.0, class_weight=None, criterion='entropy',\n",
              "                       max_depth=3, max_features=None, max_leaf_nodes=None,\n",
              "                       min_impurity_decrease=0.0, min_impurity_split=None,\n",
              "                       min_samples_leaf=1, min_samples_split=2,\n",
              "                       min_weight_fraction_leaf=0.0, presort='deprecated',\n",
              "                       random_state=100, splitter='best')"
            ]
          },
          "metadata": {
            "tags": []
          },
          "execution_count": 49
        }
      ]
    },
    {
      "cell_type": "code",
      "metadata": {
        "id": "_GOh5Bwdorvr"
      },
      "source": [
        "from sklearn.tree import export_graphviz\r\n",
        "\r\n",
        "export_graphviz(dt_clf, \r\n",
        "                out_file = 'iris_tree.dot', \r\n",
        "                class_names = iris_data.target_names,\r\n",
        "                feature_names = iris_data.feature_names,\r\n",
        "                impurity = True,\r\n",
        "                filled = True)"
      ],
      "execution_count": 50,
      "outputs": []
    },
    {
      "cell_type": "code",
      "metadata": {
        "colab": {
          "base_uri": "https://localhost:8080/",
          "height": 597
        },
        "id": "kuHr4k7npdSj",
        "outputId": "2a06da95-3c8c-482f-d75e-dcdf213bca80"
      },
      "source": [
        "import os\r\n",
        "os.environ[\"PATH\"]+=os.pathsep+'C:/Program Files (x86)/Graphviz2.38/bin/'\r\n",
        "\r\n",
        "with open('iris_tree.dot') as f:\r\n",
        "    dot_graph = f.read()\r\n",
        "\r\n",
        "graphviz.Source(dot_graph)"
      ],
      "execution_count": 51,
      "outputs": [
        {
          "output_type": "execute_result",
          "data": {
            "text/plain": [
              "<graphviz.files.Source at 0x7fdbec2c0c10>"
            ],
            "image/svg+xml": "<?xml version=\"1.0\" encoding=\"UTF-8\" standalone=\"no\"?>\n<!DOCTYPE svg PUBLIC \"-//W3C//DTD SVG 1.1//EN\"\n \"http://www.w3.org/Graphics/SVG/1.1/DTD/svg11.dtd\">\n<!-- Generated by graphviz version 2.40.1 (20161225.0304)\n -->\n<!-- Title: Tree Pages: 1 -->\n<svg width=\"544pt\" height=\"433pt\"\n viewBox=\"0.00 0.00 544.00 433.00\" xmlns=\"http://www.w3.org/2000/svg\" xmlns:xlink=\"http://www.w3.org/1999/xlink\">\n<g id=\"graph0\" class=\"graph\" transform=\"scale(1 1) rotate(0) translate(4 429)\">\n<title>Tree</title>\n<polygon fill=\"#ffffff\" stroke=\"transparent\" points=\"-4,4 -4,-429 540,-429 540,4 -4,4\"/>\n<!-- 0 -->\n<g id=\"node1\" class=\"node\">\n<title>0</title>\n<polygon fill=\"#f3fdf7\" stroke=\"#000000\" points=\"270.5,-425 106.5,-425 106.5,-342 270.5,-342 270.5,-425\"/>\n<text text-anchor=\"middle\" x=\"188.5\" y=\"-409.8\" font-family=\"Times,serif\" font-size=\"14.00\" fill=\"#000000\">petal length (cm) &lt;= 2.45</text>\n<text text-anchor=\"middle\" x=\"188.5\" y=\"-394.8\" font-family=\"Times,serif\" font-size=\"14.00\" fill=\"#000000\">entropy = 1.581</text>\n<text text-anchor=\"middle\" x=\"188.5\" y=\"-379.8\" font-family=\"Times,serif\" font-size=\"14.00\" fill=\"#000000\">samples = 120</text>\n<text text-anchor=\"middle\" x=\"188.5\" y=\"-364.8\" font-family=\"Times,serif\" font-size=\"14.00\" fill=\"#000000\">value = [39, 44, 37]</text>\n<text text-anchor=\"middle\" x=\"188.5\" y=\"-349.8\" font-family=\"Times,serif\" font-size=\"14.00\" fill=\"#000000\">class = versicolor</text>\n</g>\n<!-- 1 -->\n<g id=\"node2\" class=\"node\">\n<title>1</title>\n<polygon fill=\"#e58139\" stroke=\"#000000\" points=\"169,-298.5 52,-298.5 52,-230.5 169,-230.5 169,-298.5\"/>\n<text text-anchor=\"middle\" x=\"110.5\" y=\"-283.3\" font-family=\"Times,serif\" font-size=\"14.00\" fill=\"#000000\">entropy = 0.0</text>\n<text text-anchor=\"middle\" x=\"110.5\" y=\"-268.3\" font-family=\"Times,serif\" font-size=\"14.00\" fill=\"#000000\">samples = 39</text>\n<text text-anchor=\"middle\" x=\"110.5\" y=\"-253.3\" font-family=\"Times,serif\" font-size=\"14.00\" fill=\"#000000\">value = [39, 0, 0]</text>\n<text text-anchor=\"middle\" x=\"110.5\" y=\"-238.3\" font-family=\"Times,serif\" font-size=\"14.00\" fill=\"#000000\">class = setosa</text>\n</g>\n<!-- 0&#45;&gt;1 -->\n<g id=\"edge1\" class=\"edge\">\n<title>0&#45;&gt;1</title>\n<path fill=\"none\" stroke=\"#000000\" d=\"M161.2194,-341.8796C153.8677,-330.6636 145.9036,-318.5131 138.5126,-307.2372\"/>\n<polygon fill=\"#000000\" stroke=\"#000000\" points=\"141.4014,-305.2598 132.9921,-298.8149 135.5469,-309.0972 141.4014,-305.2598\"/>\n<text text-anchor=\"middle\" x=\"127.8982\" y=\"-319.5905\" font-family=\"Times,serif\" font-size=\"14.00\" fill=\"#000000\">True</text>\n</g>\n<!-- 2 -->\n<g id=\"node3\" class=\"node\">\n<title>2</title>\n<polygon fill=\"#e0fbeb\" stroke=\"#000000\" points=\"348,-306 187,-306 187,-223 348,-223 348,-306\"/>\n<text text-anchor=\"middle\" x=\"267.5\" y=\"-290.8\" font-family=\"Times,serif\" font-size=\"14.00\" fill=\"#000000\">petal width (cm) &lt;= 1.65</text>\n<text text-anchor=\"middle\" x=\"267.5\" y=\"-275.8\" font-family=\"Times,serif\" font-size=\"14.00\" fill=\"#000000\">entropy = 0.995</text>\n<text text-anchor=\"middle\" x=\"267.5\" y=\"-260.8\" font-family=\"Times,serif\" font-size=\"14.00\" fill=\"#000000\">samples = 81</text>\n<text text-anchor=\"middle\" x=\"267.5\" y=\"-245.8\" font-family=\"Times,serif\" font-size=\"14.00\" fill=\"#000000\">value = [0, 44, 37]</text>\n<text text-anchor=\"middle\" x=\"267.5\" y=\"-230.8\" font-family=\"Times,serif\" font-size=\"14.00\" fill=\"#000000\">class = versicolor</text>\n</g>\n<!-- 0&#45;&gt;2 -->\n<g id=\"edge2\" class=\"edge\">\n<title>0&#45;&gt;2</title>\n<path fill=\"none\" stroke=\"#000000\" d=\"M216.1304,-341.8796C221.93,-333.1434 228.1059,-323.8404 234.0908,-314.8253\"/>\n<polygon fill=\"#000000\" stroke=\"#000000\" points=\"237.1368,-316.5652 239.7517,-306.2981 231.3049,-312.6935 237.1368,-316.5652\"/>\n<text text-anchor=\"middle\" x=\"244.7022\" y=\"-327.103\" font-family=\"Times,serif\" font-size=\"14.00\" fill=\"#000000\">False</text>\n</g>\n<!-- 3 -->\n<g id=\"node4\" class=\"node\">\n<title>3</title>\n<polygon fill=\"#4be78d\" stroke=\"#000000\" points=\"258.5,-187 94.5,-187 94.5,-104 258.5,-104 258.5,-187\"/>\n<text text-anchor=\"middle\" x=\"176.5\" y=\"-171.8\" font-family=\"Times,serif\" font-size=\"14.00\" fill=\"#000000\">petal length (cm) &lt;= 4.95</text>\n<text text-anchor=\"middle\" x=\"176.5\" y=\"-156.8\" font-family=\"Times,serif\" font-size=\"14.00\" fill=\"#000000\">entropy = 0.42</text>\n<text text-anchor=\"middle\" x=\"176.5\" y=\"-141.8\" font-family=\"Times,serif\" font-size=\"14.00\" fill=\"#000000\">samples = 47</text>\n<text text-anchor=\"middle\" x=\"176.5\" y=\"-126.8\" font-family=\"Times,serif\" font-size=\"14.00\" fill=\"#000000\">value = [0, 43, 4]</text>\n<text text-anchor=\"middle\" x=\"176.5\" y=\"-111.8\" font-family=\"Times,serif\" font-size=\"14.00\" fill=\"#000000\">class = versicolor</text>\n</g>\n<!-- 2&#45;&gt;3 -->\n<g id=\"edge3\" class=\"edge\">\n<title>2&#45;&gt;3</title>\n<path fill=\"none\" stroke=\"#000000\" d=\"M235.6726,-222.8796C228.8543,-213.9633 221.5844,-204.4565 214.5579,-195.268\"/>\n<polygon fill=\"#000000\" stroke=\"#000000\" points=\"217.318,-193.1156 208.4632,-187.2981 211.7575,-197.3678 217.318,-193.1156\"/>\n</g>\n<!-- 6 -->\n<g id=\"node7\" class=\"node\">\n<title>6</title>\n<polygon fill=\"#853fe6\" stroke=\"#000000\" points=\"440.5,-187 276.5,-187 276.5,-104 440.5,-104 440.5,-187\"/>\n<text text-anchor=\"middle\" x=\"358.5\" y=\"-171.8\" font-family=\"Times,serif\" font-size=\"14.00\" fill=\"#000000\">petal length (cm) &lt;= 4.85</text>\n<text text-anchor=\"middle\" x=\"358.5\" y=\"-156.8\" font-family=\"Times,serif\" font-size=\"14.00\" fill=\"#000000\">entropy = 0.191</text>\n<text text-anchor=\"middle\" x=\"358.5\" y=\"-141.8\" font-family=\"Times,serif\" font-size=\"14.00\" fill=\"#000000\">samples = 34</text>\n<text text-anchor=\"middle\" x=\"358.5\" y=\"-126.8\" font-family=\"Times,serif\" font-size=\"14.00\" fill=\"#000000\">value = [0, 1, 33]</text>\n<text text-anchor=\"middle\" x=\"358.5\" y=\"-111.8\" font-family=\"Times,serif\" font-size=\"14.00\" fill=\"#000000\">class = virginica</text>\n</g>\n<!-- 2&#45;&gt;6 -->\n<g id=\"edge6\" class=\"edge\">\n<title>2&#45;&gt;6</title>\n<path fill=\"none\" stroke=\"#000000\" d=\"M299.3274,-222.8796C306.1457,-213.9633 313.4156,-204.4565 320.4421,-195.268\"/>\n<polygon fill=\"#000000\" stroke=\"#000000\" points=\"323.2425,-197.3678 326.5368,-187.2981 317.682,-193.1156 323.2425,-197.3678\"/>\n</g>\n<!-- 4 -->\n<g id=\"node5\" class=\"node\">\n<title>4</title>\n<polygon fill=\"#39e581\" stroke=\"#000000\" points=\"117,-68 0,-68 0,0 117,0 117,-68\"/>\n<text text-anchor=\"middle\" x=\"58.5\" y=\"-52.8\" font-family=\"Times,serif\" font-size=\"14.00\" fill=\"#000000\">entropy = 0.0</text>\n<text text-anchor=\"middle\" x=\"58.5\" y=\"-37.8\" font-family=\"Times,serif\" font-size=\"14.00\" fill=\"#000000\">samples = 42</text>\n<text text-anchor=\"middle\" x=\"58.5\" y=\"-22.8\" font-family=\"Times,serif\" font-size=\"14.00\" fill=\"#000000\">value = [0, 42, 0]</text>\n<text text-anchor=\"middle\" x=\"58.5\" y=\"-7.8\" font-family=\"Times,serif\" font-size=\"14.00\" fill=\"#000000\">class = versicolor</text>\n</g>\n<!-- 3&#45;&gt;4 -->\n<g id=\"edge4\" class=\"edge\">\n<title>3&#45;&gt;4</title>\n<path fill=\"none\" stroke=\"#000000\" d=\"M132.5612,-103.9815C122.6402,-94.607 112.1103,-84.6572 102.1992,-75.2921\"/>\n<polygon fill=\"#000000\" stroke=\"#000000\" points=\"104.4334,-72.5878 94.7611,-68.2637 99.6257,-77.6757 104.4334,-72.5878\"/>\n</g>\n<!-- 5 -->\n<g id=\"node6\" class=\"node\">\n<title>5</title>\n<polygon fill=\"#a06aec\" stroke=\"#000000\" points=\"245.5,-68 135.5,-68 135.5,0 245.5,0 245.5,-68\"/>\n<text text-anchor=\"middle\" x=\"190.5\" y=\"-52.8\" font-family=\"Times,serif\" font-size=\"14.00\" fill=\"#000000\">entropy = 0.722</text>\n<text text-anchor=\"middle\" x=\"190.5\" y=\"-37.8\" font-family=\"Times,serif\" font-size=\"14.00\" fill=\"#000000\">samples = 5</text>\n<text text-anchor=\"middle\" x=\"190.5\" y=\"-22.8\" font-family=\"Times,serif\" font-size=\"14.00\" fill=\"#000000\">value = [0, 1, 4]</text>\n<text text-anchor=\"middle\" x=\"190.5\" y=\"-7.8\" font-family=\"Times,serif\" font-size=\"14.00\" fill=\"#000000\">class = virginica</text>\n</g>\n<!-- 3&#45;&gt;5 -->\n<g id=\"edge5\" class=\"edge\">\n<title>3&#45;&gt;5</title>\n<path fill=\"none\" stroke=\"#000000\" d=\"M181.7131,-103.9815C182.7632,-95.618 183.8708,-86.7965 184.9325,-78.3409\"/>\n<polygon fill=\"#000000\" stroke=\"#000000\" points=\"188.4247,-78.6218 186.1978,-68.2637 181.4792,-77.7497 188.4247,-78.6218\"/>\n</g>\n<!-- 7 -->\n<g id=\"node8\" class=\"node\">\n<title>7</title>\n<polygon fill=\"#ab7bee\" stroke=\"#000000\" points=\"400.5,-68 290.5,-68 290.5,0 400.5,0 400.5,-68\"/>\n<text text-anchor=\"middle\" x=\"345.5\" y=\"-52.8\" font-family=\"Times,serif\" font-size=\"14.00\" fill=\"#000000\">entropy = 0.811</text>\n<text text-anchor=\"middle\" x=\"345.5\" y=\"-37.8\" font-family=\"Times,serif\" font-size=\"14.00\" fill=\"#000000\">samples = 4</text>\n<text text-anchor=\"middle\" x=\"345.5\" y=\"-22.8\" font-family=\"Times,serif\" font-size=\"14.00\" fill=\"#000000\">value = [0, 1, 3]</text>\n<text text-anchor=\"middle\" x=\"345.5\" y=\"-7.8\" font-family=\"Times,serif\" font-size=\"14.00\" fill=\"#000000\">class = virginica</text>\n</g>\n<!-- 6&#45;&gt;7 -->\n<g id=\"edge7\" class=\"edge\">\n<title>6&#45;&gt;7</title>\n<path fill=\"none\" stroke=\"#000000\" d=\"M353.6593,-103.9815C352.6842,-95.618 351.6557,-86.7965 350.6698,-78.3409\"/>\n<polygon fill=\"#000000\" stroke=\"#000000\" points=\"354.1295,-77.791 349.4949,-68.2637 347.1766,-78.6017 354.1295,-77.791\"/>\n</g>\n<!-- 8 -->\n<g id=\"node9\" class=\"node\">\n<title>8</title>\n<polygon fill=\"#8139e5\" stroke=\"#000000\" points=\"536,-68 419,-68 419,0 536,0 536,-68\"/>\n<text text-anchor=\"middle\" x=\"477.5\" y=\"-52.8\" font-family=\"Times,serif\" font-size=\"14.00\" fill=\"#000000\">entropy = 0.0</text>\n<text text-anchor=\"middle\" x=\"477.5\" y=\"-37.8\" font-family=\"Times,serif\" font-size=\"14.00\" fill=\"#000000\">samples = 30</text>\n<text text-anchor=\"middle\" x=\"477.5\" y=\"-22.8\" font-family=\"Times,serif\" font-size=\"14.00\" fill=\"#000000\">value = [0, 0, 30]</text>\n<text text-anchor=\"middle\" x=\"477.5\" y=\"-7.8\" font-family=\"Times,serif\" font-size=\"14.00\" fill=\"#000000\">class = virginica</text>\n</g>\n<!-- 6&#45;&gt;8 -->\n<g id=\"edge8\" class=\"edge\">\n<title>6&#45;&gt;8</title>\n<path fill=\"none\" stroke=\"#000000\" d=\"M402.8112,-103.9815C412.8163,-94.607 423.4354,-84.6572 433.4304,-75.2921\"/>\n<polygon fill=\"#000000\" stroke=\"#000000\" points=\"436.0274,-77.6551 440.9316,-68.2637 431.2412,-72.547 436.0274,-77.6551\"/>\n</g>\n</g>\n</svg>\n"
          },
          "metadata": {
            "tags": []
          },
          "execution_count": 51
        }
      ]
    },
    {
      "cell_type": "markdown",
      "metadata": {
        "id": "AAkTugnwyATv"
      },
      "source": [
        "Grid Search CV ( estimator , param_grid .....etc )"
      ]
    },
    {
      "cell_type": "code",
      "metadata": {
        "id": "PoE1BSsyyDxw"
      },
      "source": [
        "from sklearn.tree import DecisionTreeClassifier\r\n",
        "from sklearn.datasets import load_iris\r\n",
        "from sklearn.model_selection import train_test_split, GridSearchCV\r\n",
        "from sklearn.metrics import accuracy_score\r\n",
        "\r\n",
        "import numpy as np\r\n",
        "import pandas as pd\r\n",
        "\r\n",
        "import warnings\r\n",
        "warnings.filterwarnings('ignore')"
      ],
      "execution_count": 56,
      "outputs": []
    },
    {
      "cell_type": "markdown",
      "metadata": {
        "id": "PO4bLIJlygY-"
      },
      "source": [
        "- estimator : 분류기(알고리즘)\r\n",
        "- param_grid : { param : value, param : value....} \r\n",
        "- scoring : 평가방법을 지정\r\n",
        "- refit : True( 최적의 하이퍼 파라미터를 찾는 재학습 ) "
      ]
    },
    {
      "cell_type": "code",
      "metadata": {
        "id": "Yl6Ub5bgzETc"
      },
      "source": [
        "#grid_parameter = {'max_depth' : [1,2,3] , \r\n",
        "                  #'min_samples_split' : [2, 3]}"
      ],
      "execution_count": 52,
      "outputs": []
    },
    {
      "cell_type": "code",
      "metadata": {
        "id": "tuiLvKk0z2JU"
      },
      "source": [
        "# pd.read_csv('Grid.csv', index_col='순번')"
      ],
      "execution_count": 53,
      "outputs": []
    },
    {
      "cell_type": "code",
      "metadata": {
        "id": "54a-2xS_z_PX"
      },
      "source": [
        "dt_clf = DecisionTreeClassifier(random_state=100)\r\n",
        "\r\n",
        "X_train, X_test, y_train, y_test = train_test_split(iris_data.data, iris_data.target, test_size=0.2, random_state=100)\r\n",
        "\r\n",
        "grid_parameter = {'max_depth' : [1,2,3] , \r\n",
        "                  'min_samples_split' : [2, 3]}"
      ],
      "execution_count": 57,
      "outputs": []
    },
    {
      "cell_type": "code",
      "metadata": {
        "colab": {
          "base_uri": "https://localhost:8080/"
        },
        "id": "gnM4aZgD0eck",
        "outputId": "292ad49d-582e-4b73-b5f1-2f0a748c062c"
      },
      "source": [
        "dt_searchCV = GridSearchCV(dt_clf, param_grid = grid_parameter, cv = 3, refit=True)\r\n",
        "dt_searchCV.fit(X_train, y_train)"
      ],
      "execution_count": 59,
      "outputs": [
        {
          "output_type": "execute_result",
          "data": {
            "text/plain": [
              "GridSearchCV(cv=3, error_score=nan,\n",
              "             estimator=DecisionTreeClassifier(ccp_alpha=0.0, class_weight=None,\n",
              "                                              criterion='gini', max_depth=None,\n",
              "                                              max_features=None,\n",
              "                                              max_leaf_nodes=None,\n",
              "                                              min_impurity_decrease=0.0,\n",
              "                                              min_impurity_split=None,\n",
              "                                              min_samples_leaf=1,\n",
              "                                              min_samples_split=2,\n",
              "                                              min_weight_fraction_leaf=0.0,\n",
              "                                              presort='deprecated',\n",
              "                                              random_state=100,\n",
              "                                              splitter='best'),\n",
              "             iid='deprecated', n_jobs=None,\n",
              "             param_grid={'max_depth': [1, 2, 3], 'min_samples_split': [2, 3]},\n",
              "             pre_dispatch='2*n_jobs', refit=True, return_train_score=False,\n",
              "             scoring=None, verbose=0)"
            ]
          },
          "metadata": {
            "tags": []
          },
          "execution_count": 59
        }
      ]
    },
    {
      "cell_type": "code",
      "metadata": {
        "colab": {
          "base_uri": "https://localhost:8080/"
        },
        "id": "8jIO_zQx037N",
        "outputId": "96d2c5e7-6ce6-4754-e7df-308420d86604"
      },
      "source": [
        "dt_searchCV.cv_results_"
      ],
      "execution_count": 60,
      "outputs": [
        {
          "output_type": "execute_result",
          "data": {
            "text/plain": [
              "{'mean_fit_time': array([0.00155973, 0.0007836 , 0.00083717, 0.0007635 , 0.00071414,\n",
              "        0.00064468]),\n",
              " 'mean_score_time': array([0.00041509, 0.00031908, 0.00040634, 0.00030923, 0.00029016,\n",
              "        0.00025519]),\n",
              " 'mean_test_score': array([0.69166667, 0.69166667, 0.95      , 0.95      , 0.975     ,\n",
              "        0.975     ]),\n",
              " 'param_max_depth': masked_array(data=[1, 1, 2, 2, 3, 3],\n",
              "              mask=[False, False, False, False, False, False],\n",
              "        fill_value='?',\n",
              "             dtype=object),\n",
              " 'param_min_samples_split': masked_array(data=[2, 3, 2, 3, 2, 3],\n",
              "              mask=[False, False, False, False, False, False],\n",
              "        fill_value='?',\n",
              "             dtype=object),\n",
              " 'params': [{'max_depth': 1, 'min_samples_split': 2},\n",
              "  {'max_depth': 1, 'min_samples_split': 3},\n",
              "  {'max_depth': 2, 'min_samples_split': 2},\n",
              "  {'max_depth': 2, 'min_samples_split': 3},\n",
              "  {'max_depth': 3, 'min_samples_split': 2},\n",
              "  {'max_depth': 3, 'min_samples_split': 3}],\n",
              " 'rank_test_score': array([5, 5, 3, 3, 1, 1], dtype=int32),\n",
              " 'split0_test_score': array([0.7 , 0.7 , 0.95, 0.95, 0.95, 0.95]),\n",
              " 'split1_test_score': array([0.7  , 0.7  , 0.9  , 0.9  , 0.975, 0.975]),\n",
              " 'split2_test_score': array([0.675, 0.675, 1.   , 1.   , 1.   , 1.   ]),\n",
              " 'std_fit_time': array([8.13099571e-04, 3.33430085e-05, 4.04386462e-05, 3.90455263e-05,\n",
              "        6.65961700e-06, 6.78830354e-06]),\n",
              " 'std_score_time': array([1.29811856e-04, 2.55729783e-05, 9.71048430e-05, 1.09620704e-05,\n",
              "        2.10574586e-05, 5.35366370e-06]),\n",
              " 'std_test_score': array([0.01178511, 0.01178511, 0.04082483, 0.04082483, 0.02041241,\n",
              "        0.02041241])}"
            ]
          },
          "metadata": {
            "tags": []
          },
          "execution_count": 60
        }
      ]
    },
    {
      "cell_type": "code",
      "metadata": {
        "colab": {
          "base_uri": "https://localhost:8080/",
          "height": 459
        },
        "id": "GxUIqdpf1XoP",
        "outputId": "d886f94c-6631-49cf-da36-ed97b5a3692c"
      },
      "source": [
        "scoreDF = pd.DataFrame(dt_searchCV.cv_results_)\r\n",
        "scoreDF"
      ],
      "execution_count": 61,
      "outputs": [
        {
          "output_type": "execute_result",
          "data": {
            "text/html": [
              "<div>\n",
              "<style scoped>\n",
              "    .dataframe tbody tr th:only-of-type {\n",
              "        vertical-align: middle;\n",
              "    }\n",
              "\n",
              "    .dataframe tbody tr th {\n",
              "        vertical-align: top;\n",
              "    }\n",
              "\n",
              "    .dataframe thead th {\n",
              "        text-align: right;\n",
              "    }\n",
              "</style>\n",
              "<table border=\"1\" class=\"dataframe\">\n",
              "  <thead>\n",
              "    <tr style=\"text-align: right;\">\n",
              "      <th></th>\n",
              "      <th>mean_fit_time</th>\n",
              "      <th>std_fit_time</th>\n",
              "      <th>mean_score_time</th>\n",
              "      <th>std_score_time</th>\n",
              "      <th>param_max_depth</th>\n",
              "      <th>param_min_samples_split</th>\n",
              "      <th>params</th>\n",
              "      <th>split0_test_score</th>\n",
              "      <th>split1_test_score</th>\n",
              "      <th>split2_test_score</th>\n",
              "      <th>mean_test_score</th>\n",
              "      <th>std_test_score</th>\n",
              "      <th>rank_test_score</th>\n",
              "    </tr>\n",
              "  </thead>\n",
              "  <tbody>\n",
              "    <tr>\n",
              "      <th>0</th>\n",
              "      <td>0.001560</td>\n",
              "      <td>0.000813</td>\n",
              "      <td>0.000415</td>\n",
              "      <td>0.000130</td>\n",
              "      <td>1</td>\n",
              "      <td>2</td>\n",
              "      <td>{'max_depth': 1, 'min_samples_split': 2}</td>\n",
              "      <td>0.70</td>\n",
              "      <td>0.700</td>\n",
              "      <td>0.675</td>\n",
              "      <td>0.691667</td>\n",
              "      <td>0.011785</td>\n",
              "      <td>5</td>\n",
              "    </tr>\n",
              "    <tr>\n",
              "      <th>1</th>\n",
              "      <td>0.000784</td>\n",
              "      <td>0.000033</td>\n",
              "      <td>0.000319</td>\n",
              "      <td>0.000026</td>\n",
              "      <td>1</td>\n",
              "      <td>3</td>\n",
              "      <td>{'max_depth': 1, 'min_samples_split': 3}</td>\n",
              "      <td>0.70</td>\n",
              "      <td>0.700</td>\n",
              "      <td>0.675</td>\n",
              "      <td>0.691667</td>\n",
              "      <td>0.011785</td>\n",
              "      <td>5</td>\n",
              "    </tr>\n",
              "    <tr>\n",
              "      <th>2</th>\n",
              "      <td>0.000837</td>\n",
              "      <td>0.000040</td>\n",
              "      <td>0.000406</td>\n",
              "      <td>0.000097</td>\n",
              "      <td>2</td>\n",
              "      <td>2</td>\n",
              "      <td>{'max_depth': 2, 'min_samples_split': 2}</td>\n",
              "      <td>0.95</td>\n",
              "      <td>0.900</td>\n",
              "      <td>1.000</td>\n",
              "      <td>0.950000</td>\n",
              "      <td>0.040825</td>\n",
              "      <td>3</td>\n",
              "    </tr>\n",
              "    <tr>\n",
              "      <th>3</th>\n",
              "      <td>0.000763</td>\n",
              "      <td>0.000039</td>\n",
              "      <td>0.000309</td>\n",
              "      <td>0.000011</td>\n",
              "      <td>2</td>\n",
              "      <td>3</td>\n",
              "      <td>{'max_depth': 2, 'min_samples_split': 3}</td>\n",
              "      <td>0.95</td>\n",
              "      <td>0.900</td>\n",
              "      <td>1.000</td>\n",
              "      <td>0.950000</td>\n",
              "      <td>0.040825</td>\n",
              "      <td>3</td>\n",
              "    </tr>\n",
              "    <tr>\n",
              "      <th>4</th>\n",
              "      <td>0.000714</td>\n",
              "      <td>0.000007</td>\n",
              "      <td>0.000290</td>\n",
              "      <td>0.000021</td>\n",
              "      <td>3</td>\n",
              "      <td>2</td>\n",
              "      <td>{'max_depth': 3, 'min_samples_split': 2}</td>\n",
              "      <td>0.95</td>\n",
              "      <td>0.975</td>\n",
              "      <td>1.000</td>\n",
              "      <td>0.975000</td>\n",
              "      <td>0.020412</td>\n",
              "      <td>1</td>\n",
              "    </tr>\n",
              "    <tr>\n",
              "      <th>5</th>\n",
              "      <td>0.000645</td>\n",
              "      <td>0.000007</td>\n",
              "      <td>0.000255</td>\n",
              "      <td>0.000005</td>\n",
              "      <td>3</td>\n",
              "      <td>3</td>\n",
              "      <td>{'max_depth': 3, 'min_samples_split': 3}</td>\n",
              "      <td>0.95</td>\n",
              "      <td>0.975</td>\n",
              "      <td>1.000</td>\n",
              "      <td>0.975000</td>\n",
              "      <td>0.020412</td>\n",
              "      <td>1</td>\n",
              "    </tr>\n",
              "  </tbody>\n",
              "</table>\n",
              "</div>"
            ],
            "text/plain": [
              "   mean_fit_time  std_fit_time  ...  std_test_score  rank_test_score\n",
              "0       0.001560      0.000813  ...        0.011785                5\n",
              "1       0.000784      0.000033  ...        0.011785                5\n",
              "2       0.000837      0.000040  ...        0.040825                3\n",
              "3       0.000763      0.000039  ...        0.040825                3\n",
              "4       0.000714      0.000007  ...        0.020412                1\n",
              "5       0.000645      0.000007  ...        0.020412                1\n",
              "\n",
              "[6 rows x 13 columns]"
            ]
          },
          "metadata": {
            "tags": []
          },
          "execution_count": 61
        }
      ]
    },
    {
      "cell_type": "code",
      "metadata": {
        "colab": {
          "base_uri": "https://localhost:8080/",
          "height": 235
        },
        "id": "NleFAPge1tmY",
        "outputId": "f49e3721-24db-4980-bdf0-8b46c05cd689"
      },
      "source": [
        "scoreDF[['params', 'rank_test_score']] # 튜닝할 때 max_depth : 3 , min_samples_split: 2, 3 의 성능이 최고라는 걸 표현해주는 것"
      ],
      "execution_count": 63,
      "outputs": [
        {
          "output_type": "execute_result",
          "data": {
            "text/html": [
              "<div>\n",
              "<style scoped>\n",
              "    .dataframe tbody tr th:only-of-type {\n",
              "        vertical-align: middle;\n",
              "    }\n",
              "\n",
              "    .dataframe tbody tr th {\n",
              "        vertical-align: top;\n",
              "    }\n",
              "\n",
              "    .dataframe thead th {\n",
              "        text-align: right;\n",
              "    }\n",
              "</style>\n",
              "<table border=\"1\" class=\"dataframe\">\n",
              "  <thead>\n",
              "    <tr style=\"text-align: right;\">\n",
              "      <th></th>\n",
              "      <th>params</th>\n",
              "      <th>rank_test_score</th>\n",
              "    </tr>\n",
              "  </thead>\n",
              "  <tbody>\n",
              "    <tr>\n",
              "      <th>0</th>\n",
              "      <td>{'max_depth': 1, 'min_samples_split': 2}</td>\n",
              "      <td>5</td>\n",
              "    </tr>\n",
              "    <tr>\n",
              "      <th>1</th>\n",
              "      <td>{'max_depth': 1, 'min_samples_split': 3}</td>\n",
              "      <td>5</td>\n",
              "    </tr>\n",
              "    <tr>\n",
              "      <th>2</th>\n",
              "      <td>{'max_depth': 2, 'min_samples_split': 2}</td>\n",
              "      <td>3</td>\n",
              "    </tr>\n",
              "    <tr>\n",
              "      <th>3</th>\n",
              "      <td>{'max_depth': 2, 'min_samples_split': 3}</td>\n",
              "      <td>3</td>\n",
              "    </tr>\n",
              "    <tr>\n",
              "      <th>4</th>\n",
              "      <td>{'max_depth': 3, 'min_samples_split': 2}</td>\n",
              "      <td>1</td>\n",
              "    </tr>\n",
              "    <tr>\n",
              "      <th>5</th>\n",
              "      <td>{'max_depth': 3, 'min_samples_split': 3}</td>\n",
              "      <td>1</td>\n",
              "    </tr>\n",
              "  </tbody>\n",
              "</table>\n",
              "</div>"
            ],
            "text/plain": [
              "                                     params  rank_test_score\n",
              "0  {'max_depth': 1, 'min_samples_split': 2}                5\n",
              "1  {'max_depth': 1, 'min_samples_split': 3}                5\n",
              "2  {'max_depth': 2, 'min_samples_split': 2}                3\n",
              "3  {'max_depth': 2, 'min_samples_split': 3}                3\n",
              "4  {'max_depth': 3, 'min_samples_split': 2}                1\n",
              "5  {'max_depth': 3, 'min_samples_split': 3}                1"
            ]
          },
          "metadata": {
            "tags": []
          },
          "execution_count": 63
        }
      ]
    },
    {
      "cell_type": "code",
      "metadata": {
        "colab": {
          "base_uri": "https://localhost:8080/"
        },
        "id": "dwqLoT8r15JY",
        "outputId": "44f4bd68-cfd0-493b-a43f-ea25ceb9a59e"
      },
      "source": [
        "print('최적의 파라미터 :', dt_searchCV.best_params_)\r\n",
        "print('최적의 정확도 :', dt_searchCV.best_score_)\r\n",
        "print('최적의 Estimator :', dt_searchCV.best_estimator_)"
      ],
      "execution_count": 66,
      "outputs": [
        {
          "output_type": "stream",
          "text": [
            "최적의 파라미터 : {'max_depth': 3, 'min_samples_split': 2}\n",
            "최적의 정확도 : 0.975\n",
            "최적의 Estimator : DecisionTreeClassifier(ccp_alpha=0.0, class_weight=None, criterion='gini',\n",
            "                       max_depth=3, max_features=None, max_leaf_nodes=None,\n",
            "                       min_impurity_decrease=0.0, min_impurity_split=None,\n",
            "                       min_samples_leaf=1, min_samples_split=2,\n",
            "                       min_weight_fraction_leaf=0.0, presort='deprecated',\n",
            "                       random_state=100, splitter='best')\n"
          ],
          "name": "stdout"
        }
      ]
    },
    {
      "cell_type": "code",
      "metadata": {
        "colab": {
          "base_uri": "https://localhost:8080/"
        },
        "id": "cjnUK53h3RnX",
        "outputId": "ce3830d5-66af-4a22-ae9f-1520ede2826e"
      },
      "source": [
        "model = dt_searchCV.best_estimator_\r\n",
        "pred = model.predict(X_test)\r\n",
        "\r\n",
        "print('모델 정확도 : ', accuracy_score(y_test, pred))"
      ],
      "execution_count": 67,
      "outputs": [
        {
          "output_type": "stream",
          "text": [
            "모델 정확도 :  0.9666666666666667\n"
          ],
          "name": "stdout"
        }
      ]
    },
    {
      "cell_type": "code",
      "metadata": {
        "id": "O-p2mfhL4YQ_"
      },
      "source": [
        ""
      ],
      "execution_count": null,
      "outputs": []
    }
  ]
}